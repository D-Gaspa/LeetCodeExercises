{
 "cells": [
  {
   "metadata": {},
   "cell_type": "markdown",
   "source": "# June, 2024",
   "id": "913f7f5b980a0d7a"
  },
  {
   "metadata": {},
   "cell_type": "markdown",
   "source": [
    "# Week 1 -> 1940. Longest Common Subsequence Between Sorted Arrays\n",
    "\n",
    "Given an array of integer arrays `arrays` where each `arrays[i]` is sorted in **strictly increasing** order, return *an integer array representing the **longest common subsequence** between **all** the arrays*.\n",
    "\n",
    "A **subsequence** is a sequence that can be derived from another sequence by deleting some elements (possibly none) without changing the order of the remaining elements.\n",
    "\n",
    "**Example 1:**\n",
    "\n",
    "- **Input:** arrays = [[1,3,4], [1,4,7,9]]\n",
    "- **Output:** [1,4]\n",
    "- **Explanation:** The longest common subsequence in the two arrays is [1,4].\n",
    "\n",
    "**Example 2:**\n",
    "\n",
    "- **Input:** arrays = [[2,3,6,8], [1,2,3,5,6,7,10], [2,3,4,6,9]]\n",
    "- **Output:** [2,3,6]\n",
    "- **Explanation:** The longest common subsequence in all three arrays is [2,3,6].\n",
    "\n",
    "**Example 3:**\n",
    "\n",
    "- **Input:** arrays = [[1,2,3,4,5], [6,7,8]]\n",
    "- **Output:** []\n",
    "- **Explanation:** There is no common subsequence between the two arrays.\n",
    "\n",
    "**Constraints:**\n",
    "\n",
    "- `2 <= arrays.length <= 100`\n",
    "- `1 <= arrays[i].length <= 100`\n",
    "- `1 <= arrays[i][j] <= 100`\n",
    "- `arrays[i]` is sorted in **strictly increasing** order."
   ],
   "id": "66cb54eec5b01e5e"
  },
  {
   "metadata": {},
   "cell_type": "markdown",
   "source": "## Approach 1: Binary Search",
   "id": "8933c590a380bdf3"
  },
  {
   "metadata": {
    "ExecuteTime": {
     "end_time": "2024-06-06T00:58:17.500307Z",
     "start_time": "2024-06-06T00:58:17.494450Z"
    }
   },
   "cell_type": "code",
   "source": [
    "import bisect\n",
    "from typing import List\n",
    "\n",
    "\n",
    "def longestCommonSubsequence1(arrays: List[List[int]]) -> List[int]:\n",
    "    \"\"\"\n",
    "    Finds the longest common subsequence present in the given list of sorted arrays.\n",
    "    \n",
    "    This function performs a preliminary check to identify the smallest array, then checks for numbers in this\n",
    "    array across all other arrays in the list using a helper binary search function. \n",
    "\n",
    "    The time complexity of this solution is O(n * m * log(k)), skewed towards the smallest size of the arrays.\n",
    "    Where n is the number of elements in the smallest array, m is the total number of arrays, \n",
    "    and k is the average length of the arrays. \n",
    "\n",
    "    The space complexity is O(L), where L is the length of the longest common subsequence.\n",
    "    \"\"\"\n",
    "\n",
    "    def binary_search(array, num):\n",
    "        \"\"\"Helper function to perform binary search for 'num' in 'array'.\"\"\"\n",
    "        index = bisect.bisect_left(array, num)\n",
    "        if index != len(array) and array[index] == num:  # Check if 'num' exists at the insertion point\n",
    "            return True\n",
    "        else:\n",
    "            return False\n",
    "\n",
    "    # Identify the smallest array first\n",
    "    smallest_array = min(arrays, key=len)\n",
    "    arrays.remove(smallest_array)\n",
    "\n",
    "    common_subsequences = []\n",
    "\n",
    "    for num in smallest_array:\n",
    "        if all(binary_search(array, num) for array in arrays):  # Check if 'num' is present in all other arrays\n",
    "            common_subsequences.append(num)\n",
    "\n",
    "    return common_subsequences"
   ],
   "id": "c7bf716e92a8b1bc",
   "outputs": [],
   "execution_count": 1
  },
  {
   "metadata": {},
   "cell_type": "markdown",
   "source": [
    "### Understanding the Core Idea\n",
    "\n",
    "The core idea of this solution is to optimize the search for common elements in multiple sorted arrays by focusing on the smallest array. It leverages binary search to efficiently check if elements from the smallest array exist in all other arrays. This approach reduces the overall search space and time complexity compared to a naive brute-force method.\n",
    "\n",
    "- **Binary Search:** Utilizes the fact that the arrays are sorted to perform efficient logarithmic-time searches for elements.\n",
    "- **Smallest Array Focus:** By iterating through the smallest array, we minimize the number of elements that need to be checked across all arrays, leading to a potential performance improvement.\n",
    "- **Common Subsequence Construction:** An element is added to the longest common subsequence (LCS) only if it's found in all other arrays, ensuring the result is a valid subsequence shared by all.\n",
    "\n",
    "---\n",
    "\n",
    "### Code Walkthrough\n",
    "\n",
    "1.  **Initialization:**\n",
    "    - Finds the `smallest_array` using the `min` function with a key based on array length.\n",
    "    - Removes the `smallest_array` from the `arrays` list to avoid redundant searches.\n",
    "    - Initializes an empty list `common_subsequences` to store the LCS.\n",
    "\n",
    "2.  **Helper Function (`binary_search`):**\n",
    "    - This function takes an array `array` and a target number `num`.\n",
    "    - It uses `bisect_left` to find the insertion point for `num` in `array` while maintaining sorted order.\n",
    "    - If `num` is found at the insertion point, it returns `True`; otherwise, it returns `False`.\n",
    "\n",
    "3.  **Main Loop (Finding Common Elements):**\n",
    "    - Iterates through each `num` in the `smallest_array`.\n",
    "    - For each `num`:\n",
    "      - A generator expression checks if `num` is present in all remaining arrays using `binary_search`.\n",
    "      - The `all` function checks if all results from the generator are `True`.\n",
    "      - If `num` is found in all arrays, it's added to `common_subsequences`.\n",
    "\n",
    "4.  **Return Result:**\n",
    "    - Returns the `common_subsequences` list, representing the longest common subsequence found.\n",
    "\n",
    "---\n",
    "\n",
    "### Example\n",
    "\n",
    "**Input:** `arrays = [[2, 3, 6, 8], [1, 2, 3, 5, 6, 7, 10], [2, 3, 4, 6, 9]]`\n",
    "\n",
    "**Step-by-Step Walkthrough:**\n",
    "\n",
    "1. **Initialization:**\n",
    "   - The function prints the initial `arrays` input: `[[2, 3, 6, 8], [1, 2, 3, 5, 6, 7, 10], [2, 3, 4, 6, 9]]`\n",
    "   - An empty list `common_subsequences` is initialized to store the LCS.\n",
    "\n",
    "2. **Identifying Smallest Array:**\n",
    "   - The function identifies `[2, 3, 6, 8]` as the smallest array.\n",
    "   - This array is removed from the `arrays` list, leaving `[[1, 2, 3, 5, 6, 7, 10], [2, 3, 4, 6, 9]]`.\n",
    "\n",
    "3. **Main Loop (Finding Common Elements):** The function iterates through the smallest array, `[2, 3, 6, 8]`.\n",
    "\n",
    "   - **Iteration 1:**\n",
    "      - `num` = 2\n",
    "      - `binary_search` is used to check for the presence of `2` in the remaining arrays:\n",
    "          - `binary_search([1, 2, 3, 5, 6, 7, 10], 2)` returns `True`.\n",
    "          - `binary_search([2, 3, 4, 6, 9], 2)` returns `True`.\n",
    "      - Since `2` is found in both remaining arrays, it is added to `common_subsequences`: `[2]`\n",
    "\n",
    "   - **Iteration 2:**\n",
    "      - `num` = 3\n",
    "      - `binary_search([1, 2, 3, 5, 6, 7, 10], 3)` returns `True`.\n",
    "      - `binary_search([2, 3, 4, 6, 9], 3)` returns `True`.\n",
    "      - '3' is added to `common_subsequences`: `[2, 3]`\n",
    "\n",
    "   - **Iteration 3:**\n",
    "      - `num` = 6\n",
    "      - `binary_search([1, 2, 3, 5, 6, 7, 10], 6)` returns `True`.\n",
    "      - `binary_search([2, 3, 4, 6, 9], 6)` returns `True`.\n",
    "      - '6' is added to `common_subsequences`: `[2, 3, 6]`\n",
    "\n",
    "   - **Iteration 4:**\n",
    "      - `num` = 8\n",
    "      - `binary_search([1, 2, 3, 5, 6, 7, 10], 8)` returns `False`.\n",
    "      - Since '8' is not found in all arrays, the loop moves to the next iteration without updating `common_subsequences`.\n",
    "\n",
    "4. **Iteration Summary:**\n",
    "    ```\n",
    "        ╒═════════════╤═══════╤═══════════════════════╕\n",
    "        │   Iteration │   num │ common_subsequences   │\n",
    "        ╞═════════════╪═══════╪═══════════════════════╡\n",
    "        │           1 │     2 │ [2]                   │\n",
    "        ├─────────────┼───────┼───────────────────────┤\n",
    "        │           2 │     3 │ [2, 3]                │\n",
    "        ├─────────────┼───────┼───────────────────────┤\n",
    "        │           3 │     6 │ [2, 3, 6]             │\n",
    "        ├─────────────┼───────┼───────────────────────┤\n",
    "        │           4 │     8 │ [2, 3, 6]             │\n",
    "        ╘═════════════╧═══════╧═══════════════════════╛\n",
    "    ```\n",
    "\n",
    "5. **Result Calculation/Final Steps:**\n",
    "    - The function reaches the end of the loop, and the final `common_subsequences` is `[2, 3, 6]`. This is returned as the longest common subsequence among the input arrays.\n",
    "\n",
    "---\n",
    "\n",
    "### Complexity Analysis\n",
    "\n",
    "**Time Complexity:**\n",
    "\n",
    "- $O(n \\cdot m \\cdot \\log(k))$, where:\n",
    "  - *n* is the number of elements in the smallest array.\n",
    "  - *m* is the total number of arrays.\n",
    "  - *k* is the average length of the arrays.\n",
    "\n",
    "- The nested loops dominate the time complexity. The outer loop iterates through the smallest array (n iterations), and the inner loop implicitly iterates through all remaining arrays (m-1 iterations) within the generator expression. For each element in the smallest array, we perform a binary search in each of the other arrays, with an average time complexity of O(log(k)).\n",
    "\n",
    "**Space Complexity:**\n",
    "\n",
    "- $O(L)$, where L is the length of the longest common subsequence.\n",
    "- The main space usage is due to storing the elements of the LCS in the `common_subsequences` list. The space used by the `binary_search` function is constant."
   ],
   "id": "fb135751a2b77d33"
  },
  {
   "metadata": {},
   "cell_type": "markdown",
   "source": "## Approach 2: Two-Pointer Technique",
   "id": "6c2c94a078c88a81"
  },
  {
   "metadata": {
    "ExecuteTime": {
     "end_time": "2024-06-06T00:58:17.513384Z",
     "start_time": "2024-06-06T00:58:17.508816Z"
    }
   },
   "cell_type": "code",
   "source": [
    "def longestCommonSubsequence2(arrays: List[List[int]]) -> List[int]:\n",
    "    \"\"\"\n",
    "    Finds the longest common subsequence present in the given list of sorted arrays.\n",
    "\n",
    "    The main logic of the function is based on the two-pointer technique used in iterating through sorted lists\n",
    "    for comparison.\n",
    "    It iteratively finds the common elements of the first list (starting as the common subsequence) and the next ones.\n",
    "    For each list, it runs through the elements of the current common subsequence and the new list side by side.\n",
    "    If elements don't match, it advances the index of the smaller element.\n",
    "    Every time a common value is found, it is added to the new_subsequence that ultimately replaces the current\n",
    "    common_subsequence for next comparisons.\n",
    "\n",
    "    The time complexity of this function is O(n * m), where n is the total number of lists,\n",
    "    and m is the average size of these lists.\n",
    "    This is because we are running through each list once, comparing and moving the pointers in a linear fashion.\n",
    "    The space complexity is O(K), where K is the maximum length among the input arrays\n",
    "    (used to store intermediate subsequences).\n",
    "    \"\"\"\n",
    "    common_subsequences = arrays[0]\n",
    "\n",
    "    for array in arrays[1:]:\n",
    "        new_subsequence = []\n",
    "\n",
    "        array_index = 0\n",
    "        common_subseq_index = 0\n",
    "\n",
    "        array_length = len(array)\n",
    "        common_subseq_length = len(common_subsequences)\n",
    "\n",
    "        while common_subseq_index < common_subseq_length and array_index < array_length:\n",
    "            if array[array_index] == common_subsequences[common_subseq_index]:\n",
    "                new_subsequence.append(array[array_index])\n",
    "                common_subseq_index += 1\n",
    "                array_index += 1\n",
    "            elif array[array_index] < common_subsequences[common_subseq_index]:\n",
    "                array_index += 1\n",
    "            else:\n",
    "                common_subseq_index += 1\n",
    "\n",
    "        common_subsequences = new_subsequence\n",
    "\n",
    "    return common_subsequences"
   ],
   "id": "363bf8c5a5dff6ce",
   "outputs": [],
   "execution_count": 2
  },
  {
   "metadata": {},
   "cell_type": "markdown",
   "source": "### Understanding the Core Idea",
   "id": "2cacc60d707ebefe"
  },
  {
   "metadata": {},
   "cell_type": "markdown",
   "source": [
    "# Week 2 -> 2. Problem\n",
    "\n",
    "(Problem Statement)"
   ],
   "id": "9e7c59d87ae9de00"
  },
  {
   "metadata": {},
   "cell_type": "markdown",
   "source": "## Approach 1:",
   "id": "842fc596f1106743"
  },
  {
   "metadata": {
    "ExecuteTime": {
     "end_time": "2024-06-06T00:58:17.527296Z",
     "start_time": "2024-06-06T00:58:17.523901Z"
    }
   },
   "cell_type": "code",
   "source": [
    "def problem2_1():\n",
    "    pass"
   ],
   "id": "f15d7c0c3f82224",
   "outputs": [],
   "execution_count": 3
  },
  {
   "metadata": {},
   "cell_type": "markdown",
   "source": "### Understanding the Core Idea",
   "id": "e16d4506ba620302"
  },
  {
   "metadata": {},
   "cell_type": "markdown",
   "source": "## Approach 2:",
   "id": "8fb76078c538c601"
  },
  {
   "metadata": {
    "ExecuteTime": {
     "end_time": "2024-06-06T00:58:17.532618Z",
     "start_time": "2024-06-06T00:58:17.527296Z"
    }
   },
   "cell_type": "code",
   "source": [
    "def problem2_2():\n",
    "    pass"
   ],
   "id": "806e1d5895b565a3",
   "outputs": [],
   "execution_count": 4
  },
  {
   "metadata": {},
   "cell_type": "markdown",
   "source": "### Understanding the Core Idea",
   "id": "e70bb9d9ebf661c2"
  },
  {
   "metadata": {},
   "cell_type": "markdown",
   "source": [
    "# Week 3 -> 3. Problem\n",
    "\n",
    "(Problem Statement)"
   ],
   "id": "76246a247ba10f25"
  },
  {
   "metadata": {},
   "cell_type": "markdown",
   "source": "## Approach 1:",
   "id": "31d3fb98c487dcd3"
  },
  {
   "metadata": {
    "ExecuteTime": {
     "end_time": "2024-06-06T00:58:17.539128Z",
     "start_time": "2024-06-06T00:58:17.535624Z"
    }
   },
   "cell_type": "code",
   "source": [
    "def problem3_1():\n",
    "    pass"
   ],
   "id": "ae9bfe58f7b217cb",
   "outputs": [],
   "execution_count": 5
  },
  {
   "metadata": {},
   "cell_type": "markdown",
   "source": "### Understanding the Core Idea",
   "id": "6e926a89d920e389"
  },
  {
   "metadata": {},
   "cell_type": "markdown",
   "source": "## Approach 2:",
   "id": "718ab12e4d544608"
  },
  {
   "metadata": {
    "ExecuteTime": {
     "end_time": "2024-06-06T00:58:17.561041Z",
     "start_time": "2024-06-06T00:58:17.558665Z"
    }
   },
   "cell_type": "code",
   "source": [
    "def problem3_2():\n",
    "    pass"
   ],
   "id": "dc1eadaaef16d60c",
   "outputs": [],
   "execution_count": 6
  },
  {
   "metadata": {},
   "cell_type": "markdown",
   "source": "### Understanding the Core Idea",
   "id": "fe1f923433c3f784"
  },
  {
   "metadata": {},
   "cell_type": "markdown",
   "source": [
    "# Week 4 -> 4. Problem\n",
    "\n",
    "(Problem Statement)"
   ],
   "id": "dcf6e79f19bd29c5"
  },
  {
   "metadata": {},
   "cell_type": "markdown",
   "source": "## Approach 1:",
   "id": "d5f0a15d00e379eb"
  },
  {
   "metadata": {
    "ExecuteTime": {
     "end_time": "2024-06-06T00:58:17.622175Z",
     "start_time": "2024-06-06T00:58:17.618951Z"
    }
   },
   "cell_type": "code",
   "source": [
    "def problem4_1():\n",
    "    pass"
   ],
   "id": "ac327781314f6b0f",
   "outputs": [],
   "execution_count": 7
  },
  {
   "metadata": {},
   "cell_type": "markdown",
   "source": "### Understanding the Core Idea",
   "id": "a0841eb7d7e2d583"
  },
  {
   "metadata": {},
   "cell_type": "markdown",
   "source": "## Approach 2:",
   "id": "16a7de9c161103f6"
  },
  {
   "metadata": {
    "ExecuteTime": {
     "end_time": "2024-06-06T00:58:17.628681Z",
     "start_time": "2024-06-06T00:58:17.623178Z"
    }
   },
   "cell_type": "code",
   "source": [
    "def problem4_2():\n",
    "    pass"
   ],
   "id": "f11ae7306b1dd4a2",
   "outputs": [],
   "execution_count": 8
  },
  {
   "metadata": {},
   "cell_type": "markdown",
   "source": "### Understanding the Core Idea",
   "id": "e7ee34c2ee5a3c16"
  },
  {
   "metadata": {},
   "cell_type": "markdown",
   "source": [
    "# Week 5 -> 5. Problem\n",
    "\n",
    "(Problem Statement)"
   ],
   "id": "b0ed5885b8db3695"
  },
  {
   "metadata": {},
   "cell_type": "markdown",
   "source": "## Approach 1:",
   "id": "76cd1a37aef92886"
  },
  {
   "metadata": {
    "ExecuteTime": {
     "end_time": "2024-06-06T00:58:17.639836Z",
     "start_time": "2024-06-06T00:58:17.636688Z"
    }
   },
   "cell_type": "code",
   "source": [
    "def problem5_1():\n",
    "    pass"
   ],
   "id": "9d3351d51f1ab40a",
   "outputs": [],
   "execution_count": 9
  },
  {
   "metadata": {},
   "cell_type": "markdown",
   "source": "### Understanding the Core Idea",
   "id": "2d4c5348e9e53768"
  },
  {
   "metadata": {},
   "cell_type": "markdown",
   "source": "## Approach 2:",
   "id": "4a66b34612b7604d"
  },
  {
   "metadata": {
    "ExecuteTime": {
     "end_time": "2024-06-06T00:58:17.645302Z",
     "start_time": "2024-06-06T00:58:17.641839Z"
    }
   },
   "cell_type": "code",
   "source": [
    "def problem5_2():\n",
    "    pass"
   ],
   "id": "d5db967b23d0ae69",
   "outputs": [],
   "execution_count": 10
  },
  {
   "metadata": {},
   "cell_type": "markdown",
   "source": "### Understanding the Core Idea",
   "id": "c7b2e3b166f37575"
  }
 ],
 "metadata": {
  "kernelspec": {
   "display_name": "Python 3",
   "language": "python",
   "name": "python3"
  },
  "language_info": {
   "codemirror_mode": {
    "name": "ipython",
    "version": 2
   },
   "file_extension": ".py",
   "mimetype": "text/x-python",
   "name": "python",
   "nbconvert_exporter": "python",
   "pygments_lexer": "ipython2",
   "version": "2.7.6"
  }
 },
 "nbformat": 4,
 "nbformat_minor": 5
}
