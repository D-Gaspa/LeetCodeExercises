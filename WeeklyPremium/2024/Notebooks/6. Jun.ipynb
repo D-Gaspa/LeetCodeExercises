{
 "cells": [
  {
   "metadata": {},
   "cell_type": "markdown",
   "source": "# June, 2024",
   "id": "913f7f5b980a0d7a"
  },
  {
   "metadata": {},
   "cell_type": "markdown",
   "source": [
    "# Week 1 -> 1940. Longest Common Subsequence Between Sorted Arrays\n",
    "\n",
    "Given an array of integer arrays `arrays` where each `arrays[i]` is sorted in **strictly increasing** order, return *an integer array representing the **longest common subsequence** between **all** the arrays*.\n",
    "\n",
    "A **subsequence** is a sequence that can be derived from another sequence by deleting some elements (possibly none) without changing the order of the remaining elements.\n",
    "\n",
    "**Example 1:**\n",
    "\n",
    "- **Input:** arrays = [[1,3,4], [1,4,7,9]]\n",
    "- **Output:** [1,4]\n",
    "- **Explanation:** The longest common subsequence in the two arrays is [1,4].\n",
    "\n",
    "**Example 2:**\n",
    "\n",
    "- **Input:** arrays = [[2,3,6,8], [1,2,3,5,6,7,10], [2,3,4,6,9]]\n",
    "- **Output:** [2,3,6]\n",
    "- **Explanation:** The longest common subsequence in all three arrays is [2,3,6].\n",
    "\n",
    "**Example 3:**\n",
    "\n",
    "- **Input:** arrays = [[1,2,3,4,5], [6,7,8]]\n",
    "- **Output:** []\n",
    "- **Explanation:** There is no common subsequence between the two arrays.\n",
    "\n",
    "**Constraints:**\n",
    "\n",
    "- `2 <= arrays.length <= 100`\n",
    "- `1 <= arrays[i].length <= 100`\n",
    "- `1 <= arrays[i][j] <= 100`\n",
    "- `arrays[i]` is sorted in **strictly increasing** order."
   ],
   "id": "66cb54eec5b01e5e"
  },
  {
   "metadata": {},
   "cell_type": "markdown",
   "source": "## Approach 1: ",
   "id": "8933c590a380bdf3"
  },
  {
   "metadata": {},
   "cell_type": "code",
   "outputs": [],
   "execution_count": null,
   "source": [
    "from typing import List\n",
    "\n",
    "\n",
    "def longestCommonSubsequence1(arrays: List[List[int]]) -> List[int]:\n",
    "    pass"
   ],
   "id": "c7bf716e92a8b1bc"
  },
  {
   "metadata": {},
   "cell_type": "markdown",
   "source": "### Understanding the Core Idea",
   "id": "fb135751a2b77d33"
  },
  {
   "metadata": {},
   "cell_type": "markdown",
   "source": "## Approach 2:",
   "id": "6c2c94a078c88a81"
  },
  {
   "metadata": {},
   "cell_type": "code",
   "outputs": [],
   "execution_count": null,
   "source": [
    "def longestCommonSubsequence2(arrays: List[List[int]]) -> List[int]:\n",
    "    pass"
   ],
   "id": "363bf8c5a5dff6ce"
  },
  {
   "metadata": {},
   "cell_type": "markdown",
   "source": "### Understanding the Core Idea",
   "id": "2cacc60d707ebefe"
  },
  {
   "metadata": {},
   "cell_type": "markdown",
   "source": [
    "# Week 2 -> 2. Problem\n",
    "\n",
    "(Problem Statement)"
   ],
   "id": "9e7c59d87ae9de00"
  },
  {
   "metadata": {},
   "cell_type": "markdown",
   "source": "## Approach 1:",
   "id": "842fc596f1106743"
  },
  {
   "metadata": {},
   "cell_type": "code",
   "outputs": [],
   "execution_count": 1,
   "source": [
    "def problem2_1():\n",
    "    pass"
   ],
   "id": "f15d7c0c3f82224"
  },
  {
   "metadata": {},
   "cell_type": "markdown",
   "source": "### Understanding the Core Idea",
   "id": "e16d4506ba620302"
  },
  {
   "metadata": {},
   "cell_type": "markdown",
   "source": "## Approach 2:",
   "id": "8fb76078c538c601"
  },
  {
   "metadata": {},
   "cell_type": "code",
   "outputs": [],
   "execution_count": null,
   "source": [
    "def problem2_2():\n",
    "    pass"
   ],
   "id": "806e1d5895b565a3"
  },
  {
   "metadata": {},
   "cell_type": "markdown",
   "source": "### Understanding the Core Idea",
   "id": "e70bb9d9ebf661c2"
  },
  {
   "metadata": {},
   "cell_type": "markdown",
   "source": [
    "# Week 3 -> 3. Problem\n",
    "\n",
    "(Problem Statement)"
   ],
   "id": "76246a247ba10f25"
  },
  {
   "metadata": {},
   "cell_type": "markdown",
   "source": "## Approach 1:",
   "id": "31d3fb98c487dcd3"
  },
  {
   "metadata": {},
   "cell_type": "code",
   "outputs": [],
   "execution_count": null,
   "source": [
    "def problem3_1():\n",
    "    pass"
   ],
   "id": "ae9bfe58f7b217cb"
  },
  {
   "metadata": {},
   "cell_type": "markdown",
   "source": "### Understanding the Core Idea",
   "id": "6e926a89d920e389"
  },
  {
   "metadata": {},
   "cell_type": "markdown",
   "source": "## Approach 2:",
   "id": "718ab12e4d544608"
  },
  {
   "metadata": {},
   "cell_type": "code",
   "outputs": [],
   "execution_count": null,
   "source": [
    "def problem3_2():\n",
    "    pass"
   ],
   "id": "dc1eadaaef16d60c"
  },
  {
   "metadata": {},
   "cell_type": "markdown",
   "source": "### Understanding the Core Idea",
   "id": "fe1f923433c3f784"
  },
  {
   "metadata": {},
   "cell_type": "markdown",
   "source": [
    "# Week 4 -> 4. Problem\n",
    "\n",
    "(Problem Statement)"
   ],
   "id": "dcf6e79f19bd29c5"
  },
  {
   "metadata": {},
   "cell_type": "markdown",
   "source": "## Approach 1:",
   "id": "d5f0a15d00e379eb"
  },
  {
   "metadata": {},
   "cell_type": "code",
   "outputs": [],
   "execution_count": null,
   "source": [
    "def problem4_1():\n",
    "    pass"
   ],
   "id": "ac327781314f6b0f"
  },
  {
   "metadata": {},
   "cell_type": "markdown",
   "source": "### Understanding the Core Idea",
   "id": "a0841eb7d7e2d583"
  },
  {
   "metadata": {},
   "cell_type": "markdown",
   "source": "## Approach 2:",
   "id": "16a7de9c161103f6"
  },
  {
   "metadata": {},
   "cell_type": "code",
   "outputs": [],
   "execution_count": null,
   "source": [
    "def problem4_2():\n",
    "    pass"
   ],
   "id": "f11ae7306b1dd4a2"
  },
  {
   "metadata": {},
   "cell_type": "markdown",
   "source": "### Understanding the Core Idea",
   "id": "e7ee34c2ee5a3c16"
  },
  {
   "metadata": {},
   "cell_type": "markdown",
   "source": [
    "# Week 5 -> 5. Problem\n",
    "\n",
    "(Problem Statement)"
   ],
   "id": "b0ed5885b8db3695"
  },
  {
   "metadata": {},
   "cell_type": "markdown",
   "source": "## Approach 1:",
   "id": "76cd1a37aef92886"
  },
  {
   "metadata": {},
   "cell_type": "code",
   "outputs": [],
   "execution_count": null,
   "source": [
    "def problem5_1():\n",
    "    pass"
   ],
   "id": "9d3351d51f1ab40a"
  },
  {
   "metadata": {},
   "cell_type": "markdown",
   "source": "### Understanding the Core Idea",
   "id": "2d4c5348e9e53768"
  },
  {
   "metadata": {},
   "cell_type": "markdown",
   "source": "## Approach 2:",
   "id": "4a66b34612b7604d"
  },
  {
   "metadata": {},
   "cell_type": "code",
   "outputs": [],
   "execution_count": null,
   "source": [
    "def problem5_2():\n",
    "    pass"
   ],
   "id": "d5db967b23d0ae69"
  },
  {
   "metadata": {},
   "cell_type": "markdown",
   "source": "### Understanding the Core Idea",
   "id": "c7b2e3b166f37575"
  }
 ],
 "metadata": {
  "kernelspec": {
   "display_name": "Python 3",
   "language": "python",
   "name": "python3"
  },
  "language_info": {
   "codemirror_mode": {
    "name": "ipython",
    "version": 2
   },
   "file_extension": ".py",
   "mimetype": "text/x-python",
   "name": "python",
   "nbconvert_exporter": "python",
   "pygments_lexer": "ipython2",
   "version": "2.7.6"
  }
 },
 "nbformat": 4,
 "nbformat_minor": 5
}
