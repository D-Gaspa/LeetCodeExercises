{
 "cells": [
  {
   "metadata": {},
   "cell_type": "markdown",
   "source": "# Month X, 2024",
   "id": "6073b5330940e6d"
  },
  {
   "metadata": {},
   "cell_type": "markdown",
   "source": [
    "# Week 1 -> 1. Problem\n",
    "\n",
    "(Problem Statement)"
   ],
   "id": "9ce5073f71ebaf7b"
  },
  {
   "metadata": {},
   "cell_type": "markdown",
   "source": "## Approach 1: ",
   "id": "469ba1236ef4300b"
  },
  {
   "metadata": {},
   "cell_type": "code",
   "outputs": [],
   "execution_count": null,
   "source": [
    "def problem1_1():\n",
    "    pass"
   ],
   "id": "e9cdae80247ca901"
  },
  {
   "metadata": {},
   "cell_type": "markdown",
   "source": "### Understanding the Core Idea",
   "id": "f54d6e716e8e1627"
  },
  {
   "metadata": {},
   "cell_type": "markdown",
   "source": "## Approach 2:",
   "id": "415b3c5e42ee2371"
  },
  {
   "metadata": {},
   "cell_type": "code",
   "outputs": [],
   "execution_count": null,
   "source": [
    "def problem1_2():\n",
    "    pass"
   ],
   "id": "d3bcd087da3e0a8f"
  },
  {
   "metadata": {},
   "cell_type": "markdown",
   "source": "### Understanding the Core Idea",
   "id": "28144cc414535ff4"
  },
  {
   "metadata": {},
   "cell_type": "markdown",
   "source": [
    "# Week 2 -> 2. Problem\n",
    "\n",
    "(Problem Statement)"
   ],
   "id": "8714e01b55d2c32b"
  },
  {
   "metadata": {},
   "cell_type": "markdown",
   "source": "## Approach 1:",
   "id": "370191d872ce1764"
  },
  {
   "metadata": {},
   "cell_type": "code",
   "outputs": [],
   "execution_count": 1,
   "source": [
    "def problem2_1():\n",
    "    pass"
   ],
   "id": "47e2f6a549f39544"
  },
  {
   "metadata": {},
   "cell_type": "markdown",
   "source": "### Understanding the Core Idea",
   "id": "ff4ac69c525679a2"
  },
  {
   "metadata": {},
   "cell_type": "markdown",
   "source": "## Approach 2:",
   "id": "42a001d39295e9ae"
  },
  {
   "metadata": {},
   "cell_type": "code",
   "outputs": [],
   "execution_count": null,
   "source": [
    "def problem2_2():\n",
    "    pass"
   ],
   "id": "9e32531881e744ca"
  },
  {
   "metadata": {},
   "cell_type": "markdown",
   "source": "### Understanding the Core Idea",
   "id": "81a3e2ada389287c"
  },
  {
   "metadata": {},
   "cell_type": "markdown",
   "source": [
    "# Week 3 -> 3. Problem\n",
    "\n",
    "(Problem Statement)"
   ],
   "id": "db1df8288b78d6f3"
  },
  {
   "metadata": {},
   "cell_type": "markdown",
   "source": "## Approach 1:",
   "id": "9927f270492e4a1"
  },
  {
   "metadata": {},
   "cell_type": "code",
   "outputs": [],
   "execution_count": null,
   "source": [
    "def problem3_1():\n",
    "    pass"
   ],
   "id": "8b59c07dc53c1f29"
  },
  {
   "metadata": {},
   "cell_type": "markdown",
   "source": "### Understanding the Core Idea",
   "id": "1c4e03922f2f0615"
  },
  {
   "metadata": {},
   "cell_type": "markdown",
   "source": "## Approach 2:",
   "id": "c21ff765f3cf4aaa"
  },
  {
   "metadata": {},
   "cell_type": "code",
   "outputs": [],
   "execution_count": null,
   "source": [
    "def problem3_2():\n",
    "    pass"
   ],
   "id": "3e4dff5342c2867e"
  },
  {
   "metadata": {},
   "cell_type": "markdown",
   "source": "### Understanding the Core Idea",
   "id": "1a87b37d37bdfece"
  },
  {
   "metadata": {},
   "cell_type": "markdown",
   "source": [
    "# Week 4 -> 4. Problem\n",
    "\n",
    "(Problem Statement)"
   ],
   "id": "e4bac8eceaebb1cc"
  },
  {
   "metadata": {},
   "cell_type": "markdown",
   "source": "## Approach 1:",
   "id": "feee3ee680839fbf"
  },
  {
   "metadata": {},
   "cell_type": "code",
   "outputs": [],
   "execution_count": null,
   "source": [
    "def problem4_1():\n",
    "    pass"
   ],
   "id": "1d00311d53390f8"
  },
  {
   "metadata": {},
   "cell_type": "markdown",
   "source": "### Understanding the Core Idea",
   "id": "800d480cab6bf6a5"
  },
  {
   "metadata": {},
   "cell_type": "markdown",
   "source": "## Approach 2:",
   "id": "6c41ba61afa40363"
  },
  {
   "metadata": {},
   "cell_type": "code",
   "outputs": [],
   "execution_count": null,
   "source": [
    "def problem4_2():\n",
    "    pass"
   ],
   "id": "c5d39475c09b576"
  },
  {
   "metadata": {},
   "cell_type": "markdown",
   "source": "### Understanding the Core Idea",
   "id": "f93923bc81a4f6e0"
  },
  {
   "metadata": {},
   "cell_type": "markdown",
   "source": [
    "# Week 5 -> 5. Problem\n",
    "\n",
    "(Problem Statement)"
   ],
   "id": "8c7c2dc140c8b28b"
  },
  {
   "metadata": {},
   "cell_type": "markdown",
   "source": "## Approach 1:",
   "id": "ec6444dc3ce5a314"
  },
  {
   "metadata": {},
   "cell_type": "code",
   "outputs": [],
   "execution_count": null,
   "source": [
    "def problem5_1():\n",
    "    pass"
   ],
   "id": "f2bd139ef5f401df"
  },
  {
   "metadata": {},
   "cell_type": "markdown",
   "source": "### Understanding the Core Idea",
   "id": "5a49e52fe8df08cd"
  },
  {
   "metadata": {},
   "cell_type": "markdown",
   "source": "## Approach 2:",
   "id": "abbaf32d88796632"
  },
  {
   "metadata": {},
   "cell_type": "code",
   "outputs": [],
   "execution_count": null,
   "source": [
    "def problem5_2():\n",
    "    pass"
   ],
   "id": "6ac6e10291449cdc"
  },
  {
   "metadata": {},
   "cell_type": "markdown",
   "source": "### Understanding the Core Idea",
   "id": "5d6fcd1082ed62ae"
  }
 ],
 "metadata": {
  "kernelspec": {
   "display_name": "Python 3",
   "language": "python",
   "name": "python3"
  },
  "language_info": {
   "codemirror_mode": {
    "name": "ipython",
    "version": 2
   },
   "file_extension": ".py",
   "mimetype": "text/x-python",
   "name": "python",
   "nbconvert_exporter": "python",
   "pygments_lexer": "ipython2",
   "version": "2.7.6"
  }
 },
 "nbformat": 4,
 "nbformat_minor": 5
}
