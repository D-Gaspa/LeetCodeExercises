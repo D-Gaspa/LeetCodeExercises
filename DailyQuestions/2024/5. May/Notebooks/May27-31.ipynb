{
 "cells": [
  {
   "cell_type": "code",
   "execution_count": null,
   "id": "initial_id",
   "metadata": {
    "collapsed": true
   },
   "outputs": [],
   "source": "# Week 5: May 27th - May 31st"
  },
  {
   "metadata": {},
   "cell_type": "markdown",
   "source": [
    "## May 27 -> 1608. Special Array With X Elements Greater Than or Equal X\n",
    "\n",
    "You are given an array `nums` of non-negative integers. `nums` is considered **special** if there exists a number `x` such that there are **exactly** `x` numbers in `nums` that are **greater than or equal to** `x`.\n",
    "\n",
    "Notice that `x` **does not** have to be an element in `nums`.\n",
    "\n",
    "Return `x` *if the array is **special**, otherwise, return* `-1`. It can be proven that if `nums` is special, the value for `x` is **unique**.\n",
    "\n",
    "**Example 1:**\n",
    "\n",
    "- **Input:** nums = [3,5]\n",
    "- **Output:** 2\n",
    "- **Explanation:** There are two values (3 and 5) that are greater than or equal to 2.\n",
    "\n",
    "**Example 2:**\n",
    "\n",
    "- **Input:** nums = [0,0]\n",
    "- **Output:** -1\n",
    "- **Explanation:** No numbers fit the criteria for x.\n",
    "    - If x = 0, there should be '0' numbers >= x, but there are 2.\n",
    "    - If x = 1, there should be '1' number >= x, but there are 0.\n",
    "    - If x = 2, there should be '2' numbers >= x, but there are 0.\n",
    "    - x cannot be greater since there are only two numbers in nums.\n",
    "\n",
    "**Example 3:**\n",
    "\n",
    "- **Input:** nums = [0,4,3,0,4]\n",
    "- **Output:** 3\n",
    "- **Explanation:** There are three values that are greater than or equal to 3.\n",
    "\n",
    "**Constraints:**\n",
    "\n",
    "- `1 <= nums.length <= 100`\n",
    "- `0 <= nums[i] <= 1000`"
   ],
   "id": "3f8e9512e3429b4c"
  }
 ],
 "metadata": {
  "kernelspec": {
   "display_name": "Python 3",
   "language": "python",
   "name": "python3"
  },
  "language_info": {
   "codemirror_mode": {
    "name": "ipython",
    "version": 2
   },
   "file_extension": ".py",
   "mimetype": "text/x-python",
   "name": "python",
   "nbconvert_exporter": "python",
   "pygments_lexer": "ipython2",
   "version": "2.7.6"
  }
 },
 "nbformat": 4,
 "nbformat_minor": 5
}
