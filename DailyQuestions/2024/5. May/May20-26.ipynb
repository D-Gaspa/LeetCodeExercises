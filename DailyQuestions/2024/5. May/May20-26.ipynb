{
 "cells": [
  {
   "metadata": {},
   "cell_type": "markdown",
   "source": "# Week 4: May 20th - 26th",
   "id": "557b3c8ddbeb40dc"
  },
  {
   "metadata": {},
   "cell_type": "markdown",
   "source": [
    "## May 20 -> 1863. Sum of All Subset XOR Totals\n",
    "\n",
    "The **XOR total** of an array is defined as the bitwise `XOR` of **all its elements**, or `0` if the array is **empty**.\n",
    "\n",
    "- For example, the **XOR total** of the array `[2,5,6]` is `2 XOR 5 XOR 6 = 1`.\n",
    "\n",
    "Given an array `nums`, return *the **sum** of all **XOR totals** for every **subset** of* `nums`.\n",
    "\n",
    "**Note:** Subsets with the **same** elements should be counted **multiple** times.\n",
    "\n",
    "An array `a` is a **subset** of an array `b` if `a` can be obtained from `b` by deleting some (possibly zero) elements of `b`.\n",
    "\n",
    "**Example 1:**\n",
    "\n",
    "**Input:** nums = [1,3]\n",
    "\n",
    "**Output:** 6\n",
    "\n",
    "**Explanation:** The 4 subsets of [1,3] are:\n",
    "- The empty subset has an XOR total of 0.\n",
    "- [1] has an XOR total of 1.\n",
    "- [3] has an XOR total of 3.\n",
    "- [1,3] has an XOR total of 1 XOR 3 = 2.\n",
    "0 + 1 + 3 + 2 = 6\n",
    "\n",
    "**Example 2:**\n",
    "\n",
    "**Input:** nums = [5,1,6]\n",
    "\n",
    "**Output:** 28\n",
    "\n",
    "**Explanation:** The 8 subsets of [5,1,6] are:\n",
    "- The empty subset has an XOR total of 0.\n",
    "- [5] has an XOR total of 5.\n",
    "- [1] has an XOR total of 1.\n",
    "- [6] has an XOR total of 6.\n",
    "- [5,1] has an XOR total of 5 XOR 1 = 4.\n",
    "- [5,6] has an XOR total of 5 XOR 6 = 3.\n",
    "- [1,6] has an XOR total of 1 XOR 6 = 7.\n",
    "- [5,1,6] has an XOR total of 5 XOR 1 XOR 6 = 2.\n",
    "0 + 5 + 1 + 6 + 4 + 3 + 7 + 2 = 28\n",
    "\n",
    "**Example 3:**\n",
    "\n",
    "**Input:** nums = [3,4,5,6,7,8]\n",
    "\n",
    "**Output:** 480\n",
    "\n",
    "**Explanation:** The sum of all XOR totals for every subset is 480.\n",
    "\n",
    "**Constraints:**\n",
    "- `1 <= nums.length <= 12`\n",
    "- `1 <= nums[i] <= 20`"
   ],
   "id": "69a4181062da4283"
  }
 ],
 "metadata": {
  "kernelspec": {
   "display_name": "Python 3",
   "language": "python",
   "name": "python3"
  },
  "language_info": {
   "codemirror_mode": {
    "name": "ipython",
    "version": 2
   },
   "file_extension": ".py",
   "mimetype": "text/x-python",
   "name": "python",
   "nbconvert_exporter": "python",
   "pygments_lexer": "ipython2",
   "version": "2.7.6"
  }
 },
 "nbformat": 4,
 "nbformat_minor": 5
}
