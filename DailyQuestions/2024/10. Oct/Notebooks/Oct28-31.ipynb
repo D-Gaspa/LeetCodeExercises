{
 "cells": [
  {
   "metadata": {},
   "cell_type": "markdown",
   "source": "# Week X: Month day th - Month day th, 2024",
   "id": "f83c4bca870a4bbd"
  },
  {
   "metadata": {},
   "cell_type": "markdown",
   "source": [
    "# Day X -> 1. Problem\n",
    "\n",
    "(Problem Statement)"
   ],
   "id": "8e813f6e2472a7da"
  },
  {
   "metadata": {},
   "cell_type": "markdown",
   "source": "## Approach 1: ",
   "id": "9aab2d20d438b59a"
  },
  {
   "metadata": {},
   "cell_type": "code",
   "outputs": [],
   "execution_count": null,
   "source": [
    "def problem1_1():\n",
    "    pass"
   ],
   "id": "245e11ccaf015316"
  },
  {
   "metadata": {},
   "cell_type": "markdown",
   "source": "### Understanding the Core Idea",
   "id": "863ab3edb4babf8f"
  },
  {
   "metadata": {},
   "cell_type": "markdown",
   "source": "## Approach 2:",
   "id": "ba96e9702c7a6fcf"
  },
  {
   "metadata": {},
   "cell_type": "code",
   "outputs": [],
   "execution_count": null,
   "source": [
    "def problem1_2():\n",
    "    pass"
   ],
   "id": "f099bc29d60f1878"
  },
  {
   "metadata": {},
   "cell_type": "markdown",
   "source": "### Understanding the Core Idea",
   "id": "f9700fa3a928aceb"
  },
  {
   "metadata": {},
   "cell_type": "markdown",
   "source": [
    "# Day X -> 2. Problem\n",
    "\n",
    "(Problem Statement)"
   ],
   "id": "d413da106343cbd6"
  },
  {
   "metadata": {},
   "cell_type": "markdown",
   "source": "## Approach 1:",
   "id": "ea8f33cbcd5df18"
  },
  {
   "metadata": {},
   "cell_type": "code",
   "outputs": [],
   "execution_count": 1,
   "source": [
    "def problem2_1():\n",
    "    pass"
   ],
   "id": "e7ff48fb4b14813a"
  },
  {
   "metadata": {},
   "cell_type": "markdown",
   "source": "### Understanding the Core Idea",
   "id": "1bb22b77842d5085"
  },
  {
   "metadata": {},
   "cell_type": "markdown",
   "source": "## Approach 2:",
   "id": "65ac285c3ec4c7e4"
  },
  {
   "metadata": {},
   "cell_type": "code",
   "outputs": [],
   "execution_count": null,
   "source": [
    "def problem2_2():\n",
    "    pass"
   ],
   "id": "5dd51c5cba12eb34"
  },
  {
   "metadata": {},
   "cell_type": "markdown",
   "source": "### Understanding the Core Idea",
   "id": "24c098c9c09b91aa"
  },
  {
   "metadata": {},
   "cell_type": "markdown",
   "source": [
    "# Day X -> 3. Problem\n",
    "\n",
    "(Problem Statement)"
   ],
   "id": "edf54a9cc5b0186"
  },
  {
   "metadata": {},
   "cell_type": "markdown",
   "source": "## Approach 1:",
   "id": "4d6da155467bff79"
  },
  {
   "metadata": {},
   "cell_type": "code",
   "outputs": [],
   "execution_count": null,
   "source": [
    "def problem3_1():\n",
    "    pass"
   ],
   "id": "eefb41e9ba4db373"
  },
  {
   "metadata": {},
   "cell_type": "markdown",
   "source": "### Understanding the Core Idea",
   "id": "d7ec40abf08a683"
  },
  {
   "metadata": {},
   "cell_type": "markdown",
   "source": "## Approach 2:",
   "id": "32dd1932e85f316c"
  },
  {
   "metadata": {},
   "cell_type": "code",
   "outputs": [],
   "execution_count": null,
   "source": [
    "def problem3_2():\n",
    "    pass"
   ],
   "id": "be68856028f458b6"
  },
  {
   "metadata": {},
   "cell_type": "markdown",
   "source": "### Understanding the Core Idea",
   "id": "b039c3d632c5ce20"
  },
  {
   "metadata": {},
   "cell_type": "markdown",
   "source": [
    "# Day X -> 4. Problem\n",
    "\n",
    "(Problem Statement)"
   ],
   "id": "ed946373a683cb06"
  },
  {
   "metadata": {},
   "cell_type": "markdown",
   "source": "## Approach 1:",
   "id": "9aa46d3c0b58a390"
  },
  {
   "metadata": {},
   "cell_type": "code",
   "outputs": [],
   "execution_count": null,
   "source": [
    "def problem4_1():\n",
    "    pass"
   ],
   "id": "bd495912defd3332"
  },
  {
   "metadata": {},
   "cell_type": "markdown",
   "source": "### Understanding the Core Idea",
   "id": "e9cea22a669d0320"
  },
  {
   "metadata": {},
   "cell_type": "markdown",
   "source": "## Approach 2:",
   "id": "ab5a8f2f940d1741"
  },
  {
   "metadata": {},
   "cell_type": "code",
   "outputs": [],
   "execution_count": null,
   "source": [
    "def problem4_2():\n",
    "    pass"
   ],
   "id": "a6f7dbc091c46495"
  },
  {
   "metadata": {},
   "cell_type": "markdown",
   "source": "### Understanding the Core Idea",
   "id": "2c549d9180be4c5c"
  },
  {
   "metadata": {},
   "cell_type": "markdown",
   "source": [
    "# Day X -> 5. Problem\n",
    "\n",
    "(Problem Statement)"
   ],
   "id": "f6b8c77abc95c935"
  },
  {
   "metadata": {},
   "cell_type": "markdown",
   "source": "## Approach 1:",
   "id": "8f30a76ee2b8bf38"
  },
  {
   "metadata": {},
   "cell_type": "code",
   "outputs": [],
   "execution_count": null,
   "source": [
    "def problem5_1():\n",
    "    pass"
   ],
   "id": "cbe89ca8af450e7b"
  },
  {
   "metadata": {},
   "cell_type": "markdown",
   "source": "### Understanding the Core Idea",
   "id": "d315e5a3a3dc8117"
  },
  {
   "metadata": {},
   "cell_type": "markdown",
   "source": "## Approach 2:",
   "id": "61bff65be012716d"
  },
  {
   "metadata": {},
   "cell_type": "code",
   "outputs": [],
   "execution_count": null,
   "source": [
    "def problem5_2():\n",
    "    pass"
   ],
   "id": "958002d8f5bf2a5d"
  },
  {
   "metadata": {},
   "cell_type": "markdown",
   "source": "### Understanding the Core Idea",
   "id": "8738fe16647218f"
  },
  {
   "metadata": {},
   "cell_type": "markdown",
   "source": [
    "# Day X -> 6. Problem\n",
    "\n",
    "(Problem Statement)"
   ],
   "id": "cf1716d600935679"
  },
  {
   "metadata": {},
   "cell_type": "markdown",
   "source": "## Approach 1:",
   "id": "4e8cfb86b01dfff5"
  },
  {
   "metadata": {},
   "cell_type": "code",
   "outputs": [],
   "execution_count": null,
   "source": [
    "def problem6_1():\n",
    "    pass"
   ],
   "id": "4f859c516ad91218"
  },
  {
   "metadata": {},
   "cell_type": "markdown",
   "source": "### Understanding the Core Idea",
   "id": "167739f01f20d880"
  },
  {
   "metadata": {},
   "cell_type": "markdown",
   "source": "## Approach 2:",
   "id": "d2e7afe8b75a6b0b"
  },
  {
   "metadata": {},
   "cell_type": "code",
   "outputs": [],
   "execution_count": null,
   "source": [
    "def problem6_2():\n",
    "    pass"
   ],
   "id": "c16ee983d0f3afae"
  },
  {
   "metadata": {},
   "cell_type": "markdown",
   "source": "### Understanding the Core Idea",
   "id": "6941d8190464d8c6"
  },
  {
   "metadata": {},
   "cell_type": "markdown",
   "source": [
    "# Day X -> 7. Problem\n",
    "\n",
    "(Problem Statement)"
   ],
   "id": "a453a8af60a13a7c"
  },
  {
   "metadata": {},
   "cell_type": "markdown",
   "source": "## Approach 1:",
   "id": "1622a00089cd4281"
  },
  {
   "metadata": {},
   "cell_type": "code",
   "outputs": [],
   "execution_count": null,
   "source": [
    "def problem7_1():\n",
    "    pass"
   ],
   "id": "9ebb63b4f77d4e9b"
  },
  {
   "metadata": {},
   "cell_type": "markdown",
   "source": "### Understanding the Core Idea",
   "id": "4be64e3aaaf66bc1"
  },
  {
   "metadata": {},
   "cell_type": "markdown",
   "source": "## Approach 2:",
   "id": "efb80a2ead12dfef"
  },
  {
   "metadata": {},
   "cell_type": "code",
   "outputs": [],
   "execution_count": null,
   "source": [
    "def problem7_2():\n",
    "    pass"
   ],
   "id": "16f15fd98124103d"
  },
  {
   "metadata": {},
   "cell_type": "markdown",
   "source": "### Understanding the Core Idea",
   "id": "a54c3221be9045f0"
  }
 ],
 "metadata": {
  "kernelspec": {
   "display_name": "Python 3",
   "language": "python",
   "name": "python3"
  },
  "language_info": {
   "codemirror_mode": {
    "name": "ipython",
    "version": 2
   },
   "file_extension": ".py",
   "mimetype": "text/x-python",
   "name": "python",
   "nbconvert_exporter": "python",
   "pygments_lexer": "ipython2",
   "version": "2.7.6"
  }
 },
 "nbformat": 4,
 "nbformat_minor": 5
}
