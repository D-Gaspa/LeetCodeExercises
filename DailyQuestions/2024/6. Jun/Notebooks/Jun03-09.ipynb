{
 "cells": [
  {
   "metadata": {},
   "cell_type": "markdown",
   "source": "# Week 1: June 3rd - June 9th, 2024",
   "id": "9eb245326898fc49"
  },
  {
   "metadata": {},
   "cell_type": "markdown",
   "source": [
    "# Day 3 -> 2486. Append Characters to String to Make Subsequence\n",
    "\n",
    "You are given two strings `s` and `t` consisting of only lowercase English letters.\n",
    "\n",
    "Return *the minimum number of characters that need to be appended to the end of* `s` *so that* `t` *becomes a **subsequence** of* `s`.\n",
    "\n",
    "A **subsequence** is a string that can be derived from another string by deleting some or no characters without changing the order of the remaining characters.\n",
    "\n",
    "**Example 1:**\n",
    "\n",
    "- **Input:** s = \"coaching\", t = \"coding\"\n",
    "- **Output:** 4\n",
    "- **Explanation:** Append the characters \"ding\" to the end of s so that s = \"coachingding\".\n",
    "Now, t is a subsequence of s (\"coachingding\").\n",
    "It can be shown that appending any three characters to the end of s will never make t a subsequence.\n",
    "\n",
    "**Example 2:**\n",
    "\n",
    "- **Input:** s = \"abcde\", t = \"a\"\n",
    "- **Output:** 0\n",
    "- **Explanation:** t is already a subsequence of s (\"abcde\").\n",
    "\n",
    "**Example 3:**\n",
    "\n",
    "- **Input:** s = \"z\", t = \"abcde\"\n",
    "- **Output:** 5\n",
    "- **Explanation:** Append the characters \"abcde\" to the end of s so that s = \"zabcde\".\n",
    "Now, t is a subsequence of s (\"zabcde\").\n",
    "It can be shown that appending any four characters to the end of s will never make t a subsequence.\n",
    "\n",
    "**Constraints:**\n",
    "\n",
    "- `1 <= s.length, t.length <= 105`\n",
    "- `s` and `t` consist only of lowercase English letters."
   ],
   "id": "7cbc30bd8528c868"
  },
  {
   "metadata": {},
   "cell_type": "markdown",
   "source": "## Approach 1: Greedy Matching",
   "id": "8565412871edb148"
  },
  {
   "metadata": {},
   "cell_type": "code",
   "outputs": [],
   "execution_count": null,
   "source": [
    "def appendCharacters1(s: str, t: str) -> int:\n",
    "    \"\"\"\n",
    "    Calculates the minimum number of characters from string 't' \n",
    "    that must be appended to string 's' to make 't' a subsequence of 's'.\n",
    "\n",
    "    This function iterates through both strings, comparing characters at corresponding positions.  \n",
    "    When a match is found, it advances in both strings; otherwise, it only moves forward in the first string. \n",
    "    The function effectively checks if 't' is a subsequence of 's' \n",
    "    (meaning 't' can be formed by deleting zero or more characters from 's'). \n",
    "    The result is the number of characters remaining in 't' after the comparison, \n",
    "    indicating how many need to be appended.\n",
    "\n",
    "    The function operates in O(n) time complexity, \n",
    "    since each character of the string 's' and 't' is visited at most once.\n",
    "    The space complexity is O(1) as the solution here does not require additional space that scales with input size.\n",
    "    \"\"\"\n",
    "\n",
    "    s_index = 0\n",
    "    t_index = 0\n",
    "\n",
    "    s_length = len(s)\n",
    "    t_length = len(t)\n",
    "\n",
    "    while s_index < s_length and t_index < t_length:\n",
    "        if s[s_index] == t[t_index]:\n",
    "            t_index += 1\n",
    "        s_index += 1\n",
    "\n",
    "    # Return the count of remaining characters in 't' that needs to be appended to 's'\n",
    "    return t_length - t_index"
   ],
   "id": "843a5dfba5272334"
  },
  {
   "metadata": {},
   "cell_type": "markdown",
   "source": [
    "### Understanding the Core Idea\n",
    "\n",
    "The central concept of this solution is to leverage the definition of a subsequence to efficiently determine the minimum characters needed to append to `s` to form `t`. A subsequence is a sequence that can be derived from another sequence by deleting some or no elements without changing the order of the remaining elements.\n",
    "\n",
    "- **Two Pointer Technique:** The solution uses two pointers (indices), `s_index` and `t_index`, to traverse strings `s` and `t` respectively.\n",
    "- **Greedy Matching:** The algorithm greedily matches characters from `t` within `s`. When a match is found, both pointers advance; otherwise, only the `s_index` (pointer for `s`) is incremented.\n",
    "---\n",
    "### Code Walkthrough\n",
    "\n",
    "1. **Initialization:**\n",
    "   - Initialize `s_index` and `t_index` to 0, starting from the beginning of both strings.\n",
    "   - Calculate and store the lengths of `s` and `t` (`s_length` and `t_length`) to avoid recomputing them in the loop.\n",
    "\n",
    "2. **Iteration and Matching (while loop):**\n",
    "   - The loop continues as long as we haven't reached the end of either string.\n",
    "   - Inside the loop:\n",
    "     - Compare the characters at `s_index` and `t_index`.\n",
    "     - If they match:\n",
    "       - This means we've found the next character in the subsequence of `t` within `s`.\n",
    "       - Increment both `s_index` and `t_index`.\n",
    "     - If they don't match:\n",
    "       - This means the current character in `s` is not part of the subsequence `t`.\n",
    "       - Only increment `s_index` to continue searching in `s`.\n",
    "\n",
    "3. **Result Calculation/Return:**\n",
    "   - After the loop ends, `t_index` points to the position after the last matched character in `t`.\n",
    "   - The difference `t_length - t_index` represents the number of characters remaining in `t` that haven't been matched and need to be appended to `s`.\n",
    "\n",
    "---\n",
    "\n",
    "### Example\n",
    "\n",
    "**Input:** `s = \"coaching\"`, `t = \"coding\"`\n",
    "\n",
    "**Step-by-Step Walkthrough:**\n",
    "\n",
    "1. **Initialization:**\n",
    "   - `s_index` (pointer for `s`) is set to 0.\n",
    "   - `t_index` (pointer for `t`) is set to 0.\n",
    "   - `s_length` is calculated as 8 (length of \"coaching\").\n",
    "   - `t_length` is calculated as 6 (length of \"coding\").\n",
    "\n",
    "2. **Main Loop (Comparing 's' and 't'):**\n",
    "    - **Iteration 1:**\n",
    "       - **Comparison:** `s[0]` ('c') matches `t[0]` ('c').\n",
    "       - **Action:**  Both `s_index` and `t_index` are incremented to 1.\n",
    "    \n",
    "    - **Iteration 2:**\n",
    "       - **Comparison:** `s[1]` ('o') matches `t[1]` ('o').\n",
    "       - **Action:** Both `s_index` and `t_index` are incremented to 2.\n",
    "    \n",
    "    - **Iterations 3 - 8:**\n",
    "       - **Comparison:** In each iteration, `s[s_index]` does not match `t[t_index]` ('d').\n",
    "       - **Action:** Only `s_index` is incremented.\n",
    "       - **Note:** We're essentially skipping over characters in `s` (\"aching\") that are not part of the subsequence we're looking for (\"coding\").\n",
    "\n",
    "3. **Loop Termination:**\n",
    "   - The loop terminates because `s_index` reaches 8 (end of `s`).  \n",
    "   - At this point, `t_index` is still at 2.\n",
    "\n",
    "4. **Iteration Summary:**\n",
    "    ```\n",
    "        ╒═══════════╤═══════════╤══════════════╤══════════════╤══════════╕\n",
    "        │   s_index │   t_index │ s[s_index]   │ t[t_index]   │ Match?   │\n",
    "        ╞═══════════╪═══════════╪══════════════╪══════════════╪══════════╡\n",
    "        │         0 │         0 │ c            │ c            │ Yes      │\n",
    "        ├───────────┼───────────┼──────────────┼──────────────┼──────────┤\n",
    "        │         1 │         1 │ o            │ o            │ Yes      │\n",
    "        ├───────────┼───────────┼──────────────┼──────────────┼──────────┤\n",
    "        │         2 │         2 │ a            │ d            │ No       │\n",
    "        ├───────────┼───────────┼──────────────┼──────────────┼──────────┤\n",
    "        │         3 │         2 │ c            │ d            │ No       │\n",
    "        ├───────────┼───────────┼──────────────┼──────────────┼──────────┤\n",
    "        │         4 │         2 │ h            │ d            │ No       │\n",
    "        ├───────────┼───────────┼──────────────┼──────────────┼──────────┤\n",
    "        │         5 │         2 │ i            │ d            │ No       │\n",
    "        ├───────────┼───────────┼──────────────┼──────────────┼──────────┤\n",
    "        │         6 │         2 │ n            │ d            │ No       │\n",
    "        ├───────────┼───────────┼──────────────┼──────────────┼──────────┤\n",
    "        │         7 │         2 │ g            │ d            │ No       │\n",
    "        ╘═══════════╧═══════════╧══════════════╧══════════════╧══════════╛\n",
    "    ```\n",
    "\n",
    "5. **Result Calculation:**\n",
    "   - `t_length - t_index` = 6 - 2 = 4.\n",
    "   - This indicates that `4` characters (\"ding\") need to be appended to `s` to make `t` a subsequence.\n",
    "\n",
    "---\n",
    "### Complexity Analysis\n",
    "\n",
    "**Time Complexity:**\n",
    "\n",
    "- $O(n)$, where n is the length of string `s`. This is because in the worst case, we iterate through each character in `s` once. \n",
    "\n",
    "**Space Complexity:**\n",
    "\n",
    "- $O(1)$, as we use a constant amount of space to store variables like indices and lengths, regardless of the input string sizes."
   ],
   "id": "a0f25277523d9d34"
  },
  {
   "metadata": {},
   "cell_type": "markdown",
   "source": [
    "# Day 4 -> 409. Longest Palindrome\n",
    "\n",
    "Given a string `s` which consists of lowercase or uppercase letters, return the length of the **longest palindrome** that can be built with those letters. \n",
    "\n",
    "Letters are **case-sensitive**, for example, `\"Aa\"` is not considered a palindrome.\n",
    "\n",
    "**Example 1:**\n",
    "\n",
    "- **Input:** s = \"abccccdd\"\n",
    "- **Output:** 7\n",
    "- **Explanation:** One longest palindrome that can be built is \"dccaccd\", whose length is 7.\n",
    "\n",
    "**Example 2:**\n",
    "\n",
    "- **Input:** s = \"a\"\n",
    "- **Output:** 1\n",
    "- **Explanation:** The longest palindrome that can be built is \"a\", whose length is 1.\n",
    "\n",
    "**Constraints:**\n",
    "\n",
    "- `1 <= s.length <= 2000`\n",
    "- `s` consists of lowercase **and/or** uppercase English letters only."
   ],
   "id": "29aedf984d9172dc"
  },
  {
   "metadata": {},
   "cell_type": "markdown",
   "source": "## Approach 1: Counting Character Frequencies",
   "id": "9b6dbd5ccb02a4ae"
  },
  {
   "metadata": {},
   "cell_type": "code",
   "outputs": [],
   "execution_count": 1,
   "source": [
    "def longestPalindrome1(s: str) -> int:\n",
    "    \"\"\"\n",
    "    Calculates the length of the longest palindrome that can be built with the characters in the input string 's'.\n",
    "\n",
    "    First, the function counts the frequency of each character using the 'char_count' dictionary.\n",
    "    Then, it iterates through the counts and if the count is even, it adds the count to the result.\n",
    "    If the count is odd, it adds one less than the count to the result and sets 'odd_exists' flag to True.\n",
    "    This is done because palindromes can have at most one character with an odd count (at the center of the palindrome);\n",
    "    all other characters must occur an even number of times.\n",
    "    Finally, if there was at least one character with an odd count,\n",
    "    it adds 1 to the result, accounting for the possible center element in the palindrome.\n",
    "\n",
    "    The total time complexity of this function is O(n) because it iterates over the string 's' once to count characters\n",
    "    and iterates over every character frequency in 'char_count' once.\n",
    "    The space complexity of this function is O(1) because the 'char_count' dictionary will at most contain entries\n",
    "    equal to the number of different characters which are constant.\n",
    "    \"\"\"\n",
    "    char_count = {}\n",
    "\n",
    "    for char in s:\n",
    "        if char in char_count:\n",
    "            char_count[char] += 1\n",
    "        else:\n",
    "            char_count[char] = 1\n",
    "\n",
    "    result = 0\n",
    "    odd_exists = False\n",
    "\n",
    "    for _, count in char_count.items():\n",
    "        if count % 2 == 0:\n",
    "            result += count\n",
    "        else:\n",
    "            result += count - 1\n",
    "            odd_exists = True\n",
    "\n",
    "    # If there was at least one character with an odd count, it can be used as the center of the palindrome\n",
    "    if odd_exists:\n",
    "        result += 1\n",
    "\n",
    "    return result"
   ],
   "id": "8a8c371dcd51e683"
  },
  {
   "metadata": {},
   "cell_type": "markdown",
   "source": [
    "### Understanding the Core Idea\n",
    "\n",
    "The core idea of this solution is to leverage the fact that a palindrome can have at most one character with an odd frequency.  All other characters must occur an even number of times to form a valid palindrome. The algorithm uses a dictionary (`char_count`) to keep track of the frequency of each character in the input string.\n",
    "\n",
    "- **Character Frequency Counting:** By iterating through the input string, the function records how often each character appears in the dictionary.\n",
    "- **Even and Odd Frequencies:** The algorithm processes each character's frequency. If the frequency is even, the entire count can be used in the palindrome. If it's odd, one occurrence is reserved as the potential center of the palindrome, while the rest (an even number) can be used in the mirrored sides.\n",
    "- **Center Character:** The algorithm tracks whether any character has an odd frequency using the `odd_exists` flag. If such a character exists, it can be placed in the center of the palindrome, adding 1 to the total length.\n",
    "\n",
    "---\n",
    "\n",
    "### Code Walkthrough\n",
    "\n",
    "1.  **Initialization:** An empty dictionary `char_count` is created to store character frequencies. Additionally, the `result` variable is initialized to 0 to keep track of the length of the longest palindrome, and `odd_exists` is set to `False`.\n",
    "\n",
    "2.  **Character Frequency Counting:** The code iterates through each character (`char`) in the input string (`s`).\n",
    "    - If `char` is already in `char_count`, its frequency is incremented.\n",
    "    - If not, it's added to `char_count` with a frequency of 1.\n",
    "\n",
    "3.  **Palindrome Length Calculation:** The code iterates over the `char_count` dictionary. For each `count` (frequency) of a character:\n",
    "    - If the `count` is even, it's added directly to the `result`.\n",
    "    - If the `count` is odd, one less than the `count` is added to the `result` to account for the possibility of using one instance of that character as the center of the palindrome. The `odd_exists` flag is also set to `True`.\n",
    "\n",
    "4.  **Center Character Adjustment:** If at least one character had an odd frequency (`odd_exists` is `True`), 1 is added to the `result` to account for the potential center character.\n",
    "\n",
    "5.  **Result Calculation/Return:** The function returns the final calculated `result`, which represents the length of the longest possible palindrome.\n",
    "\n",
    "---\n",
    "### Complexity Analysis\n",
    "\n",
    "**Time Complexity:**\n",
    "\n",
    "- $O(n)$, where n is the length of the input string `s`. The code iterates through the string once to count characters and then iterates over the characters in the dictionary (`char_count`), which in the worst case can have up to 52 unique characters (26 lowercase + 26 uppercase).\n",
    "\n",
    "**Space Complexity:**\n",
    "\n",
    "- $O(1)$. The space used is constant regardless of the input size. The `char_count` dictionary will store at most 52 unique characters.  Even if the input string is very long, the space used remains bounded by this constant."
   ],
   "id": "dced824508221334"
  },
  {
   "metadata": {},
   "cell_type": "markdown",
   "source": "## Approach 2: Using a Set to Track Characters",
   "id": "239dc5a1604c3b38"
  },
  {
   "metadata": {
    "ExecuteTime": {
     "end_time": "2024-06-04T09:00:20.390928Z",
     "start_time": "2024-06-04T09:00:20.385347Z"
    }
   },
   "cell_type": "code",
   "source": [
    "def longestPalindrome2(s: str) -> int:\n",
    "    \"\"\"\n",
    "    Calculates the length of the longest palindrome that can be built with the characters in the input string 's'.\n",
    "\n",
    "    This function uses a set `character_set` to keep track of characters encountered.\n",
    "    For each character, if it is already in the set, it can be paired with its existing counterpart,\n",
    "    contributing 2 to the palindrome length.\n",
    "    If not in the set, it is added to the set as it may be paired with a future character.\n",
    "    In the end, if `character_set` still contains characters,\n",
    "    it means a palindrome can still fit one more character in its middle.\n",
    "    Therefore, the result is incremented by 1 if `character_set` is not empty.\n",
    "\n",
    "    The time complexity is O(n) where n is the length of the input string due to the single pass through the string.\n",
    "    The space complexity is O(1) since the set will contain at most 52 characters (26 lowercase and 26 uppercase).\n",
    "    \"\"\"\n",
    "    character_set = set()\n",
    "    result = 0\n",
    "\n",
    "    for char in s:\n",
    "        if char in character_set:\n",
    "            result += 2\n",
    "            character_set.remove(char)\n",
    "        else:\n",
    "            character_set.add(char)\n",
    "\n",
    "    # If there are characters left in the set, one of them can be used as the center of the palindrome\n",
    "    if character_set:\n",
    "        result += 1\n",
    "\n",
    "    return result"
   ],
   "id": "7ee4b09702c7f5ef",
   "outputs": [],
   "execution_count": 1
  },
  {
   "metadata": {},
   "cell_type": "markdown",
   "source": [
    "### Understanding the Core Idea\n",
    "\n",
    "The core idea of this solution is to leverage the property that a palindrome must have pairs of characters, except for potentially one character in the center if the total length is odd. The solution uses a set (`character_set`) to efficiently track unique characters encountered in the string.\n",
    "\n",
    "- **Set for Pairing:** A set is used to store characters encountered so far.  If a character is found in the set, it means we've seen its pair earlier, and we can increment the palindrome length by 2.\n",
    "- **Removing Pairs:** When a pair is found, the character is removed from the set. This ensures we don't count the same pair twice.\n",
    "- **Center Character:** After processing all characters, any remaining elements in the set represent unpaired characters. If there's at least one, it can be used as the center of the palindrome, adding 1 to the total length.\n",
    "\n",
    "---\n",
    "\n",
    "### Code Walkthrough\n",
    "\n",
    "1. **Initialization:**\n",
    "   - `character_set` is initialized as an empty set to store unique characters.\n",
    "   - `result` is initialized to 0 to keep track of the longest possible palindrome length.\n",
    "\n",
    "2. **Character Processing Loop:**\n",
    "   - The code iterates through each character (`char`) in the input string `s`.\n",
    "     - **Check if character is in set:**\n",
    "       - If `char` is already in `character_set`, it means we've found its pair.\n",
    "       - We increment `result` by 2 (for the pair) and remove `char` from the set.\n",
    "     - **Add character to set:**\n",
    "       - If `char` is not in `character_set`, we add it to the set as a potential pair for a later character.\n",
    "\n",
    "3. **Center Character Check:**\n",
    "   - After processing all characters, we check if the `character_set` is not empty.\n",
    "     - If there are characters remaining, it means one of them can be used as the center of the palindrome.\n",
    "     - In this case, we increment the `result` by 1.\n",
    "\n",
    "4. **Result Calculation/Return:**\n",
    "   - The function returns the final `result`, which is the length of the longest possible palindrome that can be built from the characters in `s`.\n",
    "\n",
    "\n",
    "---\n",
    "\n",
    "### Complexity Analysis\n",
    "\n",
    "**Time Complexity:**\n",
    "\n",
    "- $O(n)$, where n is the length of the input string `s`. This is because the code iterates through the string once, and the set operations (adding, checking membership, and removing) take constant time on average.\n",
    "\n",
    "**Space Complexity:**\n",
    "\n",
    "- $O(1)$. The space used is constant regardless of the input size.  The `character_set` will store at most 52 unique characters (26 lowercase + 26 uppercase)."
   ],
   "id": "30dc8e39371a6b81"
  },
  {
   "metadata": {},
   "cell_type": "markdown",
   "source": [
    "# Day X -> 3. Problem\n",
    "\n",
    "(Problem Statement)"
   ],
   "id": "1daa6e58ccb70cf"
  },
  {
   "metadata": {},
   "cell_type": "markdown",
   "source": "## Approach 1:",
   "id": "8a7e04ba61f97a7f"
  },
  {
   "metadata": {},
   "cell_type": "code",
   "outputs": [],
   "execution_count": null,
   "source": [
    "def problem3_1():\n",
    "    pass"
   ],
   "id": "a2f5c4a40a437c9b"
  },
  {
   "metadata": {},
   "cell_type": "markdown",
   "source": "### Understanding the Core Idea",
   "id": "18daaa5e00339cba"
  },
  {
   "metadata": {},
   "cell_type": "markdown",
   "source": "## Approach 2:",
   "id": "941a4e7c6a72880b"
  },
  {
   "metadata": {},
   "cell_type": "code",
   "outputs": [],
   "execution_count": null,
   "source": [
    "def problem3_2():\n",
    "    pass"
   ],
   "id": "106abbd724be165a"
  },
  {
   "metadata": {},
   "cell_type": "markdown",
   "source": "### Understanding the Core Idea",
   "id": "4cc4176508d4c4fa"
  },
  {
   "metadata": {},
   "cell_type": "markdown",
   "source": [
    "# Day X -> 4. Problem\n",
    "\n",
    "(Problem Statement)"
   ],
   "id": "73283898fd4c8821"
  },
  {
   "metadata": {},
   "cell_type": "markdown",
   "source": "## Approach 1:",
   "id": "84708098736b42a8"
  },
  {
   "metadata": {},
   "cell_type": "code",
   "outputs": [],
   "execution_count": null,
   "source": [
    "def problem4_1():\n",
    "    pass"
   ],
   "id": "25c00af5995895bf"
  },
  {
   "metadata": {},
   "cell_type": "markdown",
   "source": "### Understanding the Core Idea",
   "id": "f83e5a808cb887e9"
  },
  {
   "metadata": {},
   "cell_type": "markdown",
   "source": "## Approach 2:",
   "id": "381449ebbacf06bd"
  },
  {
   "metadata": {},
   "cell_type": "code",
   "outputs": [],
   "execution_count": null,
   "source": [
    "def problem4_2():\n",
    "    pass"
   ],
   "id": "43918f1336ed2460"
  },
  {
   "metadata": {},
   "cell_type": "markdown",
   "source": "### Understanding the Core Idea",
   "id": "75cb475c0228b58f"
  },
  {
   "metadata": {},
   "cell_type": "markdown",
   "source": [
    "# Day X -> 5. Problem\n",
    "\n",
    "(Problem Statement)"
   ],
   "id": "bec542de90b7757"
  },
  {
   "metadata": {},
   "cell_type": "markdown",
   "source": "## Approach 1:",
   "id": "836f8fd667b47f22"
  },
  {
   "metadata": {},
   "cell_type": "code",
   "outputs": [],
   "execution_count": null,
   "source": [
    "def problem5_1():\n",
    "    pass"
   ],
   "id": "aaf031b84320b126"
  },
  {
   "metadata": {},
   "cell_type": "markdown",
   "source": "### Understanding the Core Idea",
   "id": "512c7ed1c637d6b0"
  },
  {
   "metadata": {},
   "cell_type": "markdown",
   "source": "## Approach 2:",
   "id": "94331d7c44dac83e"
  },
  {
   "metadata": {},
   "cell_type": "code",
   "outputs": [],
   "execution_count": null,
   "source": [
    "def problem5_2():\n",
    "    pass"
   ],
   "id": "8c4a3e97c8b84921"
  },
  {
   "metadata": {},
   "cell_type": "markdown",
   "source": "### Understanding the Core Idea",
   "id": "3ebcb9d8d1615f69"
  },
  {
   "metadata": {},
   "cell_type": "markdown",
   "source": [
    "# Day X -> 6. Problem\n",
    "\n",
    "(Problem Statement)"
   ],
   "id": "bbdbdddc5771697"
  },
  {
   "metadata": {},
   "cell_type": "markdown",
   "source": "## Approach 1:",
   "id": "8d994be371b640a2"
  },
  {
   "metadata": {},
   "cell_type": "code",
   "outputs": [],
   "execution_count": null,
   "source": [
    "def problem6_1():\n",
    "    pass"
   ],
   "id": "7a3f2eb3a0dafe9c"
  },
  {
   "metadata": {},
   "cell_type": "markdown",
   "source": "### Understanding the Core Idea",
   "id": "fd0801c540eeff7c"
  },
  {
   "metadata": {},
   "cell_type": "markdown",
   "source": "## Approach 2:",
   "id": "afb62061587d6bc0"
  },
  {
   "metadata": {},
   "cell_type": "code",
   "outputs": [],
   "execution_count": null,
   "source": [
    "def problem6_2():\n",
    "    pass"
   ],
   "id": "19d4e964700e3308"
  },
  {
   "metadata": {},
   "cell_type": "markdown",
   "source": "### Understanding the Core Idea",
   "id": "a8095713c47ed2e4"
  },
  {
   "metadata": {},
   "cell_type": "markdown",
   "source": [
    "# Day X -> 7. Problem\n",
    "\n",
    "(Problem Statement)"
   ],
   "id": "d68a96e6638360d5"
  },
  {
   "metadata": {},
   "cell_type": "markdown",
   "source": "## Approach 1:",
   "id": "69aeec8f0a94a91a"
  },
  {
   "metadata": {},
   "cell_type": "code",
   "outputs": [],
   "execution_count": null,
   "source": [
    "def problem7_1():\n",
    "    pass"
   ],
   "id": "5c5589184e7f1d3b"
  },
  {
   "metadata": {},
   "cell_type": "markdown",
   "source": "### Understanding the Core Idea",
   "id": "895519b483e61aaf"
  },
  {
   "metadata": {},
   "cell_type": "markdown",
   "source": "## Approach 2:",
   "id": "248ed68be08de7f0"
  },
  {
   "metadata": {},
   "cell_type": "code",
   "outputs": [],
   "execution_count": null,
   "source": [
    "def problem7_2():\n",
    "    pass"
   ],
   "id": "eb3ca839a3984ba8"
  },
  {
   "metadata": {},
   "cell_type": "markdown",
   "source": "### Understanding the Core Idea",
   "id": "285cffcedd3421c1"
  }
 ],
 "metadata": {
  "kernelspec": {
   "display_name": "Python 3",
   "language": "python",
   "name": "python3"
  },
  "language_info": {
   "codemirror_mode": {
    "name": "ipython",
    "version": 2
   },
   "file_extension": ".py",
   "mimetype": "text/x-python",
   "name": "python",
   "nbconvert_exporter": "python",
   "pygments_lexer": "ipython2",
   "version": "2.7.6"
  }
 },
 "nbformat": 4,
 "nbformat_minor": 5
}
