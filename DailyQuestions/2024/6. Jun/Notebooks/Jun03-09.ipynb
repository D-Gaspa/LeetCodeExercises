{
 "cells": [
  {
   "metadata": {},
   "cell_type": "markdown",
   "source": "# Week 1: June 3rd - June 9th, 2024",
   "id": "9eb245326898fc49"
  },
  {
   "metadata": {},
   "cell_type": "markdown",
   "source": [
    "# Day 3 -> 2486. Append Characters to String to Make Subsequence\n",
    "\n",
    "You are given two strings `s` and `t` consisting of only lowercase English letters.\n",
    "\n",
    "Return *the minimum number of characters that need to be appended to the end of* `s` *so that* `t` *becomes a **subsequence** of* `s`.\n",
    "\n",
    "A **subsequence** is a string that can be derived from another string by deleting some or no characters without changing the order of the remaining characters.\n",
    "\n",
    "**Example 1:**\n",
    "\n",
    "- **Input:** s = \"coaching\", t = \"coding\"\n",
    "- **Output:** 4\n",
    "- **Explanation:** Append the characters \"ding\" to the end of s so that s = \"coachingding\".\n",
    "Now, t is a subsequence of s (\"coachingding\").\n",
    "It can be shown that appending any three characters to the end of s will never make t a subsequence.\n",
    "\n",
    "**Example 2:**\n",
    "\n",
    "- **Input:** s = \"abcde\", t = \"a\"\n",
    "- **Output:** 0\n",
    "- **Explanation:** t is already a subsequence of s (\"abcde\").\n",
    "\n",
    "**Example 3:**\n",
    "\n",
    "- **Input:** s = \"z\", t = \"abcde\"\n",
    "- **Output:** 5\n",
    "- **Explanation:** Append the characters \"abcde\" to the end of s so that s = \"zabcde\".\n",
    "Now, t is a subsequence of s (\"zabcde\").\n",
    "It can be shown that appending any four characters to the end of s will never make t a subsequence.\n",
    "\n",
    "**Constraints:**\n",
    "\n",
    "- `1 <= s.length, t.length <= 105`\n",
    "- `s` and `t` consist only of lowercase English letters."
   ],
   "id": "7cbc30bd8528c868"
  },
  {
   "metadata": {},
   "cell_type": "markdown",
   "source": "## Approach 1: ",
   "id": "8565412871edb148"
  },
  {
   "metadata": {},
   "cell_type": "code",
   "outputs": [],
   "execution_count": null,
   "source": [
    "def problem1_1():\n",
    "    pass"
   ],
   "id": "843a5dfba5272334"
  },
  {
   "metadata": {},
   "cell_type": "markdown",
   "source": "### Understanding the Core Idea",
   "id": "a0f25277523d9d34"
  },
  {
   "metadata": {},
   "cell_type": "markdown",
   "source": "## Approach 2:",
   "id": "ce286c61cd936e6b"
  },
  {
   "metadata": {},
   "cell_type": "code",
   "outputs": [],
   "execution_count": null,
   "source": [
    "def problem1_2():\n",
    "    pass"
   ],
   "id": "3f93c04ff8454a39"
  },
  {
   "metadata": {},
   "cell_type": "markdown",
   "source": "### Understanding the Core Idea",
   "id": "8ca6170a2959fd61"
  },
  {
   "metadata": {},
   "cell_type": "markdown",
   "source": [
    "# Day X -> 2. Problem\n",
    "\n",
    "(Problem Statement)"
   ],
   "id": "29aedf984d9172dc"
  },
  {
   "metadata": {},
   "cell_type": "markdown",
   "source": "## Approach 1:",
   "id": "9b6dbd5ccb02a4ae"
  },
  {
   "metadata": {},
   "cell_type": "code",
   "outputs": [],
   "execution_count": 1,
   "source": [
    "def problem2_1():\n",
    "    pass"
   ],
   "id": "8a8c371dcd51e683"
  },
  {
   "metadata": {},
   "cell_type": "markdown",
   "source": "### Understanding the Core Idea",
   "id": "dced824508221334"
  },
  {
   "metadata": {},
   "cell_type": "markdown",
   "source": "## Approach 2:",
   "id": "239dc5a1604c3b38"
  },
  {
   "metadata": {},
   "cell_type": "code",
   "outputs": [],
   "execution_count": null,
   "source": [
    "def problem2_2():\n",
    "    pass"
   ],
   "id": "7ee4b09702c7f5ef"
  },
  {
   "metadata": {},
   "cell_type": "markdown",
   "source": "### Understanding the Core Idea",
   "id": "30dc8e39371a6b81"
  },
  {
   "metadata": {},
   "cell_type": "markdown",
   "source": [
    "# Day X -> 3. Problem\n",
    "\n",
    "(Problem Statement)"
   ],
   "id": "1daa6e58ccb70cf"
  },
  {
   "metadata": {},
   "cell_type": "markdown",
   "source": "## Approach 1:",
   "id": "8a7e04ba61f97a7f"
  },
  {
   "metadata": {},
   "cell_type": "code",
   "outputs": [],
   "execution_count": null,
   "source": [
    "def problem3_1():\n",
    "    pass"
   ],
   "id": "a2f5c4a40a437c9b"
  },
  {
   "metadata": {},
   "cell_type": "markdown",
   "source": "### Understanding the Core Idea",
   "id": "18daaa5e00339cba"
  },
  {
   "metadata": {},
   "cell_type": "markdown",
   "source": "## Approach 2:",
   "id": "941a4e7c6a72880b"
  },
  {
   "metadata": {},
   "cell_type": "code",
   "outputs": [],
   "execution_count": null,
   "source": [
    "def problem3_2():\n",
    "    pass"
   ],
   "id": "106abbd724be165a"
  },
  {
   "metadata": {},
   "cell_type": "markdown",
   "source": "### Understanding the Core Idea",
   "id": "4cc4176508d4c4fa"
  },
  {
   "metadata": {},
   "cell_type": "markdown",
   "source": [
    "# Day X -> 4. Problem\n",
    "\n",
    "(Problem Statement)"
   ],
   "id": "73283898fd4c8821"
  },
  {
   "metadata": {},
   "cell_type": "markdown",
   "source": "## Approach 1:",
   "id": "84708098736b42a8"
  },
  {
   "metadata": {},
   "cell_type": "code",
   "outputs": [],
   "execution_count": null,
   "source": [
    "def problem4_1():\n",
    "    pass"
   ],
   "id": "25c00af5995895bf"
  },
  {
   "metadata": {},
   "cell_type": "markdown",
   "source": "### Understanding the Core Idea",
   "id": "f83e5a808cb887e9"
  },
  {
   "metadata": {},
   "cell_type": "markdown",
   "source": "## Approach 2:",
   "id": "381449ebbacf06bd"
  },
  {
   "metadata": {},
   "cell_type": "code",
   "outputs": [],
   "execution_count": null,
   "source": [
    "def problem4_2():\n",
    "    pass"
   ],
   "id": "43918f1336ed2460"
  },
  {
   "metadata": {},
   "cell_type": "markdown",
   "source": "### Understanding the Core Idea",
   "id": "75cb475c0228b58f"
  },
  {
   "metadata": {},
   "cell_type": "markdown",
   "source": [
    "# Day X -> 5. Problem\n",
    "\n",
    "(Problem Statement)"
   ],
   "id": "bec542de90b7757"
  },
  {
   "metadata": {},
   "cell_type": "markdown",
   "source": "## Approach 1:",
   "id": "836f8fd667b47f22"
  },
  {
   "metadata": {},
   "cell_type": "code",
   "outputs": [],
   "execution_count": null,
   "source": [
    "def problem5_1():\n",
    "    pass"
   ],
   "id": "aaf031b84320b126"
  },
  {
   "metadata": {},
   "cell_type": "markdown",
   "source": "### Understanding the Core Idea",
   "id": "512c7ed1c637d6b0"
  },
  {
   "metadata": {},
   "cell_type": "markdown",
   "source": "## Approach 2:",
   "id": "94331d7c44dac83e"
  },
  {
   "metadata": {},
   "cell_type": "code",
   "outputs": [],
   "execution_count": null,
   "source": [
    "def problem5_2():\n",
    "    pass"
   ],
   "id": "8c4a3e97c8b84921"
  },
  {
   "metadata": {},
   "cell_type": "markdown",
   "source": "### Understanding the Core Idea",
   "id": "3ebcb9d8d1615f69"
  },
  {
   "metadata": {},
   "cell_type": "markdown",
   "source": [
    "# Day X -> 6. Problem\n",
    "\n",
    "(Problem Statement)"
   ],
   "id": "bbdbdddc5771697"
  },
  {
   "metadata": {},
   "cell_type": "markdown",
   "source": "## Approach 1:",
   "id": "8d994be371b640a2"
  },
  {
   "metadata": {},
   "cell_type": "code",
   "outputs": [],
   "execution_count": null,
   "source": [
    "def problem6_1():\n",
    "    pass"
   ],
   "id": "7a3f2eb3a0dafe9c"
  },
  {
   "metadata": {},
   "cell_type": "markdown",
   "source": "### Understanding the Core Idea",
   "id": "fd0801c540eeff7c"
  },
  {
   "metadata": {},
   "cell_type": "markdown",
   "source": "## Approach 2:",
   "id": "afb62061587d6bc0"
  },
  {
   "metadata": {},
   "cell_type": "code",
   "outputs": [],
   "execution_count": null,
   "source": [
    "def problem6_2():\n",
    "    pass"
   ],
   "id": "19d4e964700e3308"
  },
  {
   "metadata": {},
   "cell_type": "markdown",
   "source": "### Understanding the Core Idea",
   "id": "a8095713c47ed2e4"
  },
  {
   "metadata": {},
   "cell_type": "markdown",
   "source": [
    "# Day X -> 7. Problem\n",
    "\n",
    "(Problem Statement)"
   ],
   "id": "d68a96e6638360d5"
  },
  {
   "metadata": {},
   "cell_type": "markdown",
   "source": "## Approach 1:",
   "id": "69aeec8f0a94a91a"
  },
  {
   "metadata": {},
   "cell_type": "code",
   "outputs": [],
   "execution_count": null,
   "source": [
    "def problem7_1():\n",
    "    pass"
   ],
   "id": "5c5589184e7f1d3b"
  },
  {
   "metadata": {},
   "cell_type": "markdown",
   "source": "### Understanding the Core Idea",
   "id": "895519b483e61aaf"
  },
  {
   "metadata": {},
   "cell_type": "markdown",
   "source": "## Approach 2:",
   "id": "248ed68be08de7f0"
  },
  {
   "metadata": {},
   "cell_type": "code",
   "outputs": [],
   "execution_count": null,
   "source": [
    "def problem7_2():\n",
    "    pass"
   ],
   "id": "eb3ca839a3984ba8"
  },
  {
   "metadata": {},
   "cell_type": "markdown",
   "source": "### Understanding the Core Idea",
   "id": "285cffcedd3421c1"
  }
 ],
 "metadata": {
  "kernelspec": {
   "display_name": "Python 3",
   "language": "python",
   "name": "python3"
  },
  "language_info": {
   "codemirror_mode": {
    "name": "ipython",
    "version": 2
   },
   "file_extension": ".py",
   "mimetype": "text/x-python",
   "name": "python",
   "nbconvert_exporter": "python",
   "pygments_lexer": "ipython2",
   "version": "2.7.6"
  }
 },
 "nbformat": 4,
 "nbformat_minor": 5
}
