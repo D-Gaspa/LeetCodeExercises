{
 "cells": [
  {
   "metadata": {},
   "cell_type": "markdown",
   "source": "# Week 1: June 3rd - June 9th, 2024",
   "id": "9eb245326898fc49"
  },
  {
   "metadata": {},
   "cell_type": "markdown",
   "source": [
    "# Day 3 -> 2486. Append Characters to String to Make Subsequence\n",
    "\n",
    "You are given two strings `s` and `t` consisting of only lowercase English letters.\n",
    "\n",
    "Return *the minimum number of characters that need to be appended to the end of* `s` *so that* `t` *becomes a **subsequence** of* `s`.\n",
    "\n",
    "A **subsequence** is a string that can be derived from another string by deleting some or no characters without changing the order of the remaining characters.\n",
    "\n",
    "**Example 1:**\n",
    "\n",
    "- **Input:** s = \"coaching\", t = \"coding\"\n",
    "- **Output:** 4\n",
    "- **Explanation:** Append the characters \"ding\" to the end of s so that s = \"coachingding\".\n",
    "Now, t is a subsequence of s (\"coachingding\").\n",
    "It can be shown that appending any three characters to the end of s will never make t a subsequence.\n",
    "\n",
    "**Example 2:**\n",
    "\n",
    "- **Input:** s = \"abcde\", t = \"a\"\n",
    "- **Output:** 0\n",
    "- **Explanation:** t is already a subsequence of s (\"abcde\").\n",
    "\n",
    "**Example 3:**\n",
    "\n",
    "- **Input:** s = \"z\", t = \"abcde\"\n",
    "- **Output:** 5\n",
    "- **Explanation:** Append the characters \"abcde\" to the end of s so that s = \"zabcde\".\n",
    "Now, t is a subsequence of s (\"zabcde\").\n",
    "It can be shown that appending any four characters to the end of s will never make t a subsequence.\n",
    "\n",
    "**Constraints:**\n",
    "\n",
    "- `1 <= s.length, t.length <= 105`\n",
    "- `s` and `t` consist only of lowercase English letters."
   ],
   "id": "7cbc30bd8528c868"
  },
  {
   "metadata": {},
   "cell_type": "markdown",
   "source": "## Approach 1: ",
   "id": "8565412871edb148"
  },
  {
   "metadata": {},
   "cell_type": "code",
   "outputs": [],
   "execution_count": null,
   "source": [
    "def appendCharacters1(s: str, t: str) -> int:\n",
    "    \"\"\"\n",
    "    Calculates the minimum number of characters from string 't' \n",
    "    that must be appended to string 's' to make 't' a subsequence of 's'.\n",
    "\n",
    "    This function iterates through both strings, comparing characters at corresponding positions.  \n",
    "    When a match is found, it advances in both strings; otherwise, it only moves forward in the first string. \n",
    "    The function effectively checks if 't' is a subsequence of 's' \n",
    "    (meaning 't' can be formed by deleting zero or more characters from 's'). \n",
    "    The result is the number of characters remaining in 't' after the comparison, \n",
    "    indicating how many need to be appended.\n",
    "\n",
    "    The function operates in O(n) time complexity, \n",
    "    since each character of the string 's' and 't' is visited at most once.\n",
    "    The space complexity is O(1) as the solution here does not require additional space that scales with input size.\n",
    "    \"\"\"\n",
    "\n",
    "    s_index = 0\n",
    "    t_index = 0\n",
    "\n",
    "    s_length = len(s)\n",
    "    t_length = len(t)\n",
    "\n",
    "    while s_index < s_length and t_index < t_length:\n",
    "        if s[s_index] == t[t_index]:\n",
    "            t_index += 1\n",
    "        s_index += 1\n",
    "\n",
    "    # Return the count of remaining characters in 't' that needs to be appended to 's'\n",
    "    return t_length - t_index"
   ],
   "id": "843a5dfba5272334"
  },
  {
   "metadata": {},
   "cell_type": "markdown",
   "source": [
    "### Understanding the Core Idea\n",
    "\n",
    "The central concept of this solution is to leverage the definition of a subsequence to efficiently determine the minimum characters needed to append to `s` to form `t`. A subsequence is a sequence that can be derived from another sequence by deleting some or no elements without changing the order of the remaining elements.\n",
    "\n",
    "- **Two Pointer Technique:** The solution uses two pointers (indices), `s_index` and `t_index`, to traverse strings `s` and `t` respectively.\n",
    "- **Greedy Matching:** The algorithm greedily matches characters from `t` within `s`. When a match is found, both pointers advance; otherwise, only the `s_index` (pointer for `s`) is incremented.\n",
    "---\n",
    "### Code Walkthrough\n",
    "\n",
    "1. **Initialization:**\n",
    "   - Initialize `s_index` and `t_index` to 0, starting from the beginning of both strings.\n",
    "   - Calculate and store the lengths of `s` and `t` (`s_length` and `t_length`) to avoid recomputing them in the loop.\n",
    "\n",
    "2. **Iteration and Matching (while loop):**\n",
    "   - The loop continues as long as we haven't reached the end of either string.\n",
    "   - Inside the loop:\n",
    "     - Compare the characters at `s_index` and `t_index`.\n",
    "     - If they match:\n",
    "       - This means we've found the next character in the subsequence of `t` within `s`.\n",
    "       - Increment both `s_index` and `t_index`.\n",
    "     - If they don't match:\n",
    "       - This means the current character in `s` is not part of the subsequence `t`.\n",
    "       - Only increment `s_index` to continue searching in `s`.\n",
    "\n",
    "3. **Result Calculation/Return:**\n",
    "   - After the loop ends, `t_index` points to the position after the last matched character in `t`.\n",
    "   - The difference `t_length - t_index` represents the number of characters remaining in `t` that haven't been matched and need to be appended to `s`.\n",
    "\n",
    "---\n",
    "\n",
    "### Example\n",
    "\n",
    "**Input:** `s = \"coaching\"`, `t = \"coding\"`\n",
    "\n",
    "**Step-by-Step Walkthrough:**\n",
    "\n",
    "1. **Initialization:**\n",
    "   - `s_index` (pointer for `s`) is set to 0.\n",
    "   - `t_index` (pointer for `t`) is set to 0.\n",
    "   - `s_length` is calculated as 8 (length of \"coaching\").\n",
    "   - `t_length` is calculated as 6 (length of \"coding\").\n",
    "\n",
    "2. **Main Loop (Comparing 's' and 't'):**\n",
    "    - **Iteration 1:**\n",
    "       - **Comparison:** `s[0]` ('c') matches `t[0]` ('c').\n",
    "       - **Action:**  Both `s_index` and `t_index` are incremented to 1.\n",
    "    \n",
    "    - **Iteration 2:**\n",
    "       - **Comparison:** `s[1]` ('o') matches `t[1]` ('o').\n",
    "       - **Action:** Both `s_index` and `t_index` are incremented to 2.\n",
    "    \n",
    "    - **Iterations 3 - 8:**\n",
    "       - **Comparison:** In each iteration, `s[s_index]` does not match `t[t_index]` ('d').\n",
    "       - **Action:** Only `s_index` is incremented.\n",
    "       - **Note:** We're essentially skipping over characters in `s` (\"aching\") that are not part of the subsequence we're looking for (\"coding\").\n",
    "\n",
    "3. **Loop Termination:**\n",
    "   - The loop terminates because `s_index` reaches 8 (end of `s`).  \n",
    "   - At this point, `t_index` is still at 2.\n",
    "\n",
    "4. **Iteration Summary:**\n",
    "    ```\n",
    "        ╒═══════════╤═══════════╤══════════════╤══════════════╤══════════╕\n",
    "        │   s_index │   t_index │ s[s_index]   │ t[t_index]   │ Match?   │\n",
    "        ╞═══════════╪═══════════╪══════════════╪══════════════╪══════════╡\n",
    "        │         0 │         0 │ c            │ c            │ Yes      │\n",
    "        ├───────────┼───────────┼──────────────┼──────────────┼──────────┤\n",
    "        │         1 │         1 │ o            │ o            │ Yes      │\n",
    "        ├───────────┼───────────┼──────────────┼──────────────┼──────────┤\n",
    "        │         2 │         2 │ a            │ d            │ No       │\n",
    "        ├───────────┼───────────┼──────────────┼──────────────┼──────────┤\n",
    "        │         3 │         2 │ c            │ d            │ No       │\n",
    "        ├───────────┼───────────┼──────────────┼──────────────┼──────────┤\n",
    "        │         4 │         2 │ h            │ d            │ No       │\n",
    "        ├───────────┼───────────┼──────────────┼──────────────┼──────────┤\n",
    "        │         5 │         2 │ i            │ d            │ No       │\n",
    "        ├───────────┼───────────┼──────────────┼──────────────┼──────────┤\n",
    "        │         6 │         2 │ n            │ d            │ No       │\n",
    "        ├───────────┼───────────┼──────────────┼──────────────┼──────────┤\n",
    "        │         7 │         2 │ g            │ d            │ No       │\n",
    "        ╘═══════════╧═══════════╧══════════════╧══════════════╧══════════╛\n",
    "    ```\n",
    "\n",
    "5. **Result Calculation:**\n",
    "   - `t_length - t_index` = 6 - 2 = 4.\n",
    "   - This indicates that `4` characters (\"ding\") need to be appended to `s` to make `t` a subsequence.\n",
    "\n",
    "---\n",
    "### Complexity Analysis\n",
    "\n",
    "**Time Complexity:**\n",
    "\n",
    "- $O(n)$, where n is the length of string `s`. This is because in the worst case, we iterate through each character in `s` once. \n",
    "\n",
    "**Space Complexity:**\n",
    "\n",
    "- $O(1)$, as we use a constant amount of space to store variables like indices and lengths, regardless of the input string sizes."
   ],
   "id": "a0f25277523d9d34"
  },
  {
   "metadata": {},
   "cell_type": "markdown",
   "source": [
    "# Day 4 -> 409. Longest Palindrome\n",
    "\n",
    "Given a string `s` which consists of lowercase or uppercase letters, return the length of the **longest palindrome** that can be built with those letters. \n",
    "\n",
    "Letters are **case-sensitive**, for example, `\"Aa\"` is not considered a palindrome.\n",
    "\n",
    "**Example 1:**\n",
    "\n",
    "- **Input:** s = \"abccccdd\"\n",
    "- **Output:** 7\n",
    "- **Explanation:** One longest palindrome that can be built is \"dccaccd\", whose length is 7.\n",
    "\n",
    "**Example 2:**\n",
    "\n",
    "- **Input:** s = \"a\"\n",
    "- **Output:** 1\n",
    "- **Explanation:** The longest palindrome that can be built is \"a\", whose length is 1.\n",
    "\n",
    "**Constraints:**\n",
    "\n",
    "- `1 <= s.length <= 2000`\n",
    "- `s` consists of lowercase **and/or** uppercase English letters only."
   ],
   "id": "29aedf984d9172dc"
  },
  {
   "metadata": {},
   "cell_type": "markdown",
   "source": "## Approach 1:",
   "id": "9b6dbd5ccb02a4ae"
  },
  {
   "metadata": {},
   "cell_type": "code",
   "outputs": [],
   "execution_count": 1,
   "source": [
    "def problem2_1():\n",
    "    pass"
   ],
   "id": "8a8c371dcd51e683"
  },
  {
   "metadata": {},
   "cell_type": "markdown",
   "source": "### Understanding the Core Idea",
   "id": "dced824508221334"
  },
  {
   "metadata": {},
   "cell_type": "markdown",
   "source": "## Approach 2:",
   "id": "239dc5a1604c3b38"
  },
  {
   "metadata": {},
   "cell_type": "code",
   "outputs": [],
   "execution_count": null,
   "source": [
    "def problem2_2():\n",
    "    pass"
   ],
   "id": "7ee4b09702c7f5ef"
  },
  {
   "metadata": {},
   "cell_type": "markdown",
   "source": "### Understanding the Core Idea",
   "id": "30dc8e39371a6b81"
  },
  {
   "metadata": {},
   "cell_type": "markdown",
   "source": [
    "# Day X -> 3. Problem\n",
    "\n",
    "(Problem Statement)"
   ],
   "id": "1daa6e58ccb70cf"
  },
  {
   "metadata": {},
   "cell_type": "markdown",
   "source": "## Approach 1:",
   "id": "8a7e04ba61f97a7f"
  },
  {
   "metadata": {},
   "cell_type": "code",
   "outputs": [],
   "execution_count": null,
   "source": [
    "def problem3_1():\n",
    "    pass"
   ],
   "id": "a2f5c4a40a437c9b"
  },
  {
   "metadata": {},
   "cell_type": "markdown",
   "source": "### Understanding the Core Idea",
   "id": "18daaa5e00339cba"
  },
  {
   "metadata": {},
   "cell_type": "markdown",
   "source": "## Approach 2:",
   "id": "941a4e7c6a72880b"
  },
  {
   "metadata": {},
   "cell_type": "code",
   "outputs": [],
   "execution_count": null,
   "source": [
    "def problem3_2():\n",
    "    pass"
   ],
   "id": "106abbd724be165a"
  },
  {
   "metadata": {},
   "cell_type": "markdown",
   "source": "### Understanding the Core Idea",
   "id": "4cc4176508d4c4fa"
  },
  {
   "metadata": {},
   "cell_type": "markdown",
   "source": [
    "# Day X -> 4. Problem\n",
    "\n",
    "(Problem Statement)"
   ],
   "id": "73283898fd4c8821"
  },
  {
   "metadata": {},
   "cell_type": "markdown",
   "source": "## Approach 1:",
   "id": "84708098736b42a8"
  },
  {
   "metadata": {},
   "cell_type": "code",
   "outputs": [],
   "execution_count": null,
   "source": [
    "def problem4_1():\n",
    "    pass"
   ],
   "id": "25c00af5995895bf"
  },
  {
   "metadata": {},
   "cell_type": "markdown",
   "source": "### Understanding the Core Idea",
   "id": "f83e5a808cb887e9"
  },
  {
   "metadata": {},
   "cell_type": "markdown",
   "source": "## Approach 2:",
   "id": "381449ebbacf06bd"
  },
  {
   "metadata": {},
   "cell_type": "code",
   "outputs": [],
   "execution_count": null,
   "source": [
    "def problem4_2():\n",
    "    pass"
   ],
   "id": "43918f1336ed2460"
  },
  {
   "metadata": {},
   "cell_type": "markdown",
   "source": "### Understanding the Core Idea",
   "id": "75cb475c0228b58f"
  },
  {
   "metadata": {},
   "cell_type": "markdown",
   "source": [
    "# Day X -> 5. Problem\n",
    "\n",
    "(Problem Statement)"
   ],
   "id": "bec542de90b7757"
  },
  {
   "metadata": {},
   "cell_type": "markdown",
   "source": "## Approach 1:",
   "id": "836f8fd667b47f22"
  },
  {
   "metadata": {},
   "cell_type": "code",
   "outputs": [],
   "execution_count": null,
   "source": [
    "def problem5_1():\n",
    "    pass"
   ],
   "id": "aaf031b84320b126"
  },
  {
   "metadata": {},
   "cell_type": "markdown",
   "source": "### Understanding the Core Idea",
   "id": "512c7ed1c637d6b0"
  },
  {
   "metadata": {},
   "cell_type": "markdown",
   "source": "## Approach 2:",
   "id": "94331d7c44dac83e"
  },
  {
   "metadata": {},
   "cell_type": "code",
   "outputs": [],
   "execution_count": null,
   "source": [
    "def problem5_2():\n",
    "    pass"
   ],
   "id": "8c4a3e97c8b84921"
  },
  {
   "metadata": {},
   "cell_type": "markdown",
   "source": "### Understanding the Core Idea",
   "id": "3ebcb9d8d1615f69"
  },
  {
   "metadata": {},
   "cell_type": "markdown",
   "source": [
    "# Day X -> 6. Problem\n",
    "\n",
    "(Problem Statement)"
   ],
   "id": "bbdbdddc5771697"
  },
  {
   "metadata": {},
   "cell_type": "markdown",
   "source": "## Approach 1:",
   "id": "8d994be371b640a2"
  },
  {
   "metadata": {},
   "cell_type": "code",
   "outputs": [],
   "execution_count": null,
   "source": [
    "def problem6_1():\n",
    "    pass"
   ],
   "id": "7a3f2eb3a0dafe9c"
  },
  {
   "metadata": {},
   "cell_type": "markdown",
   "source": "### Understanding the Core Idea",
   "id": "fd0801c540eeff7c"
  },
  {
   "metadata": {},
   "cell_type": "markdown",
   "source": "## Approach 2:",
   "id": "afb62061587d6bc0"
  },
  {
   "metadata": {},
   "cell_type": "code",
   "outputs": [],
   "execution_count": null,
   "source": [
    "def problem6_2():\n",
    "    pass"
   ],
   "id": "19d4e964700e3308"
  },
  {
   "metadata": {},
   "cell_type": "markdown",
   "source": "### Understanding the Core Idea",
   "id": "a8095713c47ed2e4"
  },
  {
   "metadata": {},
   "cell_type": "markdown",
   "source": [
    "# Day X -> 7. Problem\n",
    "\n",
    "(Problem Statement)"
   ],
   "id": "d68a96e6638360d5"
  },
  {
   "metadata": {},
   "cell_type": "markdown",
   "source": "## Approach 1:",
   "id": "69aeec8f0a94a91a"
  },
  {
   "metadata": {},
   "cell_type": "code",
   "outputs": [],
   "execution_count": null,
   "source": [
    "def problem7_1():\n",
    "    pass"
   ],
   "id": "5c5589184e7f1d3b"
  },
  {
   "metadata": {},
   "cell_type": "markdown",
   "source": "### Understanding the Core Idea",
   "id": "895519b483e61aaf"
  },
  {
   "metadata": {},
   "cell_type": "markdown",
   "source": "## Approach 2:",
   "id": "248ed68be08de7f0"
  },
  {
   "metadata": {},
   "cell_type": "code",
   "outputs": [],
   "execution_count": null,
   "source": [
    "def problem7_2():\n",
    "    pass"
   ],
   "id": "eb3ca839a3984ba8"
  },
  {
   "metadata": {},
   "cell_type": "markdown",
   "source": "### Understanding the Core Idea",
   "id": "285cffcedd3421c1"
  }
 ],
 "metadata": {
  "kernelspec": {
   "display_name": "Python 3",
   "language": "python",
   "name": "python3"
  },
  "language_info": {
   "codemirror_mode": {
    "name": "ipython",
    "version": 2
   },
   "file_extension": ".py",
   "mimetype": "text/x-python",
   "name": "python",
   "nbconvert_exporter": "python",
   "pygments_lexer": "ipython2",
   "version": "2.7.6"
  }
 },
 "nbformat": 4,
 "nbformat_minor": 5
}
