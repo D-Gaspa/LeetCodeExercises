{
 "cells": [
  {
   "metadata": {},
   "cell_type": "markdown",
   "source": "# Week 1: June 1st - June 2nd, 2024",
   "id": "f77d10057370a163"
  },
  {
   "metadata": {},
   "cell_type": "markdown",
   "source": [
    "# Day 1 -> 3110. Score of a String\n",
    "\n",
    "You are given a string= `s`. The= **score**= of a string is defined as the sum of the absolute difference between the= **ASCII**= values of adjacent characters.\n",
    "\n",
    "Return the= **score**= of= **`s`.\n",
    "\n",
    "**Example 1:**\n",
    "\n",
    "- **Input:**= s = \"hello\"\n",
    "- **Output:**= 13\n",
    "- **Explanation:**\n",
    "    - The= **ASCII**= values of the characters in= `s`= are:= `'h' = 104`,= `'e' = 101`,= `'l' = 108`,= `'o' = 111`. So, the score of= `s`= would be= `|104 - 101| + |101 - 108| + |108 - 108| + |108 - 111| = 3 + 7 + 0 + 3 = 13`.\n",
    "\n",
    "**Example 2:**\n",
    "\n",
    "- **Input:**= s = \"zaz\"\n",
    "- **Output:**= 50\n",
    "- **Explanation:**\n",
    "    - The= **ASCII**= values of the characters in= `s`= are:= `'z' = 122`,= `'a' = 97`. So, the score of= `s`= would be= `|122 - 97| + |97 - 122| = 25 + 25 = 50`.\n",
    "\n",
    "**Constraints:**\n",
    "\n",
    "- `2 <= s.length <= 100`\n",
    "- `s`= consists only of lowercase English letters."
   ],
   "id": "3f8e9512e3429b4c"
  },
  {
   "metadata": {},
   "cell_type": "markdown",
   "source": "## Approach 1: Linear Iteration",
   "id": "a9d4d1e7b6473af7"
  },
  {
   "metadata": {},
   "cell_type": "code",
   "source": [
    "def scoreOfString(s: str) -> int:\n",
    "    \"\"\"\n",
    "    Calculates the total score of a string based on absolute differences between adjacent character ASCII values.\n",
    "\n",
    "    This function iterates through each pair of adjacent characters in the string,\n",
    "    calculates the absolute difference between their ASCII values, and accumulates this into a total score.\n",
    "\n",
    "    The time complexity of this function is O(n), where n is the length of the string.\n",
    "    This is because it performs a single iteration over the string's characters.\n",
    "    The space complexity is O(1) as it uses a constant amount of extra space to store variables.\n",
    "    \"\"\"\n",
    "    n = len(s)\n",
    "    total_score = 0\n",
    "\n",
    "    for index in range(n - 1):\n",
    "        total_score += abs((ord(s[index]) - ord(s[index + 1])))\n",
    "\n",
    "    # Alternatively, you can use pairwise from itertools to get the pairs of adjacent characters\n",
    "    # s -> (s0, s1), (s1, s2), (s2, s3), ... This alternative approach would have similar time and space\n",
    "    # complexities, but offers a more concise way of generating pairs\n",
    "\n",
    "    return total_score"
   ],
   "id": "e74a059f321ed496",
   "outputs": [],
   "execution_count": null
  },
  {
   "metadata": {},
   "cell_type": "markdown",
   "source": [
    "### Understanding the Core Idea\n",
    "\n",
    "This solution iterates over the string, comparing each character to its immediate successor. It calculates the absolute difference between the ASCII values of these pairs and sums these differences to determine the string's overall score.\n",
    "\n",
    "- **Linear Iteration:** The solution uses a simple `for` loop to traverse the string.\n",
    "- **ASCII Values:** Python's `ord()` function is used to get the integer ASCII value of each character.\n",
    "- **Absolute Difference:** The `abs()` function ensures the differences between ASCII values are always positive, contributing to the score calculation.\n",
    "\n",
    "---\n",
    "\n",
    "### Code Breakdown\n",
    "\n",
    "1.  **Initialization:**\n",
    "    - `n = len(s)`: The length of the input string `s` is calculated and stored in the variable `n`. This is done to optimize the loop by avoiding repeated length calculations.\n",
    "    - `total_score = 0`: An accumulator variable `total_score` is initialized to 0. This variable will hold the running sum of the absolute differences between adjacent character ASCII values.\n",
    "\n",
    "2.  **Iteration and Calculation:**\n",
    "    - `for index in range(n - 1):`: The loop iterates from the first character (index 0) to the second-to-last character (index `n - 2`). This is because the last character does not have a successor to compare with.\n",
    "    - `total_score += abs((ord(s[index]) - ord(s[index + 1])))`: Inside the loop:\n",
    "        - `s[index]` gets the character at the current index.\n",
    "        - `s[index + 1]` gets the next adjacent character.\n",
    "        - `ord()` converts both characters to their ASCII integer representations.\n",
    "        - The absolute difference between these ASCII values is calculated.\n",
    "        - This absolute difference is added to the `total_score` accumulator.\n",
    "\n",
    "3.  **Result Calculation/Return:**\n",
    "    - `return total_score`: After the loop completes, the final accumulated `total_score` is returned as the result. This value represents the sum of the absolute differences between adjacent character ASCII values in the input string.\n",
    "\n",
    "---\n",
    "\n",
    "### Example\n",
    "\n",
    "---\n",
    "\n",
    "### Key Insights \n",
    "-   The alternative approach using `pairwise` from `itertools` could provide a more concise way to iterate over adjacent character pairs, but it wouldn't change the overall time or space complexity. This is simply a stylistic preference.\n",
    "\n",
    "### Complexity Analysis\n",
    "\n",
    "**Time Complexity:**\n",
    "\n",
    "-   $O(n)$, where n is the length of the input string `s`. This is because the solution performs a single iteration over the string's characters, with each iteration involving constant-time operations (character access, ASCII conversion, absolute difference calculation, and addition).\n",
    "\n",
    "**Space Complexity:**\n",
    "\n",
    "-   $O(1)$: The space complexity is constant. This is because the algorithm uses a fixed amount of extra space to store variables like `n` and `total_score`, regardless of the input string's length."
   ],
   "id": "d87a26aed4e3601e"
  },
  {
   "metadata": {},
   "cell_type": "markdown",
   "source": "## Approach 2:",
   "id": "25823ceb639f104e"
  },
  {
   "metadata": {},
   "cell_type": "code",
   "source": [
    "def problem1_2():\n",
    "    pass"
   ],
   "id": "a0e6121d506847c6",
   "outputs": [],
   "execution_count": null
  },
  {
   "metadata": {},
   "cell_type": "markdown",
   "source": "### Understanding the Core Idea",
   "id": "bc5c4901584b6d11"
  },
  {
   "metadata": {},
   "cell_type": "markdown",
   "source": [
    "# Day X -> 2. Problem\n",
    "\n",
    "(Problem Statement)"
   ],
   "id": "fa432b6a08a8ab4a"
  },
  {
   "metadata": {},
   "cell_type": "markdown",
   "source": "## Approach 1:",
   "id": "350a27c7f900476"
  },
  {
   "metadata": {},
   "cell_type": "code",
   "source": [
    "def problem2_1():\n",
    "    pass"
   ],
   "id": "96a6c14d0c052e5",
   "outputs": [],
   "execution_count": null
  },
  {
   "metadata": {},
   "cell_type": "markdown",
   "source": "### Understanding the Core Idea",
   "id": "dc47d72bfaa99e8b"
  },
  {
   "metadata": {},
   "cell_type": "markdown",
   "source": "## Approach 2:",
   "id": "ea190fc679f6f5e8"
  },
  {
   "metadata": {},
   "cell_type": "code",
   "source": [
    "def problem2_2():\n",
    "    pass"
   ],
   "id": "5b11a08dba6de009",
   "outputs": [],
   "execution_count": null
  },
  {
   "metadata": {},
   "cell_type": "markdown",
   "source": "### Understanding the Core Idea",
   "id": "5e2a6b6bced980d6"
  }
 ],
 "metadata": {
  "kernelspec": {
   "display_name": "Python 3",
   "language": "python",
   "name": "python3"
  },
  "language_info": {
   "codemirror_mode": {
    "name": "ipython",
    "version": 2
   },
   "file_extension": ".py",
   "mimetype": "text/x-python",
   "name": "python",
   "nbconvert_exporter": "python",
   "pygments_lexer": "ipython2",
   "version": "2.7.6"
  }
 },
 "nbformat": 4,
 "nbformat_minor": 5
}
