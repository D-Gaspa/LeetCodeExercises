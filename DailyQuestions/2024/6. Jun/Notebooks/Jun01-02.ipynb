{
 "cells": [
  {
   "metadata": {},
   "cell_type": "markdown",
   "source": "# Week 1: June 1st - June 2nd, 2024",
   "id": "f77d10057370a163"
  },
  {
   "metadata": {},
   "cell_type": "markdown",
   "source": [
    "# Day 1 -> 3110. Score of a String\n",
    "\n",
    "You are given a string= `s`. The= **score**= of a string is defined as the sum of the absolute difference between the= **ASCII**= values of adjacent characters.\n",
    "\n",
    "Return the= **score**= of= **`s`.\n",
    "\n",
    "**Example 1:**\n",
    "\n",
    "- **Input:**= s = \"hello\"\n",
    "- **Output:**= 13\n",
    "- **Explanation:**\n",
    "    - The= **ASCII**= values of the characters in= `s`= are:= `'h' = 104`,= `'e' = 101`,= `'l' = 108`,= `'o' = 111`. So, the score of= `s`= would be= `|104 - 101| + |101 - 108| + |108 - 108| + |108 - 111| = 3 + 7 + 0 + 3 = 13`.\n",
    "\n",
    "**Example 2:**\n",
    "\n",
    "- **Input:**= s = \"zaz\"\n",
    "- **Output:**= 50\n",
    "- **Explanation:**\n",
    "    - The= **ASCII**= values of the characters in= `s`= are:= `'z' = 122`,= `'a' = 97`. So, the score of= `s`= would be= `|122 - 97| + |97 - 122| = 25 + 25 = 50`.\n",
    "\n",
    "**Constraints:**\n",
    "\n",
    "- `2 <= s.length <= 100`\n",
    "- `s`= consists only of lowercase English letters."
   ],
   "id": "3f8e9512e3429b4c"
  },
  {
   "metadata": {},
   "cell_type": "markdown",
   "source": "## Approach 1: ",
   "id": "a9d4d1e7b6473af7"
  },
  {
   "metadata": {},
   "cell_type": "code",
   "source": [
    "def problem1_1():\n",
    "    pass"
   ],
   "id": "e74a059f321ed496",
   "outputs": [],
   "execution_count": null
  },
  {
   "metadata": {},
   "cell_type": "markdown",
   "source": "### Understanding the Core Idea",
   "id": "d87a26aed4e3601e"
  },
  {
   "metadata": {},
   "cell_type": "markdown",
   "source": "## Approach 2:",
   "id": "25823ceb639f104e"
  },
  {
   "metadata": {},
   "cell_type": "code",
   "source": [
    "def problem1_2():\n",
    "    pass"
   ],
   "id": "a0e6121d506847c6",
   "outputs": [],
   "execution_count": null
  },
  {
   "metadata": {},
   "cell_type": "markdown",
   "source": "### Understanding the Core Idea",
   "id": "bc5c4901584b6d11"
  },
  {
   "metadata": {},
   "cell_type": "markdown",
   "source": [
    "# Day X -> 2. Problem\n",
    "\n",
    "(Problem Statement)"
   ],
   "id": "fa432b6a08a8ab4a"
  },
  {
   "metadata": {},
   "cell_type": "markdown",
   "source": "## Approach 1:",
   "id": "350a27c7f900476"
  },
  {
   "metadata": {},
   "cell_type": "code",
   "source": [
    "def problem2_1():\n",
    "    pass"
   ],
   "id": "96a6c14d0c052e5",
   "outputs": [],
   "execution_count": null
  },
  {
   "metadata": {},
   "cell_type": "markdown",
   "source": "### Understanding the Core Idea",
   "id": "dc47d72bfaa99e8b"
  },
  {
   "metadata": {},
   "cell_type": "markdown",
   "source": "## Approach 2:",
   "id": "ea190fc679f6f5e8"
  },
  {
   "metadata": {},
   "cell_type": "code",
   "source": [
    "def problem2_2():\n",
    "    pass"
   ],
   "id": "5b11a08dba6de009",
   "outputs": [],
   "execution_count": null
  },
  {
   "metadata": {},
   "cell_type": "markdown",
   "source": "### Understanding the Core Idea",
   "id": "5e2a6b6bced980d6"
  }
 ],
 "metadata": {
  "kernelspec": {
   "display_name": "Python 3",
   "language": "python",
   "name": "python3"
  },
  "language_info": {
   "codemirror_mode": {
    "name": "ipython",
    "version": 2
   },
   "file_extension": ".py",
   "mimetype": "text/x-python",
   "name": "python",
   "nbconvert_exporter": "python",
   "pygments_lexer": "ipython2",
   "version": "2.7.6"
  }
 },
 "nbformat": 4,
 "nbformat_minor": 5
}
