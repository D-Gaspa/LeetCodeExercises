{
 "cells": [
  {
   "metadata": {},
   "cell_type": "markdown",
   "source": "# Week 3: June 17th - June 23rd, 2024",
   "id": "57280a3dfb0a7f7a"
  },
  {
   "metadata": {},
   "cell_type": "markdown",
   "source": [
    "# June 17 -> 633. Sum of Square Numbers\n",
    "\n",
    "Given a non-negative integer `c`, decide whether there are two integers `a` and `b` such that `a^2 + b^2 = c`.\n",
    "\n",
    "**Example 1:**\n",
    "\n",
    "- **Input:** c = 5\n",
    "- **Output:** true\n",
    "- **Explanation:** 1 * 1 + 2 * 2 = 5\n",
    "\n",
    "**Example 2:**\n",
    "\n",
    "- **Input:** c = 3\n",
    "- **Output:** false\n",
    "\n",
    "**Constraints:**\n",
    "\n",
    "- `0 <= c <= 2^31 - 1`"
   ],
   "id": "b1902c637c937782"
  },
  {
   "metadata": {},
   "cell_type": "markdown",
   "source": "## Approach 1: ",
   "id": "684bcd2061c8255c"
  },
  {
   "metadata": {},
   "cell_type": "code",
   "outputs": [],
   "execution_count": null,
   "source": [
    "def problem1_1():\n",
    "    pass"
   ],
   "id": "97faef3725b93459"
  },
  {
   "metadata": {},
   "cell_type": "markdown",
   "source": "### Understanding the Core Idea",
   "id": "ef67450d5cb6017e"
  },
  {
   "metadata": {},
   "cell_type": "markdown",
   "source": "## Approach 2:",
   "id": "92580e2f55dde299"
  },
  {
   "metadata": {},
   "cell_type": "code",
   "outputs": [],
   "execution_count": null,
   "source": [
    "def problem1_2():\n",
    "    pass"
   ],
   "id": "a760adb853a103fb"
  },
  {
   "metadata": {},
   "cell_type": "markdown",
   "source": "### Understanding the Core Idea",
   "id": "79d2d2c2fdd27d61"
  },
  {
   "metadata": {},
   "cell_type": "markdown",
   "source": [
    "# June 18 -> 2. Problem\n",
    "\n",
    "(Problem Statement)"
   ],
   "id": "4dbfa06762217190"
  },
  {
   "metadata": {},
   "cell_type": "markdown",
   "source": "## Approach 1:",
   "id": "1eb8c371903335a4"
  },
  {
   "metadata": {},
   "cell_type": "code",
   "outputs": [],
   "execution_count": 1,
   "source": [
    "def problem2_1():\n",
    "    pass"
   ],
   "id": "ffa21acb9269b856"
  },
  {
   "metadata": {},
   "cell_type": "markdown",
   "source": "### Understanding the Core Idea",
   "id": "8e86dcc8c3b918d7"
  },
  {
   "metadata": {},
   "cell_type": "markdown",
   "source": "## Approach 2:",
   "id": "9bd7f8bf749afd1d"
  },
  {
   "metadata": {},
   "cell_type": "code",
   "outputs": [],
   "execution_count": null,
   "source": [
    "def problem2_2():\n",
    "    pass"
   ],
   "id": "46507f539f812adf"
  },
  {
   "metadata": {},
   "cell_type": "markdown",
   "source": "### Understanding the Core Idea",
   "id": "c9d3162a49e138f3"
  },
  {
   "metadata": {},
   "cell_type": "markdown",
   "source": [
    "# June 19 -> 3. Problem\n",
    "\n",
    "(Problem Statement)"
   ],
   "id": "50037884b668172d"
  },
  {
   "metadata": {},
   "cell_type": "markdown",
   "source": "## Approach 1:",
   "id": "a3ad08ad0978d433"
  },
  {
   "metadata": {},
   "cell_type": "code",
   "outputs": [],
   "execution_count": null,
   "source": [
    "def problem3_1():\n",
    "    pass"
   ],
   "id": "5c4e6c1c5027823d"
  },
  {
   "metadata": {},
   "cell_type": "markdown",
   "source": "### Understanding the Core Idea",
   "id": "810cd0214bea16b2"
  },
  {
   "metadata": {},
   "cell_type": "markdown",
   "source": "## Approach 2:",
   "id": "d4c080f728be7dc"
  },
  {
   "metadata": {},
   "cell_type": "code",
   "outputs": [],
   "execution_count": null,
   "source": [
    "def problem3_2():\n",
    "    pass"
   ],
   "id": "d54a3e8bd3d01a8f"
  },
  {
   "metadata": {},
   "cell_type": "markdown",
   "source": "### Understanding the Core Idea",
   "id": "55b4d0b1de2a78"
  },
  {
   "metadata": {},
   "cell_type": "markdown",
   "source": [
    "# June 20 -> 4. Problem\n",
    "\n",
    "(Problem Statement)"
   ],
   "id": "7ee8ec23790e9127"
  },
  {
   "metadata": {},
   "cell_type": "markdown",
   "source": "## Approach 1:",
   "id": "87aad154c7e20a69"
  },
  {
   "metadata": {},
   "cell_type": "code",
   "outputs": [],
   "execution_count": null,
   "source": [
    "def problem4_1():\n",
    "    pass"
   ],
   "id": "2b75fce46242c929"
  },
  {
   "metadata": {},
   "cell_type": "markdown",
   "source": "### Understanding the Core Idea",
   "id": "34ce86a083be8b62"
  },
  {
   "metadata": {},
   "cell_type": "markdown",
   "source": "## Approach 2:",
   "id": "f23400cbefba36d1"
  },
  {
   "metadata": {},
   "cell_type": "code",
   "outputs": [],
   "execution_count": null,
   "source": [
    "def problem4_2():\n",
    "    pass"
   ],
   "id": "e9b37b8db7561b02"
  },
  {
   "metadata": {},
   "cell_type": "markdown",
   "source": "### Understanding the Core Idea",
   "id": "9e9f63c0fdfaeb5f"
  },
  {
   "metadata": {},
   "cell_type": "markdown",
   "source": [
    "# June 21 -> 5. Problem\n",
    "\n",
    "(Problem Statement)"
   ],
   "id": "269d7edd96768dd3"
  },
  {
   "metadata": {},
   "cell_type": "markdown",
   "source": "## Approach 1:",
   "id": "f52e40b044bd68ef"
  },
  {
   "metadata": {},
   "cell_type": "code",
   "outputs": [],
   "execution_count": null,
   "source": [
    "def problem5_1():\n",
    "    pass"
   ],
   "id": "1bb348e43250eb2a"
  },
  {
   "metadata": {},
   "cell_type": "markdown",
   "source": "### Understanding the Core Idea",
   "id": "797102cc68e9b9d4"
  },
  {
   "metadata": {},
   "cell_type": "markdown",
   "source": "## Approach 2:",
   "id": "b05f219199492f19"
  },
  {
   "metadata": {},
   "cell_type": "code",
   "outputs": [],
   "execution_count": null,
   "source": [
    "def problem5_2():\n",
    "    pass"
   ],
   "id": "9261a77f63c97a49"
  },
  {
   "metadata": {},
   "cell_type": "markdown",
   "source": "### Understanding the Core Idea",
   "id": "c8f342a2c47638ca"
  },
  {
   "metadata": {},
   "cell_type": "markdown",
   "source": [
    "# June 22 -> 6. Problem\n",
    "\n",
    "(Problem Statement)"
   ],
   "id": "63c9a7db52d497c5"
  },
  {
   "metadata": {},
   "cell_type": "markdown",
   "source": "## Approach 1:",
   "id": "d52a27cd710c9c66"
  },
  {
   "metadata": {},
   "cell_type": "code",
   "outputs": [],
   "execution_count": null,
   "source": [
    "def problem6_1():\n",
    "    pass"
   ],
   "id": "f7e662c3cf899d44"
  },
  {
   "metadata": {},
   "cell_type": "markdown",
   "source": "### Understanding the Core Idea",
   "id": "dcd9c5685fc7abdc"
  },
  {
   "metadata": {},
   "cell_type": "markdown",
   "source": "## Approach 2:",
   "id": "792c16c049022270"
  },
  {
   "metadata": {},
   "cell_type": "code",
   "outputs": [],
   "execution_count": null,
   "source": [
    "def problem6_2():\n",
    "    pass"
   ],
   "id": "da8c6e1f8467f742"
  },
  {
   "metadata": {},
   "cell_type": "markdown",
   "source": "### Understanding the Core Idea",
   "id": "8b2811225f6cc325"
  },
  {
   "metadata": {},
   "cell_type": "markdown",
   "source": [
    "# June 23 -> 7. Problem\n",
    "\n",
    "(Problem Statement)"
   ],
   "id": "8d67ebf071e89f93"
  },
  {
   "metadata": {},
   "cell_type": "markdown",
   "source": "## Approach 1:",
   "id": "c82764f19198fe9f"
  },
  {
   "metadata": {},
   "cell_type": "code",
   "outputs": [],
   "execution_count": null,
   "source": [
    "def problem7_1():\n",
    "    pass"
   ],
   "id": "ab530de8ad3f99e9"
  },
  {
   "metadata": {},
   "cell_type": "markdown",
   "source": "### Understanding the Core Idea",
   "id": "3f59c4f10b9ba21e"
  },
  {
   "metadata": {},
   "cell_type": "markdown",
   "source": "## Approach 2:",
   "id": "54546edfd20582c4"
  },
  {
   "metadata": {},
   "cell_type": "code",
   "outputs": [],
   "execution_count": null,
   "source": [
    "def problem7_2():\n",
    "    pass"
   ],
   "id": "402cc2d08934634f"
  },
  {
   "metadata": {},
   "cell_type": "markdown",
   "source": "### Understanding the Core Idea",
   "id": "ffff31c917d02a1b"
  }
 ],
 "metadata": {
  "kernelspec": {
   "display_name": "Python 3",
   "language": "python",
   "name": "python3"
  },
  "language_info": {
   "codemirror_mode": {
    "name": "ipython",
    "version": 2
   },
   "file_extension": ".py",
   "mimetype": "text/x-python",
   "name": "python",
   "nbconvert_exporter": "python",
   "pygments_lexer": "ipython2",
   "version": "2.7.6"
  }
 },
 "nbformat": 4,
 "nbformat_minor": 5
}
