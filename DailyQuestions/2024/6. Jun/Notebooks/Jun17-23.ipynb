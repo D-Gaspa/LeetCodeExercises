{
 "cells": [
  {
   "metadata": {},
   "cell_type": "markdown",
   "source": "# Week 3: June 17th - June 23rd, 2024",
   "id": "57280a3dfb0a7f7a"
  },
  {
   "metadata": {},
   "cell_type": "markdown",
   "source": [
    "# June 17 -> 633. Sum of Square Numbers\n",
    "\n",
    "Given a non-negative integer `c`, decide whether there are two integers `a` and `b` such that `a^2 + b^2 = c`.\n",
    "\n",
    "**Example 1:**\n",
    "\n",
    "- **Input:** c = 5\n",
    "- **Output:** true\n",
    "- **Explanation:** 1 * 1 + 2 * 2 = 5\n",
    "\n",
    "**Example 2:**\n",
    "\n",
    "- **Input:** c = 3\n",
    "- **Output:** false\n",
    "\n",
    "**Constraints:**\n",
    "\n",
    "- `0 <= c <= 2^31 - 1`"
   ],
   "id": "b1902c637c937782"
  },
  {
   "metadata": {},
   "cell_type": "markdown",
   "source": "## Approach 1: Two-Pointer Technique",
   "id": "684bcd2061c8255c"
  },
  {
   "metadata": {},
   "cell_type": "code",
   "outputs": [],
   "execution_count": null,
   "source": [
    "import math\n",
    "\n",
    "\n",
    "def judgeSquareSum1(c: int) -> bool:\n",
    "    \"\"\"\n",
    "    Determines if a given non-negative integer 'c' can be expressed as the sum of squares of two integers 'a' and 'b'.\n",
    "\n",
    "    The function uses a two-pointer technique starting from 0 and the square root of 'c'.\n",
    "    It iteratively checks the sum of squares of the two pointers, 'start_index' and 'end_index'.\n",
    "    If the sum is less than 'c', it increases 'start_index' to get a larger sum.\n",
    "    If the sum is greater than 'c', it decreases 'end_index' to get a smaller sum.\n",
    "    If the sum is equal to 'c', the function returns True as it has found the pair of numbers.\n",
    "    If no such pair is found after the loop, it returns False.\n",
    "    This approach works because if there exist two numbers 'a' and 'b' such that a^2 + b^2 = c,\n",
    "    then 'a' and 'b' must each be less than or equal to sqrt(c).\n",
    "\n",
    "    The time complexity of this function is O(√c) because, in the worst case,\n",
    "    the while loop iterates up to the square root of 'c' times.\n",
    "    The space complexity is O(1) as it uses a constant amount of extra space.\n",
    "    \"\"\"\n",
    "    start_index = 0\n",
    "    end_index = int(math.sqrt(c))\n",
    "\n",
    "    while start_index <= end_index:\n",
    "        squares_sum = start_index * start_index + end_index * end_index  # a * a instead of a ** 2 because it's faster\n",
    "        if squares_sum < c:\n",
    "            start_index += 1\n",
    "        elif squares_sum > c:\n",
    "            end_index -= 1\n",
    "        else:\n",
    "            return True\n",
    "    return False"
   ],
   "id": "97faef3725b93459"
  },
  {
   "metadata": {},
   "cell_type": "markdown",
   "source": [
    "### Understanding the Core Idea\n",
    "\n",
    "The core idea of this solution is to find if the given integer `c` can be decomposed into the sum of two perfect squares using a two-pointer approach. Here's the breakdown of the concept:\n",
    "\n",
    "- **Two-Pointer Approach:**\n",
    "    - The function initializes two pointers: `start_index` at 0 and `end_index` at the square root of `c`.  These pointers represent potential values of 'a' and 'b'.\n",
    "    - In each iteration, it calculates the `squares_sum` of the squares of these pointers.\n",
    "    - If `squares_sum` equals `c`, it means we've found a pair of integers (a, b) whose squares add up to `c`.\n",
    "    - If `squares_sum` is less than `c`, we increment `start_index` to increase the sum (since a^2 is the smaller term).\n",
    "    - If `squares_sum` is greater than `c`, we decrement `end_index` to decrease the sum (since b^2 is the larger term).\n",
    "\n",
    "- **Mathematical Basis:**\n",
    "    - The algorithm is based on the fact that if a number `c` can be expressed as the sum of two squares, the numbers `a` and `b` must each be less than or equal to the square root of `c`. This ensures we only check relevant values.\n",
    "\n",
    "- **Key Insights:**\n",
    "    - **Sorted Search Space:** The potential values of `a` and `b` that we check are inherently sorted due to the nature of squares. This allows us to efficiently narrow down the search space.\n",
    "    - **Early Termination:** If we find a match, we can return `True` immediately. If `start_index` crosses `end_index`, there's no need to continue searching.\n",
    "\n",
    "---\n",
    "### Code Walkthrough\n",
    "\n",
    "1. **Initialization:**\n",
    "    - `start_index` is set to 0, representing the smallest possible square.\n",
    "    - `end_index` is set to the integer part of the square root of `c`, representing the largest possible square within the range.\n",
    "\n",
    "2. **Main Loop (Two-Pointer Search):**\n",
    "    - The `while` loop runs as long as `start_index` is less than or equal to `end_index`.\n",
    "    - In each iteration:\n",
    "        - `squares_sum` is calculated as `start_index * start_index + end_index * end_index`. \n",
    "        - **Decision Point (Conditional Statements):**\n",
    "            - If `squares_sum == c`, the function returns `True` (pair found).\n",
    "            - If `squares_sum < c`, we increase `start_index` by 1.\n",
    "            - If `squares_sum > c`, we decrease `end_index` by 1.\n",
    "\n",
    "3. **Result Calculation/Return:**\n",
    "    - If the loop completes without finding a match, the function returns `False` (no pair exists). \n",
    "\n",
    "---\n",
    "\n",
    "### Complexity Analysis\n",
    "\n",
    "**Time Complexity:**\n",
    "\n",
    "- $O(\\sqrt{c})$ where `c` is the input integer. In the worst case, the `while` loop will run up to the square root of `c` times.\n",
    "\n",
    "**Space Complexity:**\n",
    "\n",
    "- $O(1)$ (Constant): The algorithm uses only a fixed number of variables (`start_index`, `end_index`, `squares_sum`), and this number doesn't grow with the input size."
   ],
   "id": "ef67450d5cb6017e"
  },
  {
   "metadata": {},
   "cell_type": "markdown",
   "source": "## Approach 2: Number Theory (Fermat's Theorem)",
   "id": "92580e2f55dde299"
  },
  {
   "metadata": {
    "ExecuteTime": {
     "end_time": "2024-06-18T01:54:57.008795Z",
     "start_time": "2024-06-18T01:54:57.003707Z"
    }
   },
   "cell_type": "code",
   "source": [
    "def judgeSquareSum2(c: int) -> bool:\n",
    "    \"\"\"\n",
    "    Determines if a given non-negative integer 'c' can be expressed as the sum of squares of two integers 'a' and 'b'.\n",
    "\n",
    "    The function uses properties from number theory, particularly Fermat's theorem on sums of two squares.\n",
    "    According to the theorem, a non-negative integer can be expressed as a sum of two squares if and only if every\n",
    "    prime factor of the form (4k + 3) has an even exponent in the factorization of 'c'.\n",
    "\n",
    "    The function iterates through possible prime factors up to the square root of 'c'.\n",
    "    For each factor, it counts the number of times it divides 'c'.\n",
    "    If a prime factor of the form (4k + 3) divides 'c' an odd number of times, the function returns False.\n",
    "    Additionally, after factoring out all smaller primes, if the remaining part of 'c' is a prime of the form (4k + 3),\n",
    "    the function also returns False.\n",
    "    If no such prime factors are found, the function returns True.\n",
    "\n",
    "    The time complexity of this solution is O(√c log c) because it iterates up to the square root of 'c' and\n",
    "    performs division operations for each prime factor (log c).\n",
    "    The space complexity is O(1) as it uses a constant amount of extra space.\n",
    "    \"\"\"\n",
    "    index = 2\n",
    "    while index * index <= c:\n",
    "        divisors_count = 0\n",
    "        if c % index == 0:\n",
    "            while c % index == 0:\n",
    "                divisors_count += 1\n",
    "                c //= index\n",
    "            if divisors_count % 2 and index % 4 == 3:\n",
    "                return False\n",
    "        index += 1\n",
    "    return c % 4 != 3"
   ],
   "id": "a760adb853a103fb",
   "outputs": [],
   "execution_count": 1
  },
  {
   "metadata": {},
   "cell_type": "markdown",
   "source": [
    "### Understanding the Core Idea\n",
    "\n",
    "The core idea of this solution is to leverage Fermat's Theorem on sums of two squares to determine if a given number can be expressed as such. Fermat's theorem states:\n",
    "\n",
    "> An integer greater than one can be written as a sum of two squares if and only if its prime decomposition contains no prime congruent to 3 (mod 4) raised to an odd power.\n",
    "\n",
    "In simpler terms, a number can be expressed as the sum of two squares unless it has a prime factor of the form $4k + 3$ (such as 3, 7, 11, etc.) that appears an odd number of times in its prime factorization.\n",
    "\n",
    "This is because a prime of the form (4k + 3) cannot be expressed as the sum of two squares (as opposed to primes of the form 4k + 1 which can always be expressed as the sum of two squares).\n",
    "When a prime of the form $4k + 3$ appears with an even exponent in the prime factorization of $c$, its contribution to the overall sum of squares can be paired off and effectively neutralized. However, if such a prime appears with an odd exponent, it cannot be paired off, and its presence fundamentally prevents $c$ from being expressed as the sum of two squares. This is because the square of any number is congruent to 0 or 1 (mod 4), but never 3.\n",
    "\n",
    "Another important concept is the Brahmagupta-Fibonacci identity, which states that the product of two sums of two squares is itself a sum of two squares. This property allows us to combine the squares of two numbers to form a new sum of squares:\n",
    "\n",
    "$$\n",
    "(a^2 + b^2)(c^2 + d^2) = (ac - bd)^2 + (ad + bc)^2\n",
    "$$\n",
    "\n",
    "This identity is crucial in the context of Fermat's theorem and the decomposition of numbers into sums of squares. When a prime factor $p$ of the form $4k + 3$ appears with an even exponent, it can be paired off to form a new sum of squares. $p^{2k} = (p^k)^2 + (0)^2$, and this can be combined with other sums of squares to form a larger sum of squares. However, if $p$ appears with an odd exponent, it cannot be paired off, and the number cannot be expressed as a sum of squares due to the presence of the lone $p$ term (which is congruent to 3 mod 4 and cannot be expressed as a sum of squares).\n",
    "\n",
    "- **Prime Factorization:** The solution systematically checks for prime factors of $c$ up to its square root.\n",
    "- **Counting Divisibility:** For each prime factor, it counts how many times it divides $c$ evenly (tracked by `divisors_count`).\n",
    "- **Checking Fermat's Condition:** If a prime factor of the form $4k + 3$ has an odd `divisors_count`, the number cannot be a sum of squares (returns `False`).\n",
    "- **Base Case:** After iterating through smaller primes, the remaining value of $c$ is either 1 or a prime. It checks if this remaining prime is of the form $4k + 3$. If it is, it returns `False`; otherwise, it returns `True`.\n",
    "\n",
    "---\n",
    "\n",
    "### Code Walkthrough\n",
    "\n",
    "1. **Initialization:**\n",
    "   - `index` is initialized to 2, the smallest prime number.\n",
    "\n",
    "2. **Main Loop (Checking Prime Factors):**\n",
    "   - The `while` loop iterates as long as the square of `index` (potential prime factor) is less than or equal to `c`.\n",
    "   - **Inner Loop (Counting Divisors):**\n",
    "     - If `c` is divisible by `index`, a nested `while` loop repeatedly divides `c` by `index` to count its occurrences.\n",
    "   - **Decision Points (Fermat's Condition):**\n",
    "     - After the inner loop, it checks if `divisors_count` is odd (indicating an odd power) AND if `index` is of the form `4k + 3`. If both are true, the function returns `False`.\n",
    "\n",
    "3. **Base Case (After Main Loop):**\n",
    "   - If the main loop completes without returning, `c` is either 1 or a prime.\n",
    "   - It checks if the remaining `c` is of the form `4k + 3`. If so, it returns `False`; otherwise, `True`.\n",
    "\n",
    "---\n",
    "\n",
    "### Complexity Analysis\n",
    "\n",
    "**Time Complexity:**\n",
    "\n",
    "- $O(\\sqrt{c} \\log c)$. The main loop runs up to $\\sqrt{c}$ times. For each iteration, the inner loop might run up to $\\log c$ times in the worst case (for a prime that divides `c` many times).\n",
    "\n",
    "**Space Complexity:**\n",
    "\n",
    "- $O(1)$ (Constant): The algorithm uses a fixed number of variables (`index`, `divisors_count`, `c`), regardless of the input size.\n"
   ],
   "id": "79d2d2c2fdd27d61"
  },
  {
   "metadata": {},
   "cell_type": "markdown",
   "source": [
    "# June 18 -> 2. Problem\n",
    "\n",
    "(Problem Statement)"
   ],
   "id": "4dbfa06762217190"
  },
  {
   "metadata": {},
   "cell_type": "markdown",
   "source": "## Approach 1:",
   "id": "1eb8c371903335a4"
  },
  {
   "metadata": {},
   "cell_type": "code",
   "outputs": [],
   "execution_count": 1,
   "source": [
    "def problem2_1():\n",
    "    pass"
   ],
   "id": "ffa21acb9269b856"
  },
  {
   "metadata": {},
   "cell_type": "markdown",
   "source": "### Understanding the Core Idea",
   "id": "8e86dcc8c3b918d7"
  },
  {
   "metadata": {},
   "cell_type": "markdown",
   "source": "## Approach 2:",
   "id": "9bd7f8bf749afd1d"
  },
  {
   "metadata": {},
   "cell_type": "code",
   "outputs": [],
   "execution_count": null,
   "source": [
    "def problem2_2():\n",
    "    pass"
   ],
   "id": "46507f539f812adf"
  },
  {
   "metadata": {},
   "cell_type": "markdown",
   "source": "### Understanding the Core Idea",
   "id": "c9d3162a49e138f3"
  },
  {
   "metadata": {},
   "cell_type": "markdown",
   "source": [
    "# June 19 -> 3. Problem\n",
    "\n",
    "(Problem Statement)"
   ],
   "id": "50037884b668172d"
  },
  {
   "metadata": {},
   "cell_type": "markdown",
   "source": "## Approach 1:",
   "id": "a3ad08ad0978d433"
  },
  {
   "metadata": {},
   "cell_type": "code",
   "outputs": [],
   "execution_count": null,
   "source": [
    "def problem3_1():\n",
    "    pass"
   ],
   "id": "5c4e6c1c5027823d"
  },
  {
   "metadata": {},
   "cell_type": "markdown",
   "source": "### Understanding the Core Idea",
   "id": "810cd0214bea16b2"
  },
  {
   "metadata": {},
   "cell_type": "markdown",
   "source": "## Approach 2:",
   "id": "d4c080f728be7dc"
  },
  {
   "metadata": {},
   "cell_type": "code",
   "outputs": [],
   "execution_count": null,
   "source": [
    "def problem3_2():\n",
    "    pass"
   ],
   "id": "d54a3e8bd3d01a8f"
  },
  {
   "metadata": {},
   "cell_type": "markdown",
   "source": "### Understanding the Core Idea",
   "id": "55b4d0b1de2a78"
  },
  {
   "metadata": {},
   "cell_type": "markdown",
   "source": [
    "# June 20 -> 4. Problem\n",
    "\n",
    "(Problem Statement)"
   ],
   "id": "7ee8ec23790e9127"
  },
  {
   "metadata": {},
   "cell_type": "markdown",
   "source": "## Approach 1:",
   "id": "87aad154c7e20a69"
  },
  {
   "metadata": {},
   "cell_type": "code",
   "outputs": [],
   "execution_count": null,
   "source": [
    "def problem4_1():\n",
    "    pass"
   ],
   "id": "2b75fce46242c929"
  },
  {
   "metadata": {},
   "cell_type": "markdown",
   "source": "### Understanding the Core Idea",
   "id": "34ce86a083be8b62"
  },
  {
   "metadata": {},
   "cell_type": "markdown",
   "source": "## Approach 2:",
   "id": "f23400cbefba36d1"
  },
  {
   "metadata": {},
   "cell_type": "code",
   "outputs": [],
   "execution_count": null,
   "source": [
    "def problem4_2():\n",
    "    pass"
   ],
   "id": "e9b37b8db7561b02"
  },
  {
   "metadata": {},
   "cell_type": "markdown",
   "source": "### Understanding the Core Idea",
   "id": "9e9f63c0fdfaeb5f"
  },
  {
   "metadata": {},
   "cell_type": "markdown",
   "source": [
    "# June 21 -> 5. Problem\n",
    "\n",
    "(Problem Statement)"
   ],
   "id": "269d7edd96768dd3"
  },
  {
   "metadata": {},
   "cell_type": "markdown",
   "source": "## Approach 1:",
   "id": "f52e40b044bd68ef"
  },
  {
   "metadata": {},
   "cell_type": "code",
   "outputs": [],
   "execution_count": null,
   "source": [
    "def problem5_1():\n",
    "    pass"
   ],
   "id": "1bb348e43250eb2a"
  },
  {
   "metadata": {},
   "cell_type": "markdown",
   "source": "### Understanding the Core Idea",
   "id": "797102cc68e9b9d4"
  },
  {
   "metadata": {},
   "cell_type": "markdown",
   "source": "## Approach 2:",
   "id": "b05f219199492f19"
  },
  {
   "metadata": {},
   "cell_type": "code",
   "outputs": [],
   "execution_count": null,
   "source": [
    "def problem5_2():\n",
    "    pass"
   ],
   "id": "9261a77f63c97a49"
  },
  {
   "metadata": {},
   "cell_type": "markdown",
   "source": "### Understanding the Core Idea",
   "id": "c8f342a2c47638ca"
  },
  {
   "metadata": {},
   "cell_type": "markdown",
   "source": [
    "# June 22 -> 6. Problem\n",
    "\n",
    "(Problem Statement)"
   ],
   "id": "63c9a7db52d497c5"
  },
  {
   "metadata": {},
   "cell_type": "markdown",
   "source": "## Approach 1:",
   "id": "d52a27cd710c9c66"
  },
  {
   "metadata": {},
   "cell_type": "code",
   "outputs": [],
   "execution_count": null,
   "source": [
    "def problem6_1():\n",
    "    pass"
   ],
   "id": "f7e662c3cf899d44"
  },
  {
   "metadata": {},
   "cell_type": "markdown",
   "source": "### Understanding the Core Idea",
   "id": "dcd9c5685fc7abdc"
  },
  {
   "metadata": {},
   "cell_type": "markdown",
   "source": "## Approach 2:",
   "id": "792c16c049022270"
  },
  {
   "metadata": {},
   "cell_type": "code",
   "outputs": [],
   "execution_count": null,
   "source": [
    "def problem6_2():\n",
    "    pass"
   ],
   "id": "da8c6e1f8467f742"
  },
  {
   "metadata": {},
   "cell_type": "markdown",
   "source": "### Understanding the Core Idea",
   "id": "8b2811225f6cc325"
  },
  {
   "metadata": {},
   "cell_type": "markdown",
   "source": [
    "# June 23 -> 7. Problem\n",
    "\n",
    "(Problem Statement)"
   ],
   "id": "8d67ebf071e89f93"
  },
  {
   "metadata": {},
   "cell_type": "markdown",
   "source": "## Approach 1:",
   "id": "c82764f19198fe9f"
  },
  {
   "metadata": {},
   "cell_type": "code",
   "outputs": [],
   "execution_count": null,
   "source": [
    "def problem7_1():\n",
    "    pass"
   ],
   "id": "ab530de8ad3f99e9"
  },
  {
   "metadata": {},
   "cell_type": "markdown",
   "source": "### Understanding the Core Idea",
   "id": "3f59c4f10b9ba21e"
  },
  {
   "metadata": {},
   "cell_type": "markdown",
   "source": "## Approach 2:",
   "id": "54546edfd20582c4"
  },
  {
   "metadata": {},
   "cell_type": "code",
   "outputs": [],
   "execution_count": null,
   "source": [
    "def problem7_2():\n",
    "    pass"
   ],
   "id": "402cc2d08934634f"
  },
  {
   "metadata": {},
   "cell_type": "markdown",
   "source": "### Understanding the Core Idea",
   "id": "ffff31c917d02a1b"
  }
 ],
 "metadata": {
  "kernelspec": {
   "display_name": "Python 3",
   "language": "python",
   "name": "python3"
  },
  "language_info": {
   "codemirror_mode": {
    "name": "ipython",
    "version": 2
   },
   "file_extension": ".py",
   "mimetype": "text/x-python",
   "name": "python",
   "nbconvert_exporter": "python",
   "pygments_lexer": "ipython2",
   "version": "2.7.6"
  }
 },
 "nbformat": 4,
 "nbformat_minor": 5
}
