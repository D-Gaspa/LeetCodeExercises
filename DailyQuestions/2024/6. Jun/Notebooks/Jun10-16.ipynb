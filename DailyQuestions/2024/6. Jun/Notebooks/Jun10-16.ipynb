{
 "cells": [
  {
   "metadata": {},
   "cell_type": "markdown",
   "source": "# Week 2: June 10th - June 16th, 2024",
   "id": "639a18a6e6a608e2"
  },
  {
   "metadata": {},
   "cell_type": "markdown",
   "source": [
    "# June 10 -> 1051. Height Checker\n",
    "\n",
    "A school is trying to take an annual photo of all the students. The students are asked to stand in a single file line in **non-decreasing order** by height. Let this ordering be represented by the integer array `expected` where `expected[i]` is the expected height of the `ith` student in line.\n",
    "\n",
    "You are given an integer array `heights` representing the **current order** that the students are standing in. Each `heights[i]` is the height of the `ith` student in line (**0-indexed**).\n",
    "\n",
    "Return *the **number of indices** where* `heights[i] != expected[i]`.\n",
    "\n",
    "**Example 1:**\n",
    "\n",
    "- **Input:** heights = [1,1,4,2,1,3]\n",
    "- **Output:** 3\n",
    "- **Explanation:**\n",
    "    - **heights:**  [1,1,4,2,1,3]\n",
    "    - **expected:** [1,1,1,2,3,4]\n",
    "    - Indices 2, 4, and 5 do not match.\n",
    "\n",
    "**Example 2:**\n",
    "\n",
    "- **Input:** heights = [5,1,2,3,4]\n",
    "- **Output:** 5\n",
    "- **Explanation:**\n",
    "    - **heights:**  [5,1,2,3,4]\n",
    "    - **expected:** [1,2,3,4,5]\n",
    "    - All indices do not match.\n",
    "\n",
    "**Example 3:**\n",
    "\n",
    "- **Input:** heights = [1,2,3,4,5]\n",
    "- **Output:** 0\n",
    "- **Explanation:**\n",
    "    - **heights:**  [1,2,3,4,5]\n",
    "    - **expected:** [1,2,3,4,5]\n",
    "    - All indices match.\n",
    "\n",
    "**Constraints:**\n",
    "\n",
    "- `1 <= heights.length <= 100`\n",
    "- `1 <= heights[i] <= 100`"
   ],
   "id": "43efe04ecda380d6"
  },
  {
   "metadata": {},
   "cell_type": "markdown",
   "source": "## Approach 1: ",
   "id": "d1560f2aaa700b19"
  },
  {
   "metadata": {},
   "cell_type": "code",
   "outputs": [],
   "execution_count": null,
   "source": [
    "def problem1_1():\n",
    "    pass"
   ],
   "id": "3dda57067d106414"
  },
  {
   "metadata": {},
   "cell_type": "markdown",
   "source": "### Understanding the Core Idea",
   "id": "c8216de4dee75ebc"
  },
  {
   "metadata": {},
   "cell_type": "markdown",
   "source": [
    "# June 11 -> 2. Problem\n",
    "\n",
    "(Problem Statement)"
   ],
   "id": "469332593efe6842"
  },
  {
   "metadata": {},
   "cell_type": "markdown",
   "source": "## Approach 1:",
   "id": "a07c877d504f287b"
  },
  {
   "metadata": {},
   "cell_type": "code",
   "outputs": [],
   "execution_count": 1,
   "source": [
    "def problem2_1():\n",
    "    pass"
   ],
   "id": "fe8d16a3ee3e8bf9"
  },
  {
   "metadata": {},
   "cell_type": "markdown",
   "source": "### Understanding the Core Idea",
   "id": "833dc15ea35a850"
  },
  {
   "metadata": {},
   "cell_type": "markdown",
   "source": "## Approach 2:",
   "id": "6b38b283e26deef4"
  },
  {
   "metadata": {},
   "cell_type": "code",
   "outputs": [],
   "execution_count": null,
   "source": [
    "def problem2_2():\n",
    "    pass"
   ],
   "id": "6b3b27c79b9c0a79"
  },
  {
   "metadata": {},
   "cell_type": "markdown",
   "source": "### Understanding the Core Idea",
   "id": "667cb25b6c276751"
  },
  {
   "metadata": {},
   "cell_type": "markdown",
   "source": [
    "# June 12 -> 3. Problem\n",
    "\n",
    "(Problem Statement)"
   ],
   "id": "f49c256db0edce0b"
  },
  {
   "metadata": {},
   "cell_type": "markdown",
   "source": "## Approach 1:",
   "id": "bed157676593f0a3"
  },
  {
   "metadata": {},
   "cell_type": "code",
   "outputs": [],
   "execution_count": null,
   "source": [
    "def problem3_1():\n",
    "    pass"
   ],
   "id": "baabe512745de9ca"
  },
  {
   "metadata": {},
   "cell_type": "markdown",
   "source": "### Understanding the Core Idea",
   "id": "1f9aca5c4cb6a2ae"
  },
  {
   "metadata": {},
   "cell_type": "markdown",
   "source": "## Approach 2:",
   "id": "1fedf088f9387ecd"
  },
  {
   "metadata": {},
   "cell_type": "code",
   "outputs": [],
   "execution_count": null,
   "source": [
    "def problem3_2():\n",
    "    pass"
   ],
   "id": "8e8bc76a65aef7cf"
  },
  {
   "metadata": {},
   "cell_type": "markdown",
   "source": "### Understanding the Core Idea",
   "id": "b2faee9851994701"
  },
  {
   "metadata": {},
   "cell_type": "markdown",
   "source": [
    "# June 13 -> 4. Problem\n",
    "\n",
    "(Problem Statement)"
   ],
   "id": "6d153d072254fcce"
  },
  {
   "metadata": {},
   "cell_type": "markdown",
   "source": "## Approach 1:",
   "id": "4a88a082b85db223"
  },
  {
   "metadata": {},
   "cell_type": "code",
   "outputs": [],
   "execution_count": null,
   "source": [
    "def problem4_1():\n",
    "    pass"
   ],
   "id": "8c4573a41d86fa2d"
  },
  {
   "metadata": {},
   "cell_type": "markdown",
   "source": "### Understanding the Core Idea",
   "id": "c5f3f2d70b05ff4f"
  },
  {
   "metadata": {},
   "cell_type": "markdown",
   "source": "## Approach 2:",
   "id": "4694ea35e2a8c41c"
  },
  {
   "metadata": {},
   "cell_type": "code",
   "outputs": [],
   "execution_count": null,
   "source": [
    "def problem4_2():\n",
    "    pass"
   ],
   "id": "aa8a45b725ee01a0"
  },
  {
   "metadata": {},
   "cell_type": "markdown",
   "source": "### Understanding the Core Idea",
   "id": "287aeabb2fd6634"
  },
  {
   "metadata": {},
   "cell_type": "markdown",
   "source": [
    "# June 14 -> 5. Problem\n",
    "\n",
    "(Problem Statement)"
   ],
   "id": "fac29cd388c2e058"
  },
  {
   "metadata": {},
   "cell_type": "markdown",
   "source": "## Approach 1:",
   "id": "748dd10f0fa9018e"
  },
  {
   "metadata": {},
   "cell_type": "code",
   "outputs": [],
   "execution_count": null,
   "source": [
    "def problem5_1():\n",
    "    pass"
   ],
   "id": "f0eeb1548b44bb4e"
  },
  {
   "metadata": {},
   "cell_type": "markdown",
   "source": "### Understanding the Core Idea",
   "id": "c9de0777a21beb55"
  },
  {
   "metadata": {},
   "cell_type": "markdown",
   "source": "## Approach 2:",
   "id": "38056cbc7a7b88dc"
  },
  {
   "metadata": {},
   "cell_type": "code",
   "outputs": [],
   "execution_count": null,
   "source": [
    "def problem5_2():\n",
    "    pass"
   ],
   "id": "26369eca4344f51f"
  },
  {
   "metadata": {},
   "cell_type": "markdown",
   "source": "### Understanding the Core Idea",
   "id": "108a83c7d8c3dd"
  },
  {
   "metadata": {},
   "cell_type": "markdown",
   "source": [
    "# June 15 -> 6. Problem\n",
    "\n",
    "(Problem Statement)"
   ],
   "id": "4db854c2ca3542a3"
  },
  {
   "metadata": {},
   "cell_type": "markdown",
   "source": "## Approach 1:",
   "id": "1aa2dec19683b458"
  },
  {
   "metadata": {},
   "cell_type": "code",
   "outputs": [],
   "execution_count": null,
   "source": [
    "def problem6_1():\n",
    "    pass"
   ],
   "id": "62fb8364ff0a4a"
  },
  {
   "metadata": {},
   "cell_type": "markdown",
   "source": "### Understanding the Core Idea",
   "id": "e2080ccc35d7c70c"
  },
  {
   "metadata": {},
   "cell_type": "markdown",
   "source": "## Approach 2:",
   "id": "62621ef50088fc1c"
  },
  {
   "metadata": {},
   "cell_type": "code",
   "outputs": [],
   "execution_count": null,
   "source": [
    "def problem6_2():\n",
    "    pass"
   ],
   "id": "fdf697c45eeaa4b8"
  },
  {
   "metadata": {},
   "cell_type": "markdown",
   "source": "### Understanding the Core Idea",
   "id": "aab8e55fe20bf3e2"
  },
  {
   "metadata": {},
   "cell_type": "markdown",
   "source": [
    "# June 16 -> 7. Problem\n",
    "\n",
    "(Problem Statement)"
   ],
   "id": "8e69b54a67cd78c3"
  },
  {
   "metadata": {},
   "cell_type": "markdown",
   "source": "## Approach 1:",
   "id": "e2b7c97fb0512700"
  },
  {
   "metadata": {},
   "cell_type": "code",
   "outputs": [],
   "execution_count": null,
   "source": [
    "def problem7_1():\n",
    "    pass"
   ],
   "id": "96ae4c77fc61bf2a"
  },
  {
   "metadata": {},
   "cell_type": "markdown",
   "source": "### Understanding the Core Idea",
   "id": "440524d06ea2d473"
  },
  {
   "metadata": {},
   "cell_type": "markdown",
   "source": "## Approach 2:",
   "id": "30c7423b2c40d35e"
  },
  {
   "metadata": {},
   "cell_type": "code",
   "outputs": [],
   "execution_count": null,
   "source": [
    "def problem7_2():\n",
    "    pass"
   ],
   "id": "41e6294aa046d1a6"
  },
  {
   "metadata": {},
   "cell_type": "markdown",
   "source": "### Understanding the Core Idea",
   "id": "bd3db7e5a7b41578"
  }
 ],
 "metadata": {
  "kernelspec": {
   "display_name": "Python 3",
   "language": "python",
   "name": "python3"
  },
  "language_info": {
   "codemirror_mode": {
    "name": "ipython",
    "version": 2
   },
   "file_extension": ".py",
   "mimetype": "text/x-python",
   "name": "python",
   "nbconvert_exporter": "python",
   "pygments_lexer": "ipython2",
   "version": "2.7.6"
  }
 },
 "nbformat": 4,
 "nbformat_minor": 5
}
