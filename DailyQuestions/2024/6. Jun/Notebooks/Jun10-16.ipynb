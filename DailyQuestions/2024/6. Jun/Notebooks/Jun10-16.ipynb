{
 "cells": [
  {
   "metadata": {},
   "cell_type": "markdown",
   "source": "# Week 2: June 10th - June 16th, 2024",
   "id": "639a18a6e6a608e2"
  },
  {
   "metadata": {},
   "cell_type": "markdown",
   "source": [
    "# June 10 -> 1051. Height Checker\n",
    "\n",
    "A school is trying to take an annual photo of all the students. The students are asked to stand in a single file line in **non-decreasing order** by height. Let this ordering be represented by the integer array `expected` where `expected[i]` is the expected height of the `ith` student in line.\n",
    "\n",
    "You are given an integer array `heights` representing the **current order** that the students are standing in. Each `heights[i]` is the height of the `ith` student in line (**0-indexed**).\n",
    "\n",
    "Return *the **number of indices** where* `heights[i] != expected[i]`.\n",
    "\n",
    "**Example 1:**\n",
    "\n",
    "- **Input:** heights = [1,1,4,2,1,3]\n",
    "- **Output:** 3\n",
    "- **Explanation:**\n",
    "    - **heights:**  [1,1,4,2,1,3]\n",
    "    - **expected:** [1,1,1,2,3,4]\n",
    "    - Indices 2, 4, and 5 do not match.\n",
    "\n",
    "**Example 2:**\n",
    "\n",
    "- **Input:** heights = [5,1,2,3,4]\n",
    "- **Output:** 5\n",
    "- **Explanation:**\n",
    "    - **heights:**  [5,1,2,3,4]\n",
    "    - **expected:** [1,2,3,4,5]\n",
    "    - All indices do not match.\n",
    "\n",
    "**Example 3:**\n",
    "\n",
    "- **Input:** heights = [1,2,3,4,5]\n",
    "- **Output:** 0\n",
    "- **Explanation:**\n",
    "    - **heights:**  [1,2,3,4,5]\n",
    "    - **expected:** [1,2,3,4,5]\n",
    "    - All indices match.\n",
    "\n",
    "**Constraints:**\n",
    "\n",
    "- `1 <= heights.length <= 100`\n",
    "- `1 <= heights[i] <= 100`"
   ],
   "id": "43efe04ecda380d6"
  },
  {
   "metadata": {},
   "cell_type": "markdown",
   "source": "## Approach 1: Built-in Sort",
   "id": "d1560f2aaa700b19"
  },
  {
   "metadata": {
    "ExecuteTime": {
     "end_time": "2024-06-11T08:13:03.863782Z",
     "start_time": "2024-06-11T08:13:03.860101Z"
    }
   },
   "cell_type": "code",
   "source": [
    "from typing import List\n",
    "\n",
    "\n",
    "def heightChecker1(heights: List[int]) -> int:\n",
    "    \"\"\"\n",
    "    Counts the number of students who are not standing in their expected height order.\n",
    "\n",
    "    This function first creates a sorted copy of the input 'heights' list, representing the expected order.\n",
    "    It then iterates through both the original and sorted lists, comparing corresponding elements at each index.\n",
    "    If a mismatch is found (indicating a student out of order), the `unexpected_heights` counter is incremented.\n",
    "    Finally, the function returns the total count of students not in their expected positions.\n",
    "\n",
    "    The time complexity of this solution is O(n log n) due to the sorting operation,\n",
    "    where n is the length of the 'heights' list.\n",
    "    The space complexity is O(n) because a new list 'expected' is created to store the sorted heights.\n",
    "    \"\"\"\n",
    "    expected = sorted(heights)\n",
    "    unexpected_heights = 0\n",
    "\n",
    "    for index in range(len(heights)):\n",
    "        if heights[index] != expected[index]:\n",
    "            unexpected_heights += 1\n",
    "    return unexpected_heights"
   ],
   "id": "3dda57067d106414",
   "outputs": [],
   "execution_count": 2
  },
  {
   "metadata": {},
   "cell_type": "markdown",
   "source": [
    "### Understanding the Core Idea\n",
    "\n",
    "The core idea of this solution is to find discrepancies between the current student heights and their ideal arrangement by sorting.\n",
    "\n",
    "- **Ideal Order Representation:** A sorted copy of the original `heights` list is created. This sorted list, named `expected`, serves as the benchmark for the ideal order.\n",
    "- **Comparison and Counting:** By iterating through both the original `heights` and the sorted `expected` list, we compare elements at corresponding indices. Any mismatch indicates a student out of place, and we increment a counter to keep track.\n",
    "\n",
    "---\n",
    "### Code Walkthrough\n",
    "\n",
    "1.  **Sorting for Reference:** \n",
    "    - `expected = sorted(heights)`: We create a sorted copy of the `heights` list, named `expected`. This provides us with a reference to how the heights should ideally be ordered (non-decreasing).\n",
    "\n",
    "2.  **Initialization:**\n",
    "    - `unexpected_heights = 0`:  A counter is initialized to track the number of students who are not in their expected positions.\n",
    "\n",
    "3.  **Comparison Loop:**\n",
    "    - `for index in range(len(heights))`: This loop iterates through each index of the `heights` list (and thus, also the `expected` list).\n",
    "    - `if heights[index] != expected[index]`:  At each index, it compares the height of the student in the original list (`heights[index]`) with the height of the student in the expected order (`expected[index]`).\n",
    "    - `unexpected_heights += 1`:  If the heights are not equal, it means the student is out of place, and the `unexpected_heights` counter is incremented.\n",
    "\n",
    "4. **Return Count:**\n",
    "    - `return unexpected_heights`: Finally, the function returns the total count of students who are not standing in their expected positions.\n",
    "\n",
    "---\n",
    "\n",
    "### Complexity Analysis\n",
    "\n",
    "**Time Complexity:**\n",
    "\n",
    "- $O(n \\log n)$, where *n* is the number of students (length of `heights`). This is due to the sorting operation (`sorted(heights)`). The later comparison loop takes linear time, O(n), but the sorting dominates.\n",
    "\n",
    "**Space Complexity:**\n",
    "\n",
    "- $O(n)$ because we create a new list `expected` to store the sorted heights. Although Python's `sorted()` function is optimized, in the worst-case scenario, it can require up to n/2 temporary storage, contributing to the overall linear space complexity."
   ],
   "id": "c8216de4dee75ebc"
  },
  {
   "metadata": {},
   "cell_type": "markdown",
   "source": "## Approach 2: Counting Sort",
   "id": "713d5ff7fd3fdeaf"
  },
  {
   "metadata": {
    "ExecuteTime": {
     "end_time": "2024-06-11T08:13:05.907216Z",
     "start_time": "2024-06-11T08:13:05.903293Z"
    }
   },
   "cell_type": "code",
   "source": [
    "def heightChecker2(heights: List[int]) -> int:\n",
    "    \"\"\"\n",
    "    Counts the number of students who are not standing in their expected height order.\n",
    "\n",
    "    The function uses the Counting Sort algorithm which is an integer sorting algorithm that sorts arrays with integer\n",
    "    keys in linear time.\n",
    "    The function first creates a deepcopy `expected` of the `heights` list and applies counting sort on `expected`.\n",
    "    Then, it compares each element in the `heights` and `expected` lists using zip().\n",
    "    It increments a counter each time the compared elements are different.\n",
    "\n",
    "    The time complexity of this solution is O(n + k), where n is the number of elements in the heights' list,\n",
    "    and k is the range of values (max - min).\n",
    "    The counting sort operation takes O(n + k) time: O(n) for counting and O(k) for reconstructing the sorted list.\n",
    "    There are also two other O(n) operations: creating the expected list and comparing the elements.\n",
    "    The space complexity is O(n + k) for storing the copied list and the counts in the dictionary.\n",
    "    \"\"\"\n",
    "\n",
    "    def counting_sort(arr: List[int]) -> None:\n",
    "        \"\"\"Perform counting sort on the input array in-place.\"\"\"\n",
    "        min_val, max_val = min(arr), max(arr)\n",
    "\n",
    "        # Create a dictionary to count occurrences of each value\n",
    "        counts_map = {}\n",
    "        for num in arr:\n",
    "            if num in counts_map:\n",
    "                counts_map[num] += 1\n",
    "            else:\n",
    "                counts_map[num] = 1\n",
    "\n",
    "        # Reconstruct the array based on the counts\n",
    "        index = 0\n",
    "        for val in range(min_val, max_val + 1):\n",
    "            if val in counts_map:\n",
    "                count = counts_map[val]\n",
    "                for _ in range(count):\n",
    "                    arr[index] = val\n",
    "                    index += 1\n",
    "\n",
    "    expected = heights[:]\n",
    "    counting_sort(expected)\n",
    "\n",
    "    return sum(h1 != h2 for h1, h2 in zip(heights, expected))"
   ],
   "id": "b36cd43c16ddda2d",
   "outputs": [],
   "execution_count": 3
  },
  {
   "metadata": {},
   "cell_type": "markdown",
   "source": [
    "### Understanding the Core Idea\n",
    "\n",
    "The core idea of this solution is to leverage the **Counting Sort** algorithm to efficiently sort the students' heights and then compare this sorted order with the original order to identify mismatches. \n",
    "\n",
    "- **Counting Sort:** A non-comparison-based sorting algorithm that excels when sorting integers within a known range. It works by counting the occurrences of each unique value and then reconstructing the sorted array based on these counts.\n",
    "- **In-Place Sorting:** The `counting_sort` function directly modifies the input array, eliminating the need for extra space to create a separate sorted copy.\n",
    "- **Zip for Comparison:** The `zip` function cleverly pairs corresponding elements from the original `heights` and the sorted `expected` lists, simplifying the comparison process.\n",
    "\n",
    "---\n",
    "### Code Walkthrough\n",
    "\n",
    "1.  **Counting Sort (Inner Function):**\n",
    "\n",
    "    -   `min_val, max_val = min(arr), max(arr)`: Finds the minimum and maximum heights in the array, defining the range for counting.\n",
    "    -   `counts_map = {}`: Creates an empty dictionary to store the counts of each height value.\n",
    "    -   `for num in arr`: Iterates through the `arr` (representing student heights), updating the count in `counts_map` for each height encountered.\n",
    "    -   `index = 0`: Initializes the index for placing elements back into the sorted array.\n",
    "    -   `for val in range(min_val, max_val + 1)`: Iterates through the possible height values within the established range.\n",
    "    -   `if val in counts_map`: If the current height value exists in the `counts_map`...\n",
    "        -   `count = counts_map[val]`: Retrieves the count of that height.\n",
    "        -   `for _ in range(count)`: Inserts the height value back into the `arr` at the current `index` position, repeating for the number of times it appears in the original array.\n",
    "        -   `index += 1`: Moves the index to the next position for the later height value.\n",
    "\n",
    "2.  **Main Function (heightChecker2):**\n",
    "\n",
    "    -   `expected = heights[:]`: Creates a shallow copy of the original `heights` list to avoid modifying the input.\n",
    "    -   `counting_sort(expected)`: Sorts the copied `expected` list in-place using the `counting_sort` function.\n",
    "    -   `return sum(h1 != h2 for h1, h2 in zip(heights, expected))`: Uses a generator expression with `zip` to iterate through pairs of heights from the original and sorted lists. The `sum` function efficiently counts the number of mismatches (where `h1 != h2`) and returns this count as the result.\n",
    "\n",
    "---\n",
    "\n",
    "### Complexity Analysis\n",
    "\n",
    "**Time Complexity:**\n",
    "\n",
    "-   $O(n + k)$, where *n* is the number of students (length of `heights`) and *k* is the range of possible heights.\n",
    "-   The `counting_sort` function takes O(n + k) time:\n",
    "    -   O(n) to iterate and count the occurrences of heights.\n",
    "    -   O(k) to iterate through the range of possible heights and reconstruct the sorted array.\n",
    "-   The copying of the `heights` list and the comparison loop both take linear time, O(n).\n",
    "-   Since *k* is often much smaller than *n* (due to the problem constraints), the overall time complexity is approximately linear.\n",
    "\n",
    "**Space Complexity:**\n",
    "\n",
    "-   $O(n + k)$, where *n* is the number of students and *k* is the range of possible heights.\n",
    "-   This space is used for:\n",
    "    -   The `expected` list copy, which takes O(n) space.\n",
    "    -   The `counts_map` dictionary, which in the worst case can store up to *k* different height values.\n",
    "-   Again, due to the problem constraints (*1 <= heights[i] <= 100*), the *k* factor is limited and does not significantly impact the space complexity."
   ],
   "id": "14ca557b62bceaca"
  },
  {
   "metadata": {},
   "cell_type": "markdown",
   "source": [
    "# June 11 -> 2. Problem\n",
    "\n",
    "(Problem Statement)"
   ],
   "id": "469332593efe6842"
  },
  {
   "metadata": {},
   "cell_type": "markdown",
   "source": "## Approach 1:",
   "id": "a07c877d504f287b"
  },
  {
   "metadata": {},
   "cell_type": "code",
   "outputs": [],
   "execution_count": 1,
   "source": [
    "def problem2_1():\n",
    "    pass"
   ],
   "id": "fe8d16a3ee3e8bf9"
  },
  {
   "metadata": {},
   "cell_type": "markdown",
   "source": "### Understanding the Core Idea",
   "id": "833dc15ea35a850"
  },
  {
   "metadata": {},
   "cell_type": "markdown",
   "source": "## Approach 2:",
   "id": "6b38b283e26deef4"
  },
  {
   "metadata": {},
   "cell_type": "code",
   "outputs": [],
   "execution_count": null,
   "source": [
    "def problem2_2():\n",
    "    pass"
   ],
   "id": "6b3b27c79b9c0a79"
  },
  {
   "metadata": {},
   "cell_type": "markdown",
   "source": "### Understanding the Core Idea",
   "id": "667cb25b6c276751"
  },
  {
   "metadata": {},
   "cell_type": "markdown",
   "source": [
    "# June 12 -> 3. Problem\n",
    "\n",
    "(Problem Statement)"
   ],
   "id": "f49c256db0edce0b"
  },
  {
   "metadata": {},
   "cell_type": "markdown",
   "source": "## Approach 1:",
   "id": "bed157676593f0a3"
  },
  {
   "metadata": {},
   "cell_type": "code",
   "outputs": [],
   "execution_count": null,
   "source": [
    "def problem3_1():\n",
    "    pass"
   ],
   "id": "baabe512745de9ca"
  },
  {
   "metadata": {},
   "cell_type": "markdown",
   "source": "### Understanding the Core Idea",
   "id": "1f9aca5c4cb6a2ae"
  },
  {
   "metadata": {},
   "cell_type": "markdown",
   "source": "## Approach 2:",
   "id": "1fedf088f9387ecd"
  },
  {
   "metadata": {},
   "cell_type": "code",
   "outputs": [],
   "execution_count": null,
   "source": [
    "def problem3_2():\n",
    "    pass"
   ],
   "id": "8e8bc76a65aef7cf"
  },
  {
   "metadata": {},
   "cell_type": "markdown",
   "source": "### Understanding the Core Idea",
   "id": "b2faee9851994701"
  },
  {
   "metadata": {},
   "cell_type": "markdown",
   "source": [
    "# June 13 -> 4. Problem\n",
    "\n",
    "(Problem Statement)"
   ],
   "id": "6d153d072254fcce"
  },
  {
   "metadata": {},
   "cell_type": "markdown",
   "source": "## Approach 1:",
   "id": "4a88a082b85db223"
  },
  {
   "metadata": {},
   "cell_type": "code",
   "outputs": [],
   "execution_count": null,
   "source": [
    "def problem4_1():\n",
    "    pass"
   ],
   "id": "8c4573a41d86fa2d"
  },
  {
   "metadata": {},
   "cell_type": "markdown",
   "source": "### Understanding the Core Idea",
   "id": "c5f3f2d70b05ff4f"
  },
  {
   "metadata": {},
   "cell_type": "markdown",
   "source": "## Approach 2:",
   "id": "4694ea35e2a8c41c"
  },
  {
   "metadata": {},
   "cell_type": "code",
   "outputs": [],
   "execution_count": null,
   "source": [
    "def problem4_2():\n",
    "    pass"
   ],
   "id": "aa8a45b725ee01a0"
  },
  {
   "metadata": {},
   "cell_type": "markdown",
   "source": "### Understanding the Core Idea",
   "id": "287aeabb2fd6634"
  },
  {
   "metadata": {},
   "cell_type": "markdown",
   "source": [
    "# June 14 -> 5. Problem\n",
    "\n",
    "(Problem Statement)"
   ],
   "id": "fac29cd388c2e058"
  },
  {
   "metadata": {},
   "cell_type": "markdown",
   "source": "## Approach 1:",
   "id": "748dd10f0fa9018e"
  },
  {
   "metadata": {},
   "cell_type": "code",
   "outputs": [],
   "execution_count": null,
   "source": [
    "def problem5_1():\n",
    "    pass"
   ],
   "id": "f0eeb1548b44bb4e"
  },
  {
   "metadata": {},
   "cell_type": "markdown",
   "source": "### Understanding the Core Idea",
   "id": "c9de0777a21beb55"
  },
  {
   "metadata": {},
   "cell_type": "markdown",
   "source": "## Approach 2:",
   "id": "38056cbc7a7b88dc"
  },
  {
   "metadata": {},
   "cell_type": "code",
   "outputs": [],
   "execution_count": null,
   "source": [
    "def problem5_2():\n",
    "    pass"
   ],
   "id": "26369eca4344f51f"
  },
  {
   "metadata": {},
   "cell_type": "markdown",
   "source": "### Understanding the Core Idea",
   "id": "108a83c7d8c3dd"
  },
  {
   "metadata": {},
   "cell_type": "markdown",
   "source": [
    "# June 15 -> 6. Problem\n",
    "\n",
    "(Problem Statement)"
   ],
   "id": "4db854c2ca3542a3"
  },
  {
   "metadata": {},
   "cell_type": "markdown",
   "source": "## Approach 1:",
   "id": "1aa2dec19683b458"
  },
  {
   "metadata": {},
   "cell_type": "code",
   "outputs": [],
   "execution_count": null,
   "source": [
    "def problem6_1():\n",
    "    pass"
   ],
   "id": "62fb8364ff0a4a"
  },
  {
   "metadata": {},
   "cell_type": "markdown",
   "source": "### Understanding the Core Idea",
   "id": "e2080ccc35d7c70c"
  },
  {
   "metadata": {},
   "cell_type": "markdown",
   "source": "## Approach 2:",
   "id": "62621ef50088fc1c"
  },
  {
   "metadata": {},
   "cell_type": "code",
   "outputs": [],
   "execution_count": null,
   "source": [
    "def problem6_2():\n",
    "    pass"
   ],
   "id": "fdf697c45eeaa4b8"
  },
  {
   "metadata": {},
   "cell_type": "markdown",
   "source": "### Understanding the Core Idea",
   "id": "aab8e55fe20bf3e2"
  },
  {
   "metadata": {},
   "cell_type": "markdown",
   "source": [
    "# June 16 -> 7. Problem\n",
    "\n",
    "(Problem Statement)"
   ],
   "id": "8e69b54a67cd78c3"
  },
  {
   "metadata": {},
   "cell_type": "markdown",
   "source": "## Approach 1:",
   "id": "e2b7c97fb0512700"
  },
  {
   "metadata": {},
   "cell_type": "code",
   "outputs": [],
   "execution_count": null,
   "source": [
    "def problem7_1():\n",
    "    pass"
   ],
   "id": "96ae4c77fc61bf2a"
  },
  {
   "metadata": {},
   "cell_type": "markdown",
   "source": "### Understanding the Core Idea",
   "id": "440524d06ea2d473"
  },
  {
   "metadata": {},
   "cell_type": "markdown",
   "source": "## Approach 2:",
   "id": "30c7423b2c40d35e"
  },
  {
   "metadata": {},
   "cell_type": "code",
   "outputs": [],
   "execution_count": null,
   "source": [
    "def problem7_2():\n",
    "    pass"
   ],
   "id": "41e6294aa046d1a6"
  },
  {
   "metadata": {},
   "cell_type": "markdown",
   "source": "### Understanding the Core Idea",
   "id": "bd3db7e5a7b41578"
  }
 ],
 "metadata": {
  "kernelspec": {
   "display_name": "Python 3",
   "language": "python",
   "name": "python3"
  },
  "language_info": {
   "codemirror_mode": {
    "name": "ipython",
    "version": 2
   },
   "file_extension": ".py",
   "mimetype": "text/x-python",
   "name": "python",
   "nbconvert_exporter": "python",
   "pygments_lexer": "ipython2",
   "version": "2.7.6"
  }
 },
 "nbformat": 4,
 "nbformat_minor": 5
}
