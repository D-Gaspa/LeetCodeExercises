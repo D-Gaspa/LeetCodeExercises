{
 "cells": [
  {
   "metadata": {},
   "cell_type": "markdown",
   "source": "# Week X: Month day th - Month day th, 2024",
   "id": "c727aa061296852f"
  },
  {
   "metadata": {},
   "cell_type": "markdown",
   "source": [
    "# Day X -> 1. Problem\n",
    "\n",
    "(Problem Statement)"
   ],
   "id": "352311861c6a18c0"
  },
  {
   "metadata": {},
   "cell_type": "markdown",
   "source": "## Approach 1: ",
   "id": "5b7294f9ef3a903d"
  },
  {
   "metadata": {},
   "cell_type": "code",
   "outputs": [],
   "execution_count": null,
   "source": [
    "def problem1_1():\n",
    "    pass"
   ],
   "id": "f495878da3d2b7d7"
  },
  {
   "metadata": {},
   "cell_type": "markdown",
   "source": "### Understanding the Core Idea",
   "id": "7c43dba6a7237b4f"
  },
  {
   "metadata": {},
   "cell_type": "markdown",
   "source": "## Approach 2:",
   "id": "594613288120139f"
  },
  {
   "metadata": {},
   "cell_type": "code",
   "outputs": [],
   "execution_count": null,
   "source": [
    "def problem1_2():\n",
    "    pass"
   ],
   "id": "8c7414dbee0c2c4d"
  },
  {
   "metadata": {},
   "cell_type": "markdown",
   "source": "### Understanding the Core Idea",
   "id": "87221ed7772cb6bf"
  },
  {
   "metadata": {},
   "cell_type": "markdown",
   "source": [
    "# Day X -> 2. Problem\n",
    "\n",
    "(Problem Statement)"
   ],
   "id": "d5776e4468832d4e"
  },
  {
   "metadata": {},
   "cell_type": "markdown",
   "source": "## Approach 1:",
   "id": "761b01b73c78041c"
  },
  {
   "metadata": {},
   "cell_type": "code",
   "outputs": [],
   "execution_count": 1,
   "source": [
    "def problem2_1():\n",
    "    pass"
   ],
   "id": "122e9d7ad422d82e"
  },
  {
   "metadata": {},
   "cell_type": "markdown",
   "source": "### Understanding the Core Idea",
   "id": "5771567d1473ab35"
  },
  {
   "metadata": {},
   "cell_type": "markdown",
   "source": "## Approach 2:",
   "id": "a4175d7de9d69ab2"
  },
  {
   "metadata": {},
   "cell_type": "code",
   "outputs": [],
   "execution_count": null,
   "source": [
    "def problem2_2():\n",
    "    pass"
   ],
   "id": "d8ab4f888a2b6c47"
  },
  {
   "metadata": {},
   "cell_type": "markdown",
   "source": "### Understanding the Core Idea",
   "id": "a6edf71c504462fa"
  },
  {
   "metadata": {},
   "cell_type": "markdown",
   "source": [
    "# Day X -> 3. Problem\n",
    "\n",
    "(Problem Statement)"
   ],
   "id": "d575b14ea05e215a"
  },
  {
   "metadata": {},
   "cell_type": "markdown",
   "source": "## Approach 1:",
   "id": "b56949857eb4bfd7"
  },
  {
   "metadata": {},
   "cell_type": "code",
   "outputs": [],
   "execution_count": null,
   "source": [
    "def problem3_1():\n",
    "    pass"
   ],
   "id": "4ca2413381dce1cb"
  },
  {
   "metadata": {},
   "cell_type": "markdown",
   "source": "### Understanding the Core Idea",
   "id": "316ca1b51f7e3f9e"
  },
  {
   "metadata": {},
   "cell_type": "markdown",
   "source": "## Approach 2:",
   "id": "2a2ff4ba06de84c3"
  },
  {
   "metadata": {},
   "cell_type": "code",
   "outputs": [],
   "execution_count": null,
   "source": [
    "def problem3_2():\n",
    "    pass"
   ],
   "id": "7acda1675dba4542"
  },
  {
   "metadata": {},
   "cell_type": "markdown",
   "source": "### Understanding the Core Idea",
   "id": "c5ce446dd953c617"
  },
  {
   "metadata": {},
   "cell_type": "markdown",
   "source": [
    "# Day X -> 4. Problem\n",
    "\n",
    "(Problem Statement)"
   ],
   "id": "a5ff36d6543e49a2"
  },
  {
   "metadata": {},
   "cell_type": "markdown",
   "source": "## Approach 1:",
   "id": "3d6f824323402ff8"
  },
  {
   "metadata": {},
   "cell_type": "code",
   "outputs": [],
   "execution_count": null,
   "source": [
    "def problem4_1():\n",
    "    pass"
   ],
   "id": "32972f20ad914222"
  },
  {
   "metadata": {},
   "cell_type": "markdown",
   "source": "### Understanding the Core Idea",
   "id": "f6fc083a93026b30"
  },
  {
   "metadata": {},
   "cell_type": "markdown",
   "source": "## Approach 2:",
   "id": "de0dabf1791590b1"
  },
  {
   "metadata": {},
   "cell_type": "code",
   "outputs": [],
   "execution_count": null,
   "source": [
    "def problem4_2():\n",
    "    pass"
   ],
   "id": "3404bdaf5d3e61"
  },
  {
   "metadata": {},
   "cell_type": "markdown",
   "source": "### Understanding the Core Idea",
   "id": "8d5b46890de0809a"
  },
  {
   "metadata": {},
   "cell_type": "markdown",
   "source": [
    "# Day X -> 5. Problem\n",
    "\n",
    "(Problem Statement)"
   ],
   "id": "4a7d9c5edd7c96c"
  },
  {
   "metadata": {},
   "cell_type": "markdown",
   "source": "## Approach 1:",
   "id": "ded8ae8e57820da6"
  },
  {
   "metadata": {},
   "cell_type": "code",
   "outputs": [],
   "execution_count": null,
   "source": [
    "def problem5_1():\n",
    "    pass"
   ],
   "id": "48a296eec8b45ac8"
  },
  {
   "metadata": {},
   "cell_type": "markdown",
   "source": "### Understanding the Core Idea",
   "id": "b216342ba496e8e8"
  },
  {
   "metadata": {},
   "cell_type": "markdown",
   "source": "## Approach 2:",
   "id": "3d2d31a222b4bbc5"
  },
  {
   "metadata": {},
   "cell_type": "code",
   "outputs": [],
   "execution_count": null,
   "source": [
    "def problem5_2():\n",
    "    pass"
   ],
   "id": "7d5ac8285bcf91b6"
  },
  {
   "metadata": {},
   "cell_type": "markdown",
   "source": "### Understanding the Core Idea",
   "id": "1c65099209622cec"
  },
  {
   "metadata": {},
   "cell_type": "markdown",
   "source": [
    "# Day X -> 6. Problem\n",
    "\n",
    "(Problem Statement)"
   ],
   "id": "3595ba45bffeba6d"
  },
  {
   "metadata": {},
   "cell_type": "markdown",
   "source": "## Approach 1:",
   "id": "10d3f5ffaebb64ea"
  },
  {
   "metadata": {},
   "cell_type": "code",
   "outputs": [],
   "execution_count": null,
   "source": [
    "def problem6_1():\n",
    "    pass"
   ],
   "id": "46a16aa1a6aa7f70"
  },
  {
   "metadata": {},
   "cell_type": "markdown",
   "source": "### Understanding the Core Idea",
   "id": "9aafae975008f4c2"
  },
  {
   "metadata": {},
   "cell_type": "markdown",
   "source": "## Approach 2:",
   "id": "855c98508a1cf499"
  },
  {
   "metadata": {},
   "cell_type": "code",
   "outputs": [],
   "execution_count": null,
   "source": [
    "def problem6_2():\n",
    "    pass"
   ],
   "id": "e22df0692cb48c2d"
  },
  {
   "metadata": {},
   "cell_type": "markdown",
   "source": "### Understanding the Core Idea",
   "id": "c51e0f165b22fae4"
  },
  {
   "metadata": {},
   "cell_type": "markdown",
   "source": [
    "# Day X -> 7. Problem\n",
    "\n",
    "(Problem Statement)"
   ],
   "id": "8e86b6ab59a9e141"
  },
  {
   "metadata": {},
   "cell_type": "markdown",
   "source": "## Approach 1:",
   "id": "7723a535707f7ea3"
  },
  {
   "metadata": {},
   "cell_type": "code",
   "outputs": [],
   "execution_count": null,
   "source": [
    "def problem7_1():\n",
    "    pass"
   ],
   "id": "4ebdd436b8314f07"
  },
  {
   "metadata": {},
   "cell_type": "markdown",
   "source": "### Understanding the Core Idea",
   "id": "edc41af746fd2292"
  },
  {
   "metadata": {},
   "cell_type": "markdown",
   "source": "## Approach 2:",
   "id": "c717f2dc5e6b9c03"
  },
  {
   "metadata": {},
   "cell_type": "code",
   "outputs": [],
   "execution_count": null,
   "source": [
    "def problem7_2():\n",
    "    pass"
   ],
   "id": "c4e29b623caf93d6"
  },
  {
   "metadata": {},
   "cell_type": "markdown",
   "source": "### Understanding the Core Idea",
   "id": "9d2497c91537a8cc"
  }
 ],
 "metadata": {
  "kernelspec": {
   "display_name": "Python 3",
   "language": "python",
   "name": "python3"
  },
  "language_info": {
   "codemirror_mode": {
    "name": "ipython",
    "version": 2
   },
   "file_extension": ".py",
   "mimetype": "text/x-python",
   "name": "python",
   "nbconvert_exporter": "python",
   "pygments_lexer": "ipython2",
   "version": "2.7.6"
  }
 },
 "nbformat": 4,
 "nbformat_minor": 5
}
