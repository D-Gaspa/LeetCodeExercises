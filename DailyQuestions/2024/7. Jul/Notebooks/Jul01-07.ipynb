{
 "cells": [
  {
   "metadata": {},
   "cell_type": "markdown",
   "source": "# Week X: Month day th - Month day th, 2024",
   "id": "8f75fab1a4dfe263"
  },
  {
   "metadata": {},
   "cell_type": "markdown",
   "source": [
    "# Day X -> 1. Problem\n",
    "\n",
    "(Problem Statement)"
   ],
   "id": "8d38657694685d40"
  },
  {
   "metadata": {},
   "cell_type": "markdown",
   "source": "## Approach 1: ",
   "id": "950147bd5e802aca"
  },
  {
   "metadata": {},
   "cell_type": "code",
   "outputs": [],
   "execution_count": null,
   "source": [
    "def problem1_1():\n",
    "    pass"
   ],
   "id": "5689eb96a8988933"
  },
  {
   "metadata": {},
   "cell_type": "markdown",
   "source": "### Understanding the Core Idea",
   "id": "fa560c3f78581b39"
  },
  {
   "metadata": {},
   "cell_type": "markdown",
   "source": "## Approach 2:",
   "id": "560b2814f2a97754"
  },
  {
   "metadata": {},
   "cell_type": "code",
   "outputs": [],
   "execution_count": null,
   "source": [
    "def problem1_2():\n",
    "    pass"
   ],
   "id": "91564c17998cee0"
  },
  {
   "metadata": {},
   "cell_type": "markdown",
   "source": "### Understanding the Core Idea",
   "id": "bc8013fd7c2cc2dd"
  },
  {
   "metadata": {},
   "cell_type": "markdown",
   "source": [
    "# Day X -> 2. Problem\n",
    "\n",
    "(Problem Statement)"
   ],
   "id": "c13de013e3f96152"
  },
  {
   "metadata": {},
   "cell_type": "markdown",
   "source": "## Approach 1:",
   "id": "1a14a04651581cf"
  },
  {
   "metadata": {},
   "cell_type": "code",
   "outputs": [],
   "execution_count": 1,
   "source": [
    "def problem2_1():\n",
    "    pass"
   ],
   "id": "e31a69ecf115ca"
  },
  {
   "metadata": {},
   "cell_type": "markdown",
   "source": "### Understanding the Core Idea",
   "id": "328514653dfc357d"
  },
  {
   "metadata": {},
   "cell_type": "markdown",
   "source": "## Approach 2:",
   "id": "a1c5b437524a62a4"
  },
  {
   "metadata": {},
   "cell_type": "code",
   "outputs": [],
   "execution_count": null,
   "source": [
    "def problem2_2():\n",
    "    pass"
   ],
   "id": "5f9a4b8b0169b997"
  },
  {
   "metadata": {},
   "cell_type": "markdown",
   "source": "### Understanding the Core Idea",
   "id": "868743c8ce011758"
  },
  {
   "metadata": {},
   "cell_type": "markdown",
   "source": [
    "# Day X -> 3. Problem\n",
    "\n",
    "(Problem Statement)"
   ],
   "id": "dd3608d1cf63b420"
  },
  {
   "metadata": {},
   "cell_type": "markdown",
   "source": "## Approach 1:",
   "id": "f7c9a4aa7154f83d"
  },
  {
   "metadata": {},
   "cell_type": "code",
   "outputs": [],
   "execution_count": null,
   "source": [
    "def problem3_1():\n",
    "    pass"
   ],
   "id": "7b255088a604643c"
  },
  {
   "metadata": {},
   "cell_type": "markdown",
   "source": "### Understanding the Core Idea",
   "id": "7333230d2710151b"
  },
  {
   "metadata": {},
   "cell_type": "markdown",
   "source": "## Approach 2:",
   "id": "a299a48d064d1d30"
  },
  {
   "metadata": {},
   "cell_type": "code",
   "outputs": [],
   "execution_count": null,
   "source": [
    "def problem3_2():\n",
    "    pass"
   ],
   "id": "ae2eedc8e51ec000"
  },
  {
   "metadata": {},
   "cell_type": "markdown",
   "source": "### Understanding the Core Idea",
   "id": "cba0c9ae0b39100e"
  },
  {
   "metadata": {},
   "cell_type": "markdown",
   "source": [
    "# Day X -> 4. Problem\n",
    "\n",
    "(Problem Statement)"
   ],
   "id": "d10311801fd07372"
  },
  {
   "metadata": {},
   "cell_type": "markdown",
   "source": "## Approach 1:",
   "id": "ca0f62725035255c"
  },
  {
   "metadata": {},
   "cell_type": "code",
   "outputs": [],
   "execution_count": null,
   "source": [
    "def problem4_1():\n",
    "    pass"
   ],
   "id": "dba79f788a2a06a"
  },
  {
   "metadata": {},
   "cell_type": "markdown",
   "source": "### Understanding the Core Idea",
   "id": "16482d9667c3038f"
  },
  {
   "metadata": {},
   "cell_type": "markdown",
   "source": "## Approach 2:",
   "id": "c0f75226291b597f"
  },
  {
   "metadata": {},
   "cell_type": "code",
   "outputs": [],
   "execution_count": null,
   "source": [
    "def problem4_2():\n",
    "    pass"
   ],
   "id": "e40e6ce207eac150"
  },
  {
   "metadata": {},
   "cell_type": "markdown",
   "source": "### Understanding the Core Idea",
   "id": "5a15e0abbe3e219c"
  },
  {
   "metadata": {},
   "cell_type": "markdown",
   "source": [
    "# Day X -> 5. Problem\n",
    "\n",
    "(Problem Statement)"
   ],
   "id": "aca396eaaca3b8da"
  },
  {
   "metadata": {},
   "cell_type": "markdown",
   "source": "## Approach 1:",
   "id": "ddecc69d3dd73680"
  },
  {
   "metadata": {},
   "cell_type": "code",
   "outputs": [],
   "execution_count": null,
   "source": [
    "def problem5_1():\n",
    "    pass"
   ],
   "id": "c92acbc810c518cb"
  },
  {
   "metadata": {},
   "cell_type": "markdown",
   "source": "### Understanding the Core Idea",
   "id": "34805d2fb7e77110"
  },
  {
   "metadata": {},
   "cell_type": "markdown",
   "source": "## Approach 2:",
   "id": "847bb5b7635bf1d9"
  },
  {
   "metadata": {},
   "cell_type": "code",
   "outputs": [],
   "execution_count": null,
   "source": [
    "def problem5_2():\n",
    "    pass"
   ],
   "id": "c11c962c2f7c4afb"
  },
  {
   "metadata": {},
   "cell_type": "markdown",
   "source": "### Understanding the Core Idea",
   "id": "ba4792664f30a9fd"
  },
  {
   "metadata": {},
   "cell_type": "markdown",
   "source": [
    "# Day X -> 6. Problem\n",
    "\n",
    "(Problem Statement)"
   ],
   "id": "ff4d6968648d5292"
  },
  {
   "metadata": {},
   "cell_type": "markdown",
   "source": "## Approach 1:",
   "id": "85b88bede55fb63e"
  },
  {
   "metadata": {},
   "cell_type": "code",
   "outputs": [],
   "execution_count": null,
   "source": [
    "def problem6_1():\n",
    "    pass"
   ],
   "id": "dc5ff65272ec0eff"
  },
  {
   "metadata": {},
   "cell_type": "markdown",
   "source": "### Understanding the Core Idea",
   "id": "4a44748fcd52507d"
  },
  {
   "metadata": {},
   "cell_type": "markdown",
   "source": "## Approach 2:",
   "id": "8615f458d150b377"
  },
  {
   "metadata": {},
   "cell_type": "code",
   "outputs": [],
   "execution_count": null,
   "source": [
    "def problem6_2():\n",
    "    pass"
   ],
   "id": "5d8964db0b67160a"
  },
  {
   "metadata": {},
   "cell_type": "markdown",
   "source": "### Understanding the Core Idea",
   "id": "a828cf752cd7e67d"
  },
  {
   "metadata": {},
   "cell_type": "markdown",
   "source": [
    "# Day X -> 7. Problem\n",
    "\n",
    "(Problem Statement)"
   ],
   "id": "ca4d4a421837e71f"
  },
  {
   "metadata": {},
   "cell_type": "markdown",
   "source": "## Approach 1:",
   "id": "9ee2f8c96a465b36"
  },
  {
   "metadata": {},
   "cell_type": "code",
   "outputs": [],
   "execution_count": null,
   "source": [
    "def problem7_1():\n",
    "    pass"
   ],
   "id": "df77254ab5b2214f"
  },
  {
   "metadata": {},
   "cell_type": "markdown",
   "source": "### Understanding the Core Idea",
   "id": "92bfe81bf9670b75"
  },
  {
   "metadata": {},
   "cell_type": "markdown",
   "source": "## Approach 2:",
   "id": "9f1c9d1b10b36ca5"
  },
  {
   "metadata": {},
   "cell_type": "code",
   "outputs": [],
   "execution_count": null,
   "source": [
    "def problem7_2():\n",
    "    pass"
   ],
   "id": "8ec48e1340185b12"
  },
  {
   "metadata": {},
   "cell_type": "markdown",
   "source": "### Understanding the Core Idea",
   "id": "da0153716234ef0f"
  }
 ],
 "metadata": {
  "kernelspec": {
   "display_name": "Python 3",
   "language": "python",
   "name": "python3"
  },
  "language_info": {
   "codemirror_mode": {
    "name": "ipython",
    "version": 2
   },
   "file_extension": ".py",
   "mimetype": "text/x-python",
   "name": "python",
   "nbconvert_exporter": "python",
   "pygments_lexer": "ipython2",
   "version": "2.7.6"
  }
 },
 "nbformat": 4,
 "nbformat_minor": 5
}
